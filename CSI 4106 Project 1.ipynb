{
 "cells": [
  {
   "cell_type": "markdown",
   "id": "4629b0b3",
   "metadata": {},
   "source": [
    "# CSI 4106 - Introduction to Artificial Intelligence\n",
    "## Taught by: Dr. Caroline Barrière\n",
    "\n",
    "\n",
    "## PROJECT 1 - Classification Empirical Study\n",
    "## Title: Pistachio Classification\n",
    "\n",
    "### By: Muhammed Melik Izol (300043365), Eric Dam (300012511)\n",
    "### Group Number: 98\n",
    "\n",
    "### Dataset used:\n",
    "https://www.kaggle.com/datasets/muratkokludataset/pistachio-image-dataset\n"
   ]
  },
  {
   "cell_type": "markdown",
   "id": "3f639275",
   "metadata": {},
   "source": [
    "# Section 0: Introduction\n",
    "\n",
    "Pistachios are a type of cashew and are seeds of pistachio trees.\n",
    "They originate from Central to Western Asia and are typically used in sweets such as baklava. "
   ]
  },
  {
   "cell_type": "markdown",
   "id": "15eb1685",
   "metadata": {},
   "source": [
    "<img src=\"pistachio_tree.jpg\"/>\n",
    "Figure 1: Pistachio Tree"
   ]
  },
  {
   "cell_type": "markdown",
   "id": "d5d631de",
   "metadata": {},
   "source": [
    "<img src=\"pistachio_branch.jpg\"/>\n",
    "Figure 2: Pistachios in a branch"
   ]
  },
  {
   "cell_type": "markdown",
   "id": "e6747aa8",
   "metadata": {},
   "source": [
    "Pistachios have 4 layers to them. \n",
    "- outer skin/soft hull (mesocarp)\n",
    "- hard shell (endocarp)\n",
    "- seed coat (testa)\n",
    "- seed (kernel) \n",
    "<img src=\"pistachio_layers.jpg\"/>\n",
    "Figure 3: Pistachio Layers\n"
   ]
  },
  {
   "cell_type": "markdown",
   "id": "5b3a6c3b",
   "metadata": {},
   "source": [
    "In this notebook, we will look at two types of pistachios:\n",
    "- The Siirt Pistachios from Siirt Province located in Eastern Turkey\n",
    "- The Kirmizi Pistachios from Gaziantep/Sanliurfa Provinces located in South Eastern Turkey \n",
    "\n",
    "The differences between these two types of pistachios are their shape, size and the colour of their outer skin.\n",
    "\n",
    "Siirt pistachios are typically larger in size, more round/circular in shape, and have yellow outer skins. \n",
    "\n",
    "Kirmizi pistachios are smaller in size, more slim/cylindrical in shape and have red outer skins. \n",
    "\n",
    "(Fun fact: Kirmizi means \"red\" in Turkish)\n"
   ]
  },
  {
   "cell_type": "markdown",
   "id": "944b91c6",
   "metadata": {},
   "source": [
    "<img src=\"siirt_outer_skin.jpg\"/>\n",
    "Figure 4: Siirt Pistachios with and without their outer skin"
   ]
  },
  {
   "cell_type": "markdown",
   "id": "64bfa18a",
   "metadata": {},
   "source": [
    "\n",
    "<img src=\"kirmizi_outer_skin.jpg\"/>\n",
    "Figure 5: Kirmizi Pistachios with and without their outer skin"
   ]
  },
  {
   "cell_type": "markdown",
   "id": "bc408c24",
   "metadata": {},
   "source": [
    "# Section 1: Understanding the classification for the dataset\n",
    "\n",
    "## a) Classification Type:\n",
    "The classification is a Binary Classification since there are 2 categories to classify the pistachios as with the given data. The 2 types of pistachios in this dataset are Kirmizi Pistachios and Siirt Pistachios. \n",
    "\n",
    "## b) What is the goal? Is this for a particular application? \n",
    "The first goal of this project is to familiarize ourselves with various machine learning methods and learn how to do an Emprical Study on a given dataset. \n",
    "\n",
    "The goal in picking this particular dataset was:\n",
    "- To see the application of data analysis/science and machine learning in farming.  \n",
    "- To get exposed to image classification on the surface. \n",
    "- Curiosity as the family of one of the team members has a pistachio tree farm in Sanliurfa Province of Turkey \n",
    "\n",
    "This dataset has provided us with images as well as an excel file with pre-defined features and data on the features of the given images. This has given us the option to pick and choose which we would like to use. We were both interested in image classification but following the advice of Dr. Barrière, we opted to use a dataset where both the features and the images were provided. This way we can see how features and data with numbers are produced from an image without having to do the complex work ourselves. "
   ]
  },
  {
   "cell_type": "code",
   "execution_count": 1,
   "id": "6dc0bbbd",
   "metadata": {},
   "outputs": [],
   "source": [
    "# General imports of libraries/packages\n",
    "import pandas as pd\n",
    "import matplotlib.pyplot as plt\n",
    "import numpy as np\n",
    "import math\n",
    "\n",
    "\n",
    "# imported for chart colourings\n",
    "from matplotlib.patches import Patch\n",
    "\n",
    "\n",
    "# imported to discretize data\n",
    "from sklearn.preprocessing import KBinsDiscretizer\n",
    "\n",
    "\n",
    "# imported to scale data\n",
    "from sklearn.preprocessing import StandardScaler\n",
    "\n",
    "\n",
    "# imported to measure accuracy score of models\n",
    "from sklearn.metrics import accuracy_score\n",
    "\n",
    "\n",
    "# imported to perform test/train splits on data\n",
    "from sklearn.model_selection import train_test_split\n",
    "\n",
    "\n",
    "# Cross Validation imports\n",
    "from sklearn.model_selection import StratifiedKFold\n",
    "\n",
    "\n",
    "# Naive Bayes imports\n",
    "from sklearn.naive_bayes import CategoricalNB\n",
    "from sklearn.naive_bayes import ComplementNB\n",
    "\n",
    "\n",
    "# Logistic Regression imports\n",
    "from sklearn.linear_model import LogisticRegression\n",
    "\n",
    "\n",
    "# Multi-Layer Perceptron imports\n",
    "from sklearn.neural_network import MLPClassifier\n",
    "\n",
    "\n",
    "# L2 error imports\n",
    "from sklearn.metrics import mean_squared_error\n",
    "\n",
    "# Precision/Recall imports\n",
    "from sklearn.metrics import precision_score\n",
    "from sklearn.metrics import recall_score\n",
    "\n",
    "# Confusion Matrix imports\n",
    "from sklearn.metrics import confusion_matrix\n",
    "from sklearn.metrics import multilabel_confusion_matrix\n",
    "from sklearn.metrics import ConfusionMatrixDisplay"
   ]
  },
  {
   "cell_type": "code",
   "execution_count": 2,
   "id": "c6c0e4d6",
   "metadata": {},
   "outputs": [],
   "source": [
    "# Setting the max number of columns that gets displayed to 30\n",
    "pd.set_option('display.max_columns', 30)\n",
    "pd.set_option('display.max_rows', 10)"
   ]
  },
  {
   "cell_type": "code",
   "execution_count": 3,
   "id": "31d3c2bf",
   "metadata": {},
   "outputs": [],
   "source": [
    "# reading the dataset\n",
    "df = pd.read_excel(\"Pistachio_28_Features_Dataset.xlsx\")"
   ]
  },
  {
   "cell_type": "markdown",
   "id": "a52e99f9",
   "metadata": {},
   "source": [
    "# Section 2: Analysis of Dataset\n",
    "\n",
    "There are two data sets that we can use. One has 28 features available the other has 16 features available. \n",
    "\n",
    "We picked the 28 feature data set as it already encompasses the 16 features and pixel RGB information on top of it. We can always take out features we don't need if necessary. "
   ]
  },
  {
   "cell_type": "code",
   "execution_count": 4,
   "id": "2fd71056",
   "metadata": {},
   "outputs": [
    {
     "data": {
      "text/html": [
       "<div>\n",
       "<style scoped>\n",
       "    .dataframe tbody tr th:only-of-type {\n",
       "        vertical-align: middle;\n",
       "    }\n",
       "\n",
       "    .dataframe tbody tr th {\n",
       "        vertical-align: top;\n",
       "    }\n",
       "\n",
       "    .dataframe thead th {\n",
       "        text-align: right;\n",
       "    }\n",
       "</style>\n",
       "<table border=\"1\" class=\"dataframe\">\n",
       "  <thead>\n",
       "    <tr style=\"text-align: right;\">\n",
       "      <th></th>\n",
       "      <th>Area</th>\n",
       "      <th>Perimeter</th>\n",
       "      <th>Major_Axis</th>\n",
       "      <th>Minor_Axis</th>\n",
       "      <th>Eccentricity</th>\n",
       "      <th>Eqdiasq</th>\n",
       "      <th>Solidity</th>\n",
       "      <th>Convex_Area</th>\n",
       "      <th>Extent</th>\n",
       "      <th>Aspect_Ratio</th>\n",
       "      <th>Roundness</th>\n",
       "      <th>Compactness</th>\n",
       "      <th>Shapefactor_1</th>\n",
       "      <th>Shapefactor_2</th>\n",
       "      <th>Shapefactor_3</th>\n",
       "      <th>Shapefactor_4</th>\n",
       "      <th>Mean_RR</th>\n",
       "      <th>Mean_RG</th>\n",
       "      <th>Mean_RB</th>\n",
       "      <th>StdDev_RR</th>\n",
       "      <th>StdDev_RG</th>\n",
       "      <th>StdDev_RB</th>\n",
       "      <th>Skew_RR</th>\n",
       "      <th>Skew_RG</th>\n",
       "      <th>Skew_RB</th>\n",
       "      <th>Kurtosis_RR</th>\n",
       "      <th>Kurtosis_RG</th>\n",
       "      <th>Kurtosis_RB</th>\n",
       "      <th>Class</th>\n",
       "    </tr>\n",
       "  </thead>\n",
       "  <tbody>\n",
       "    <tr>\n",
       "      <th>0</th>\n",
       "      <td>63391</td>\n",
       "      <td>1568.405</td>\n",
       "      <td>390.3396</td>\n",
       "      <td>236.7461</td>\n",
       "      <td>0.7951</td>\n",
       "      <td>284.0984</td>\n",
       "      <td>0.8665</td>\n",
       "      <td>73160</td>\n",
       "      <td>0.6394</td>\n",
       "      <td>1.6488</td>\n",
       "      <td>0.3238</td>\n",
       "      <td>0.7278</td>\n",
       "      <td>0.0062</td>\n",
       "      <td>0.0037</td>\n",
       "      <td>0.5297</td>\n",
       "      <td>0.8734</td>\n",
       "      <td>195.9932</td>\n",
       "      <td>180.2673</td>\n",
       "      <td>165.3167</td>\n",
       "      <td>17.7206</td>\n",
       "      <td>19.6024</td>\n",
       "      <td>21.1342</td>\n",
       "      <td>0.4581</td>\n",
       "      <td>0.6635</td>\n",
       "      <td>0.7591</td>\n",
       "      <td>2.9692</td>\n",
       "      <td>3.0576</td>\n",
       "      <td>2.9542</td>\n",
       "      <td>Kirmizi_Pistachio</td>\n",
       "    </tr>\n",
       "    <tr>\n",
       "      <th>1</th>\n",
       "      <td>68358</td>\n",
       "      <td>1942.187</td>\n",
       "      <td>410.8594</td>\n",
       "      <td>234.7525</td>\n",
       "      <td>0.8207</td>\n",
       "      <td>295.0188</td>\n",
       "      <td>0.8765</td>\n",
       "      <td>77991</td>\n",
       "      <td>0.6772</td>\n",
       "      <td>1.7502</td>\n",
       "      <td>0.2277</td>\n",
       "      <td>0.7181</td>\n",
       "      <td>0.0060</td>\n",
       "      <td>0.0034</td>\n",
       "      <td>0.5156</td>\n",
       "      <td>0.9024</td>\n",
       "      <td>222.5941</td>\n",
       "      <td>208.6210</td>\n",
       "      <td>187.3744</td>\n",
       "      <td>26.7061</td>\n",
       "      <td>27.2112</td>\n",
       "      <td>25.1035</td>\n",
       "      <td>-0.3847</td>\n",
       "      <td>-0.2713</td>\n",
       "      <td>-0.2927</td>\n",
       "      <td>1.9807</td>\n",
       "      <td>2.1006</td>\n",
       "      <td>2.2152</td>\n",
       "      <td>Kirmizi_Pistachio</td>\n",
       "    </tr>\n",
       "    <tr>\n",
       "      <th>2</th>\n",
       "      <td>73589</td>\n",
       "      <td>1246.538</td>\n",
       "      <td>452.3630</td>\n",
       "      <td>220.5547</td>\n",
       "      <td>0.8731</td>\n",
       "      <td>306.0987</td>\n",
       "      <td>0.9172</td>\n",
       "      <td>80234</td>\n",
       "      <td>0.7127</td>\n",
       "      <td>2.0510</td>\n",
       "      <td>0.5951</td>\n",
       "      <td>0.6767</td>\n",
       "      <td>0.0061</td>\n",
       "      <td>0.0030</td>\n",
       "      <td>0.4579</td>\n",
       "      <td>0.9391</td>\n",
       "      <td>213.3581</td>\n",
       "      <td>202.9122</td>\n",
       "      <td>187.7118</td>\n",
       "      <td>19.0129</td>\n",
       "      <td>20.0703</td>\n",
       "      <td>20.7006</td>\n",
       "      <td>-0.6014</td>\n",
       "      <td>-0.4500</td>\n",
       "      <td>0.2998</td>\n",
       "      <td>3.5420</td>\n",
       "      <td>3.6856</td>\n",
       "      <td>4.1012</td>\n",
       "      <td>Kirmizi_Pistachio</td>\n",
       "    </tr>\n",
       "    <tr>\n",
       "      <th>3</th>\n",
       "      <td>71106</td>\n",
       "      <td>1445.261</td>\n",
       "      <td>429.5291</td>\n",
       "      <td>216.0765</td>\n",
       "      <td>0.8643</td>\n",
       "      <td>300.8903</td>\n",
       "      <td>0.9589</td>\n",
       "      <td>74153</td>\n",
       "      <td>0.7028</td>\n",
       "      <td>1.9879</td>\n",
       "      <td>0.4278</td>\n",
       "      <td>0.7005</td>\n",
       "      <td>0.0060</td>\n",
       "      <td>0.0030</td>\n",
       "      <td>0.4907</td>\n",
       "      <td>0.9755</td>\n",
       "      <td>211.8630</td>\n",
       "      <td>205.4264</td>\n",
       "      <td>187.9537</td>\n",
       "      <td>18.1773</td>\n",
       "      <td>18.7152</td>\n",
       "      <td>29.7883</td>\n",
       "      <td>-0.6943</td>\n",
       "      <td>-0.6278</td>\n",
       "      <td>-0.7798</td>\n",
       "      <td>2.8776</td>\n",
       "      <td>2.8748</td>\n",
       "      <td>2.8953</td>\n",
       "      <td>Kirmizi_Pistachio</td>\n",
       "    </tr>\n",
       "    <tr>\n",
       "      <th>4</th>\n",
       "      <td>80087</td>\n",
       "      <td>1251.524</td>\n",
       "      <td>469.3783</td>\n",
       "      <td>220.9344</td>\n",
       "      <td>0.8823</td>\n",
       "      <td>319.3273</td>\n",
       "      <td>0.9657</td>\n",
       "      <td>82929</td>\n",
       "      <td>0.7459</td>\n",
       "      <td>2.1245</td>\n",
       "      <td>0.6425</td>\n",
       "      <td>0.6803</td>\n",
       "      <td>0.0059</td>\n",
       "      <td>0.0028</td>\n",
       "      <td>0.4628</td>\n",
       "      <td>0.9833</td>\n",
       "      <td>229.5648</td>\n",
       "      <td>217.5896</td>\n",
       "      <td>194.4906</td>\n",
       "      <td>23.4298</td>\n",
       "      <td>24.0878</td>\n",
       "      <td>23.1157</td>\n",
       "      <td>-0.9287</td>\n",
       "      <td>-0.8134</td>\n",
       "      <td>-0.4970</td>\n",
       "      <td>2.9915</td>\n",
       "      <td>2.8813</td>\n",
       "      <td>2.7362</td>\n",
       "      <td>Kirmizi_Pistachio</td>\n",
       "    </tr>\n",
       "  </tbody>\n",
       "</table>\n",
       "</div>"
      ],
      "text/plain": [
       "    Area  Perimeter  Major_Axis  Minor_Axis  Eccentricity   Eqdiasq  Solidity  \\\n",
       "0  63391   1568.405    390.3396    236.7461        0.7951  284.0984    0.8665   \n",
       "1  68358   1942.187    410.8594    234.7525        0.8207  295.0188    0.8765   \n",
       "2  73589   1246.538    452.3630    220.5547        0.8731  306.0987    0.9172   \n",
       "3  71106   1445.261    429.5291    216.0765        0.8643  300.8903    0.9589   \n",
       "4  80087   1251.524    469.3783    220.9344        0.8823  319.3273    0.9657   \n",
       "\n",
       "   Convex_Area  Extent  Aspect_Ratio  Roundness  Compactness  Shapefactor_1  \\\n",
       "0        73160  0.6394        1.6488     0.3238       0.7278         0.0062   \n",
       "1        77991  0.6772        1.7502     0.2277       0.7181         0.0060   \n",
       "2        80234  0.7127        2.0510     0.5951       0.6767         0.0061   \n",
       "3        74153  0.7028        1.9879     0.4278       0.7005         0.0060   \n",
       "4        82929  0.7459        2.1245     0.6425       0.6803         0.0059   \n",
       "\n",
       "   Shapefactor_2  Shapefactor_3  Shapefactor_4   Mean_RR   Mean_RG   Mean_RB  \\\n",
       "0         0.0037         0.5297         0.8734  195.9932  180.2673  165.3167   \n",
       "1         0.0034         0.5156         0.9024  222.5941  208.6210  187.3744   \n",
       "2         0.0030         0.4579         0.9391  213.3581  202.9122  187.7118   \n",
       "3         0.0030         0.4907         0.9755  211.8630  205.4264  187.9537   \n",
       "4         0.0028         0.4628         0.9833  229.5648  217.5896  194.4906   \n",
       "\n",
       "   StdDev_RR  StdDev_RG  StdDev_RB  Skew_RR  Skew_RG  Skew_RB  Kurtosis_RR  \\\n",
       "0    17.7206    19.6024    21.1342   0.4581   0.6635   0.7591       2.9692   \n",
       "1    26.7061    27.2112    25.1035  -0.3847  -0.2713  -0.2927       1.9807   \n",
       "2    19.0129    20.0703    20.7006  -0.6014  -0.4500   0.2998       3.5420   \n",
       "3    18.1773    18.7152    29.7883  -0.6943  -0.6278  -0.7798       2.8776   \n",
       "4    23.4298    24.0878    23.1157  -0.9287  -0.8134  -0.4970       2.9915   \n",
       "\n",
       "   Kurtosis_RG  Kurtosis_RB              Class  \n",
       "0       3.0576       2.9542  Kirmizi_Pistachio  \n",
       "1       2.1006       2.2152  Kirmizi_Pistachio  \n",
       "2       3.6856       4.1012  Kirmizi_Pistachio  \n",
       "3       2.8748       2.8953  Kirmizi_Pistachio  \n",
       "4       2.8813       2.7362  Kirmizi_Pistachio  "
      ]
     },
     "execution_count": 4,
     "metadata": {},
     "output_type": "execute_result"
    }
   ],
   "source": [
    "# Seeing what the data looks like\n",
    "df.head()"
   ]
  },
  {
   "cell_type": "markdown",
   "id": "a6e59656",
   "metadata": {},
   "source": [
    "### Checking general information of dataframe\n",
    "- It can be seen that there are no null values and so no missing data in the dataset which is good.\n",
    "\n",
    "- The dataset has 29 columns in total, numbered 0-28. One of which called \"Class\" is the classification column. The remaining 28 columns are all features of the dataset. \n",
    "\n",
    "- The data type of the features are all float with the exception of \"Area\" and \"Convex_Area\" columns, which are int. \n",
    "\n",
    "- Looking through the data, it is clear that all the features are continuous\n",
    "\n",
    "- As mentioned earlier, this is a binary classification since there are only two types of pistachios in the dataset which are Kirmizi Pistachios and Siirt Pistachios. \n",
    "\n",
    "- There are a total of 2148 images present in the dataset, each corresponding to one row of data. \n",
    "\n",
    "- Out of these 2148 rows of data, 1232 belong to Kirmizi Pistachios and 916 belong to Siirt Pistachios. \n",
    "\n",
    "- Kirmizi Pistachios make up about 57.4% of the data and Siirt Pistachios make up about 42.6% of the data, which means our data is imbalanced"
   ]
  },
  {
   "cell_type": "code",
   "execution_count": 5,
   "id": "37b9735b",
   "metadata": {},
   "outputs": [
    {
     "name": "stdout",
     "output_type": "stream",
     "text": [
      "<class 'pandas.core.frame.DataFrame'>\n",
      "RangeIndex: 2148 entries, 0 to 2147\n",
      "Data columns (total 29 columns):\n",
      " #   Column         Non-Null Count  Dtype  \n",
      "---  ------         --------------  -----  \n",
      " 0   Area           2148 non-null   int64  \n",
      " 1   Perimeter      2148 non-null   float64\n",
      " 2   Major_Axis     2148 non-null   float64\n",
      " 3   Minor_Axis     2148 non-null   float64\n",
      " 4   Eccentricity   2148 non-null   float64\n",
      " 5   Eqdiasq        2148 non-null   float64\n",
      " 6   Solidity       2148 non-null   float64\n",
      " 7   Convex_Area    2148 non-null   int64  \n",
      " 8   Extent         2148 non-null   float64\n",
      " 9   Aspect_Ratio   2148 non-null   float64\n",
      " 10  Roundness      2148 non-null   float64\n",
      " 11  Compactness    2148 non-null   float64\n",
      " 12  Shapefactor_1  2148 non-null   float64\n",
      " 13  Shapefactor_2  2148 non-null   float64\n",
      " 14  Shapefactor_3  2148 non-null   float64\n",
      " 15  Shapefactor_4  2148 non-null   float64\n",
      " 16  Mean_RR        2148 non-null   float64\n",
      " 17  Mean_RG        2148 non-null   float64\n",
      " 18  Mean_RB        2148 non-null   float64\n",
      " 19  StdDev_RR      2148 non-null   float64\n",
      " 20  StdDev_RG      2148 non-null   float64\n",
      " 21  StdDev_RB      2148 non-null   float64\n",
      " 22  Skew_RR        2148 non-null   float64\n",
      " 23  Skew_RG        2148 non-null   float64\n",
      " 24  Skew_RB        2148 non-null   float64\n",
      " 25  Kurtosis_RR    2148 non-null   float64\n",
      " 26  Kurtosis_RG    2148 non-null   float64\n",
      " 27  Kurtosis_RB    2148 non-null   float64\n",
      " 28  Class          2148 non-null   object \n",
      "dtypes: float64(26), int64(2), object(1)\n",
      "memory usage: 486.8+ KB\n"
     ]
    }
   ],
   "source": [
    "df.info()"
   ]
  },
  {
   "cell_type": "code",
   "execution_count": 6,
   "id": "a8efea5b",
   "metadata": {},
   "outputs": [
    {
     "data": {
      "text/plain": [
       "Index(['Area', 'Perimeter', 'Major_Axis', 'Minor_Axis', 'Eccentricity',\n",
       "       'Eqdiasq', 'Solidity', 'Convex_Area', 'Extent', 'Aspect_Ratio',\n",
       "       'Roundness', 'Compactness', 'Shapefactor_1', 'Shapefactor_2',\n",
       "       'Shapefactor_3', 'Shapefactor_4', 'Mean_RR', 'Mean_RG', 'Mean_RB',\n",
       "       'StdDev_RR', 'StdDev_RG', 'StdDev_RB', 'Skew_RR', 'Skew_RG', 'Skew_RB',\n",
       "       'Kurtosis_RR', 'Kurtosis_RG', 'Kurtosis_RB', 'Class'],\n",
       "      dtype='object')"
      ]
     },
     "execution_count": 6,
     "metadata": {},
     "output_type": "execute_result"
    }
   ],
   "source": [
    "df.columns"
   ]
  },
  {
   "cell_type": "code",
   "execution_count": 7,
   "id": "23fd1c5d",
   "metadata": {},
   "outputs": [],
   "source": [
    "# Columns that will be our features\n",
    "FEATURES = ['Area', 'Perimeter', 'Major_Axis', 'Minor_Axis', 'Eccentricity',\n",
    "       'Eqdiasq', 'Solidity', 'Convex_Area', 'Extent', 'Aspect_Ratio',\n",
    "       'Roundness', 'Compactness', 'Shapefactor_1', 'Shapefactor_2',\n",
    "       'Shapefactor_3', 'Shapefactor_4', 'Mean_RR', 'Mean_RG', 'Mean_RB',\n",
    "       'StdDev_RR', 'StdDev_RG', 'StdDev_RB', 'Skew_RR', 'Skew_RG', 'Skew_RB',\n",
    "       'Kurtosis_RR', 'Kurtosis_RG', 'Kurtosis_RB']\n",
    "\n",
    "# The column we'll be predicting for\n",
    "TARGET = \"Class\""
   ]
  },
  {
   "cell_type": "code",
   "execution_count": 8,
   "id": "25e036ef",
   "metadata": {
    "scrolled": true
   },
   "outputs": [
    {
     "data": {
      "text/html": [
       "<div>\n",
       "<style scoped>\n",
       "    .dataframe tbody tr th:only-of-type {\n",
       "        vertical-align: middle;\n",
       "    }\n",
       "\n",
       "    .dataframe tbody tr th {\n",
       "        vertical-align: top;\n",
       "    }\n",
       "\n",
       "    .dataframe thead th {\n",
       "        text-align: right;\n",
       "    }\n",
       "</style>\n",
       "<table border=\"1\" class=\"dataframe\">\n",
       "  <thead>\n",
       "    <tr style=\"text-align: right;\">\n",
       "      <th></th>\n",
       "      <th>Area</th>\n",
       "      <th>Perimeter</th>\n",
       "      <th>Major_Axis</th>\n",
       "      <th>Minor_Axis</th>\n",
       "      <th>Eccentricity</th>\n",
       "      <th>Eqdiasq</th>\n",
       "      <th>Solidity</th>\n",
       "      <th>Convex_Area</th>\n",
       "      <th>Extent</th>\n",
       "      <th>Aspect_Ratio</th>\n",
       "      <th>Roundness</th>\n",
       "      <th>Compactness</th>\n",
       "      <th>Shapefactor_1</th>\n",
       "      <th>Shapefactor_2</th>\n",
       "      <th>Shapefactor_3</th>\n",
       "      <th>Shapefactor_4</th>\n",
       "      <th>Mean_RR</th>\n",
       "      <th>Mean_RG</th>\n",
       "      <th>Mean_RB</th>\n",
       "      <th>StdDev_RR</th>\n",
       "      <th>StdDev_RG</th>\n",
       "      <th>StdDev_RB</th>\n",
       "      <th>Skew_RR</th>\n",
       "      <th>Skew_RG</th>\n",
       "      <th>Skew_RB</th>\n",
       "      <th>Kurtosis_RR</th>\n",
       "      <th>Kurtosis_RG</th>\n",
       "      <th>Kurtosis_RB</th>\n",
       "    </tr>\n",
       "  </thead>\n",
       "  <tbody>\n",
       "    <tr>\n",
       "      <th>count</th>\n",
       "      <td>2148.000000</td>\n",
       "      <td>2148.000000</td>\n",
       "      <td>2148.000000</td>\n",
       "      <td>2148.000000</td>\n",
       "      <td>2148.000000</td>\n",
       "      <td>2148.000000</td>\n",
       "      <td>2148.000000</td>\n",
       "      <td>2148.000000</td>\n",
       "      <td>2148.000000</td>\n",
       "      <td>2148.000000</td>\n",
       "      <td>2148.000000</td>\n",
       "      <td>2148.000000</td>\n",
       "      <td>2148.000000</td>\n",
       "      <td>2148.000000</td>\n",
       "      <td>2148.000000</td>\n",
       "      <td>2148.000000</td>\n",
       "      <td>2148.000000</td>\n",
       "      <td>2148.000000</td>\n",
       "      <td>2148.000000</td>\n",
       "      <td>2148.000000</td>\n",
       "      <td>2148.000000</td>\n",
       "      <td>2148.000000</td>\n",
       "      <td>2148.000000</td>\n",
       "      <td>2148.000000</td>\n",
       "      <td>2148.000000</td>\n",
       "      <td>2148.000000</td>\n",
       "      <td>2148.000000</td>\n",
       "      <td>2148.000000</td>\n",
       "    </tr>\n",
       "    <tr>\n",
       "      <th>mean</th>\n",
       "      <td>79950.655493</td>\n",
       "      <td>1425.971751</td>\n",
       "      <td>446.248968</td>\n",
       "      <td>238.311842</td>\n",
       "      <td>0.840219</td>\n",
       "      <td>317.919173</td>\n",
       "      <td>0.940093</td>\n",
       "      <td>85015.839851</td>\n",
       "      <td>0.716067</td>\n",
       "      <td>1.898154</td>\n",
       "      <td>0.569172</td>\n",
       "      <td>0.713077</td>\n",
       "      <td>0.005701</td>\n",
       "      <td>0.003017</td>\n",
       "      <td>0.510461</td>\n",
       "      <td>0.955239</td>\n",
       "      <td>218.067505</td>\n",
       "      <td>207.973008</td>\n",
       "      <td>191.995311</td>\n",
       "      <td>21.380084</td>\n",
       "      <td>22.591454</td>\n",
       "      <td>22.427056</td>\n",
       "      <td>-0.735243</td>\n",
       "      <td>-0.615580</td>\n",
       "      <td>-0.367142</td>\n",
       "      <td>3.054000</td>\n",
       "      <td>2.903015</td>\n",
       "      <td>2.940572</td>\n",
       "    </tr>\n",
       "    <tr>\n",
       "      <th>std</th>\n",
       "      <td>13121.737799</td>\n",
       "      <td>375.565503</td>\n",
       "      <td>32.445304</td>\n",
       "      <td>30.310695</td>\n",
       "      <td>0.048759</td>\n",
       "      <td>26.908600</td>\n",
       "      <td>0.050452</td>\n",
       "      <td>13154.919327</td>\n",
       "      <td>0.052532</td>\n",
       "      <td>0.240100</td>\n",
       "      <td>0.212760</td>\n",
       "      <td>0.044547</td>\n",
       "      <td>0.000817</td>\n",
       "      <td>0.000340</td>\n",
       "      <td>0.063942</td>\n",
       "      <td>0.051840</td>\n",
       "      <td>10.793178</td>\n",
       "      <td>12.073221</td>\n",
       "      <td>13.030505</td>\n",
       "      <td>3.127813</td>\n",
       "      <td>3.622222</td>\n",
       "      <td>3.926325</td>\n",
       "      <td>0.384584</td>\n",
       "      <td>0.389219</td>\n",
       "      <td>0.426964</td>\n",
       "      <td>0.733993</td>\n",
       "      <td>0.651383</td>\n",
       "      <td>0.750171</td>\n",
       "    </tr>\n",
       "    <tr>\n",
       "      <th>min</th>\n",
       "      <td>29808.000000</td>\n",
       "      <td>858.363000</td>\n",
       "      <td>320.344500</td>\n",
       "      <td>133.509600</td>\n",
       "      <td>0.504900</td>\n",
       "      <td>194.814600</td>\n",
       "      <td>0.588000</td>\n",
       "      <td>37935.000000</td>\n",
       "      <td>0.427200</td>\n",
       "      <td>1.158500</td>\n",
       "      <td>0.062800</td>\n",
       "      <td>0.476000</td>\n",
       "      <td>0.004000</td>\n",
       "      <td>0.002400</td>\n",
       "      <td>0.226600</td>\n",
       "      <td>0.620400</td>\n",
       "      <td>167.191300</td>\n",
       "      <td>162.623000</td>\n",
       "      <td>146.787600</td>\n",
       "      <td>10.611100</td>\n",
       "      <td>11.985400</td>\n",
       "      <td>11.197100</td>\n",
       "      <td>-1.931600</td>\n",
       "      <td>-1.658200</td>\n",
       "      <td>-2.348600</td>\n",
       "      <td>1.662400</td>\n",
       "      <td>1.665500</td>\n",
       "      <td>1.522500</td>\n",
       "    </tr>\n",
       "    <tr>\n",
       "      <th>25%</th>\n",
       "      <td>71936.750000</td>\n",
       "      <td>1170.996250</td>\n",
       "      <td>426.508750</td>\n",
       "      <td>217.875825</td>\n",
       "      <td>0.817500</td>\n",
       "      <td>302.642850</td>\n",
       "      <td>0.919850</td>\n",
       "      <td>76467.000000</td>\n",
       "      <td>0.687000</td>\n",
       "      <td>1.736375</td>\n",
       "      <td>0.371250</td>\n",
       "      <td>0.681550</td>\n",
       "      <td>0.005200</td>\n",
       "      <td>0.002800</td>\n",
       "      <td>0.464475</td>\n",
       "      <td>0.944000</td>\n",
       "      <td>211.608950</td>\n",
       "      <td>200.437100</td>\n",
       "      <td>182.930675</td>\n",
       "      <td>19.253550</td>\n",
       "      <td>20.036675</td>\n",
       "      <td>19.722425</td>\n",
       "      <td>-0.990900</td>\n",
       "      <td>-0.875975</td>\n",
       "      <td>-0.645800</td>\n",
       "      <td>2.509700</td>\n",
       "      <td>2.437400</td>\n",
       "      <td>2.449425</td>\n",
       "    </tr>\n",
       "    <tr>\n",
       "      <th>50%</th>\n",
       "      <td>79905.500000</td>\n",
       "      <td>1262.785500</td>\n",
       "      <td>448.574750</td>\n",
       "      <td>236.416350</td>\n",
       "      <td>0.849650</td>\n",
       "      <td>318.965300</td>\n",
       "      <td>0.954150</td>\n",
       "      <td>85075.500000</td>\n",
       "      <td>0.726500</td>\n",
       "      <td>1.896250</td>\n",
       "      <td>0.643400</td>\n",
       "      <td>0.710700</td>\n",
       "      <td>0.005600</td>\n",
       "      <td>0.003000</td>\n",
       "      <td>0.505150</td>\n",
       "      <td>0.973100</td>\n",
       "      <td>219.529800</td>\n",
       "      <td>208.885000</td>\n",
       "      <td>192.036350</td>\n",
       "      <td>21.425100</td>\n",
       "      <td>22.523250</td>\n",
       "      <td>22.276900</td>\n",
       "      <td>-0.756600</td>\n",
       "      <td>-0.653050</td>\n",
       "      <td>-0.424550</td>\n",
       "      <td>2.941750</td>\n",
       "      <td>2.807050</td>\n",
       "      <td>2.783350</td>\n",
       "    </tr>\n",
       "    <tr>\n",
       "      <th>75%</th>\n",
       "      <td>89030.500000</td>\n",
       "      <td>1607.906250</td>\n",
       "      <td>468.509400</td>\n",
       "      <td>257.760150</td>\n",
       "      <td>0.875200</td>\n",
       "      <td>336.685525</td>\n",
       "      <td>0.976925</td>\n",
       "      <td>93893.500000</td>\n",
       "      <td>0.753600</td>\n",
       "      <td>2.067025</td>\n",
       "      <td>0.744125</td>\n",
       "      <td>0.741650</td>\n",
       "      <td>0.006100</td>\n",
       "      <td>0.003200</td>\n",
       "      <td>0.550075</td>\n",
       "      <td>0.987300</td>\n",
       "      <td>225.941500</td>\n",
       "      <td>216.494700</td>\n",
       "      <td>201.097725</td>\n",
       "      <td>23.695900</td>\n",
       "      <td>25.241900</td>\n",
       "      <td>25.140125</td>\n",
       "      <td>-0.502500</td>\n",
       "      <td>-0.405000</td>\n",
       "      <td>-0.158400</td>\n",
       "      <td>3.446500</td>\n",
       "      <td>3.247400</td>\n",
       "      <td>3.224650</td>\n",
       "    </tr>\n",
       "    <tr>\n",
       "      <th>max</th>\n",
       "      <td>124008.000000</td>\n",
       "      <td>2755.049100</td>\n",
       "      <td>541.966100</td>\n",
       "      <td>383.046100</td>\n",
       "      <td>0.946000</td>\n",
       "      <td>397.356100</td>\n",
       "      <td>0.995100</td>\n",
       "      <td>132478.000000</td>\n",
       "      <td>0.820400</td>\n",
       "      <td>3.085800</td>\n",
       "      <td>0.933600</td>\n",
       "      <td>0.877900</td>\n",
       "      <td>0.013100</td>\n",
       "      <td>0.005300</td>\n",
       "      <td>0.770600</td>\n",
       "      <td>0.999000</td>\n",
       "      <td>241.275200</td>\n",
       "      <td>240.506500</td>\n",
       "      <td>235.000700</td>\n",
       "      <td>30.838300</td>\n",
       "      <td>33.614600</td>\n",
       "      <td>42.756600</td>\n",
       "      <td>1.865400</td>\n",
       "      <td>2.257600</td>\n",
       "      <td>1.852100</td>\n",
       "      <td>8.890600</td>\n",
       "      <td>10.453900</td>\n",
       "      <td>11.533900</td>\n",
       "    </tr>\n",
       "  </tbody>\n",
       "</table>\n",
       "</div>"
      ],
      "text/plain": [
       "                Area    Perimeter   Major_Axis   Minor_Axis  Eccentricity  \\\n",
       "count    2148.000000  2148.000000  2148.000000  2148.000000   2148.000000   \n",
       "mean    79950.655493  1425.971751   446.248968   238.311842      0.840219   \n",
       "std     13121.737799   375.565503    32.445304    30.310695      0.048759   \n",
       "min     29808.000000   858.363000   320.344500   133.509600      0.504900   \n",
       "25%     71936.750000  1170.996250   426.508750   217.875825      0.817500   \n",
       "50%     79905.500000  1262.785500   448.574750   236.416350      0.849650   \n",
       "75%     89030.500000  1607.906250   468.509400   257.760150      0.875200   \n",
       "max    124008.000000  2755.049100   541.966100   383.046100      0.946000   \n",
       "\n",
       "           Eqdiasq     Solidity    Convex_Area       Extent  Aspect_Ratio  \\\n",
       "count  2148.000000  2148.000000    2148.000000  2148.000000   2148.000000   \n",
       "mean    317.919173     0.940093   85015.839851     0.716067      1.898154   \n",
       "std      26.908600     0.050452   13154.919327     0.052532      0.240100   \n",
       "min     194.814600     0.588000   37935.000000     0.427200      1.158500   \n",
       "25%     302.642850     0.919850   76467.000000     0.687000      1.736375   \n",
       "50%     318.965300     0.954150   85075.500000     0.726500      1.896250   \n",
       "75%     336.685525     0.976925   93893.500000     0.753600      2.067025   \n",
       "max     397.356100     0.995100  132478.000000     0.820400      3.085800   \n",
       "\n",
       "         Roundness  Compactness  Shapefactor_1  Shapefactor_2  Shapefactor_3  \\\n",
       "count  2148.000000  2148.000000    2148.000000    2148.000000    2148.000000   \n",
       "mean      0.569172     0.713077       0.005701       0.003017       0.510461   \n",
       "std       0.212760     0.044547       0.000817       0.000340       0.063942   \n",
       "min       0.062800     0.476000       0.004000       0.002400       0.226600   \n",
       "25%       0.371250     0.681550       0.005200       0.002800       0.464475   \n",
       "50%       0.643400     0.710700       0.005600       0.003000       0.505150   \n",
       "75%       0.744125     0.741650       0.006100       0.003200       0.550075   \n",
       "max       0.933600     0.877900       0.013100       0.005300       0.770600   \n",
       "\n",
       "       Shapefactor_4      Mean_RR      Mean_RG      Mean_RB    StdDev_RR  \\\n",
       "count    2148.000000  2148.000000  2148.000000  2148.000000  2148.000000   \n",
       "mean        0.955239   218.067505   207.973008   191.995311    21.380084   \n",
       "std         0.051840    10.793178    12.073221    13.030505     3.127813   \n",
       "min         0.620400   167.191300   162.623000   146.787600    10.611100   \n",
       "25%         0.944000   211.608950   200.437100   182.930675    19.253550   \n",
       "50%         0.973100   219.529800   208.885000   192.036350    21.425100   \n",
       "75%         0.987300   225.941500   216.494700   201.097725    23.695900   \n",
       "max         0.999000   241.275200   240.506500   235.000700    30.838300   \n",
       "\n",
       "         StdDev_RG    StdDev_RB      Skew_RR      Skew_RG      Skew_RB  \\\n",
       "count  2148.000000  2148.000000  2148.000000  2148.000000  2148.000000   \n",
       "mean     22.591454    22.427056    -0.735243    -0.615580    -0.367142   \n",
       "std       3.622222     3.926325     0.384584     0.389219     0.426964   \n",
       "min      11.985400    11.197100    -1.931600    -1.658200    -2.348600   \n",
       "25%      20.036675    19.722425    -0.990900    -0.875975    -0.645800   \n",
       "50%      22.523250    22.276900    -0.756600    -0.653050    -0.424550   \n",
       "75%      25.241900    25.140125    -0.502500    -0.405000    -0.158400   \n",
       "max      33.614600    42.756600     1.865400     2.257600     1.852100   \n",
       "\n",
       "       Kurtosis_RR  Kurtosis_RG  Kurtosis_RB  \n",
       "count  2148.000000  2148.000000  2148.000000  \n",
       "mean      3.054000     2.903015     2.940572  \n",
       "std       0.733993     0.651383     0.750171  \n",
       "min       1.662400     1.665500     1.522500  \n",
       "25%       2.509700     2.437400     2.449425  \n",
       "50%       2.941750     2.807050     2.783350  \n",
       "75%       3.446500     3.247400     3.224650  \n",
       "max       8.890600    10.453900    11.533900  "
      ]
     },
     "execution_count": 8,
     "metadata": {},
     "output_type": "execute_result"
    }
   ],
   "source": [
    "description = df.describe()\n",
    "description"
   ]
  },
  {
   "cell_type": "code",
   "execution_count": 9,
   "id": "22e2a68e",
   "metadata": {},
   "outputs": [
    {
     "data": {
      "text/html": [
       "<div>\n",
       "<style scoped>\n",
       "    .dataframe tbody tr th:only-of-type {\n",
       "        vertical-align: middle;\n",
       "    }\n",
       "\n",
       "    .dataframe tbody tr th {\n",
       "        vertical-align: top;\n",
       "    }\n",
       "\n",
       "    .dataframe thead th {\n",
       "        text-align: right;\n",
       "    }\n",
       "</style>\n",
       "<table border=\"1\" class=\"dataframe\">\n",
       "  <thead>\n",
       "    <tr style=\"text-align: right;\">\n",
       "      <th></th>\n",
       "      <th>Area</th>\n",
       "      <th>Perimeter</th>\n",
       "      <th>Major_Axis</th>\n",
       "      <th>Minor_Axis</th>\n",
       "      <th>Eccentricity</th>\n",
       "      <th>Eqdiasq</th>\n",
       "      <th>Solidity</th>\n",
       "      <th>Convex_Area</th>\n",
       "      <th>Extent</th>\n",
       "      <th>Aspect_Ratio</th>\n",
       "      <th>Roundness</th>\n",
       "      <th>Compactness</th>\n",
       "      <th>Shapefactor_1</th>\n",
       "      <th>Shapefactor_2</th>\n",
       "      <th>Shapefactor_3</th>\n",
       "      <th>Shapefactor_4</th>\n",
       "      <th>Mean_RR</th>\n",
       "      <th>Mean_RG</th>\n",
       "      <th>Mean_RB</th>\n",
       "      <th>StdDev_RR</th>\n",
       "      <th>StdDev_RG</th>\n",
       "      <th>StdDev_RB</th>\n",
       "      <th>Skew_RR</th>\n",
       "      <th>Skew_RG</th>\n",
       "      <th>Skew_RB</th>\n",
       "      <th>Kurtosis_RR</th>\n",
       "      <th>Kurtosis_RG</th>\n",
       "      <th>Kurtosis_RB</th>\n",
       "      <th>Class</th>\n",
       "    </tr>\n",
       "  </thead>\n",
       "  <tbody>\n",
       "    <tr>\n",
       "      <th>0</th>\n",
       "      <td>63391</td>\n",
       "      <td>1568.405</td>\n",
       "      <td>390.3396</td>\n",
       "      <td>236.7461</td>\n",
       "      <td>0.7951</td>\n",
       "      <td>284.0984</td>\n",
       "      <td>0.8665</td>\n",
       "      <td>73160</td>\n",
       "      <td>0.6394</td>\n",
       "      <td>1.6488</td>\n",
       "      <td>0.3238</td>\n",
       "      <td>0.7278</td>\n",
       "      <td>0.0062</td>\n",
       "      <td>0.0037</td>\n",
       "      <td>0.5297</td>\n",
       "      <td>0.8734</td>\n",
       "      <td>195.9932</td>\n",
       "      <td>180.2673</td>\n",
       "      <td>165.3167</td>\n",
       "      <td>17.7206</td>\n",
       "      <td>19.6024</td>\n",
       "      <td>21.1342</td>\n",
       "      <td>0.4581</td>\n",
       "      <td>0.6635</td>\n",
       "      <td>0.7591</td>\n",
       "      <td>2.9692</td>\n",
       "      <td>3.0576</td>\n",
       "      <td>2.9542</td>\n",
       "      <td>Kirmizi_Pistachio</td>\n",
       "    </tr>\n",
       "    <tr>\n",
       "      <th>1</th>\n",
       "      <td>68358</td>\n",
       "      <td>1942.187</td>\n",
       "      <td>410.8594</td>\n",
       "      <td>234.7525</td>\n",
       "      <td>0.8207</td>\n",
       "      <td>295.0188</td>\n",
       "      <td>0.8765</td>\n",
       "      <td>77991</td>\n",
       "      <td>0.6772</td>\n",
       "      <td>1.7502</td>\n",
       "      <td>0.2277</td>\n",
       "      <td>0.7181</td>\n",
       "      <td>0.0060</td>\n",
       "      <td>0.0034</td>\n",
       "      <td>0.5156</td>\n",
       "      <td>0.9024</td>\n",
       "      <td>222.5941</td>\n",
       "      <td>208.6210</td>\n",
       "      <td>187.3744</td>\n",
       "      <td>26.7061</td>\n",
       "      <td>27.2112</td>\n",
       "      <td>25.1035</td>\n",
       "      <td>-0.3847</td>\n",
       "      <td>-0.2713</td>\n",
       "      <td>-0.2927</td>\n",
       "      <td>1.9807</td>\n",
       "      <td>2.1006</td>\n",
       "      <td>2.2152</td>\n",
       "      <td>Kirmizi_Pistachio</td>\n",
       "    </tr>\n",
       "    <tr>\n",
       "      <th>2</th>\n",
       "      <td>73589</td>\n",
       "      <td>1246.538</td>\n",
       "      <td>452.3630</td>\n",
       "      <td>220.5547</td>\n",
       "      <td>0.8731</td>\n",
       "      <td>306.0987</td>\n",
       "      <td>0.9172</td>\n",
       "      <td>80234</td>\n",
       "      <td>0.7127</td>\n",
       "      <td>2.0510</td>\n",
       "      <td>0.5951</td>\n",
       "      <td>0.6767</td>\n",
       "      <td>0.0061</td>\n",
       "      <td>0.0030</td>\n",
       "      <td>0.4579</td>\n",
       "      <td>0.9391</td>\n",
       "      <td>213.3581</td>\n",
       "      <td>202.9122</td>\n",
       "      <td>187.7118</td>\n",
       "      <td>19.0129</td>\n",
       "      <td>20.0703</td>\n",
       "      <td>20.7006</td>\n",
       "      <td>-0.6014</td>\n",
       "      <td>-0.4500</td>\n",
       "      <td>0.2998</td>\n",
       "      <td>3.5420</td>\n",
       "      <td>3.6856</td>\n",
       "      <td>4.1012</td>\n",
       "      <td>Kirmizi_Pistachio</td>\n",
       "    </tr>\n",
       "    <tr>\n",
       "      <th>3</th>\n",
       "      <td>71106</td>\n",
       "      <td>1445.261</td>\n",
       "      <td>429.5291</td>\n",
       "      <td>216.0765</td>\n",
       "      <td>0.8643</td>\n",
       "      <td>300.8903</td>\n",
       "      <td>0.9589</td>\n",
       "      <td>74153</td>\n",
       "      <td>0.7028</td>\n",
       "      <td>1.9879</td>\n",
       "      <td>0.4278</td>\n",
       "      <td>0.7005</td>\n",
       "      <td>0.0060</td>\n",
       "      <td>0.0030</td>\n",
       "      <td>0.4907</td>\n",
       "      <td>0.9755</td>\n",
       "      <td>211.8630</td>\n",
       "      <td>205.4264</td>\n",
       "      <td>187.9537</td>\n",
       "      <td>18.1773</td>\n",
       "      <td>18.7152</td>\n",
       "      <td>29.7883</td>\n",
       "      <td>-0.6943</td>\n",
       "      <td>-0.6278</td>\n",
       "      <td>-0.7798</td>\n",
       "      <td>2.8776</td>\n",
       "      <td>2.8748</td>\n",
       "      <td>2.8953</td>\n",
       "      <td>Kirmizi_Pistachio</td>\n",
       "    </tr>\n",
       "    <tr>\n",
       "      <th>4</th>\n",
       "      <td>80087</td>\n",
       "      <td>1251.524</td>\n",
       "      <td>469.3783</td>\n",
       "      <td>220.9344</td>\n",
       "      <td>0.8823</td>\n",
       "      <td>319.3273</td>\n",
       "      <td>0.9657</td>\n",
       "      <td>82929</td>\n",
       "      <td>0.7459</td>\n",
       "      <td>2.1245</td>\n",
       "      <td>0.6425</td>\n",
       "      <td>0.6803</td>\n",
       "      <td>0.0059</td>\n",
       "      <td>0.0028</td>\n",
       "      <td>0.4628</td>\n",
       "      <td>0.9833</td>\n",
       "      <td>229.5648</td>\n",
       "      <td>217.5896</td>\n",
       "      <td>194.4906</td>\n",
       "      <td>23.4298</td>\n",
       "      <td>24.0878</td>\n",
       "      <td>23.1157</td>\n",
       "      <td>-0.9287</td>\n",
       "      <td>-0.8134</td>\n",
       "      <td>-0.4970</td>\n",
       "      <td>2.9915</td>\n",
       "      <td>2.8813</td>\n",
       "      <td>2.7362</td>\n",
       "      <td>Kirmizi_Pistachio</td>\n",
       "    </tr>\n",
       "    <tr>\n",
       "      <th>...</th>\n",
       "      <td>...</td>\n",
       "      <td>...</td>\n",
       "      <td>...</td>\n",
       "      <td>...</td>\n",
       "      <td>...</td>\n",
       "      <td>...</td>\n",
       "      <td>...</td>\n",
       "      <td>...</td>\n",
       "      <td>...</td>\n",
       "      <td>...</td>\n",
       "      <td>...</td>\n",
       "      <td>...</td>\n",
       "      <td>...</td>\n",
       "      <td>...</td>\n",
       "      <td>...</td>\n",
       "      <td>...</td>\n",
       "      <td>...</td>\n",
       "      <td>...</td>\n",
       "      <td>...</td>\n",
       "      <td>...</td>\n",
       "      <td>...</td>\n",
       "      <td>...</td>\n",
       "      <td>...</td>\n",
       "      <td>...</td>\n",
       "      <td>...</td>\n",
       "      <td>...</td>\n",
       "      <td>...</td>\n",
       "      <td>...</td>\n",
       "      <td>...</td>\n",
       "    </tr>\n",
       "    <tr>\n",
       "      <th>1227</th>\n",
       "      <td>53446</td>\n",
       "      <td>1814.176</td>\n",
       "      <td>379.4000</td>\n",
       "      <td>191.5850</td>\n",
       "      <td>0.8631</td>\n",
       "      <td>260.8631</td>\n",
       "      <td>0.8937</td>\n",
       "      <td>59800</td>\n",
       "      <td>0.7345</td>\n",
       "      <td>1.9803</td>\n",
       "      <td>0.2041</td>\n",
       "      <td>0.6876</td>\n",
       "      <td>0.0071</td>\n",
       "      <td>0.0036</td>\n",
       "      <td>0.4727</td>\n",
       "      <td>0.9362</td>\n",
       "      <td>182.3347</td>\n",
       "      <td>166.5466</td>\n",
       "      <td>157.4320</td>\n",
       "      <td>12.7896</td>\n",
       "      <td>14.4923</td>\n",
       "      <td>16.2521</td>\n",
       "      <td>1.4046</td>\n",
       "      <td>1.5741</td>\n",
       "      <td>1.6569</td>\n",
       "      <td>6.8633</td>\n",
       "      <td>7.7662</td>\n",
       "      <td>7.5390</td>\n",
       "      <td>Kirmizi_Pistachio</td>\n",
       "    </tr>\n",
       "    <tr>\n",
       "      <th>1228</th>\n",
       "      <td>60008</td>\n",
       "      <td>935.789</td>\n",
       "      <td>351.9654</td>\n",
       "      <td>221.9567</td>\n",
       "      <td>0.7761</td>\n",
       "      <td>276.4138</td>\n",
       "      <td>0.9903</td>\n",
       "      <td>60596</td>\n",
       "      <td>0.7006</td>\n",
       "      <td>1.5857</td>\n",
       "      <td>0.8611</td>\n",
       "      <td>0.7853</td>\n",
       "      <td>0.0059</td>\n",
       "      <td>0.0037</td>\n",
       "      <td>0.6168</td>\n",
       "      <td>0.9780</td>\n",
       "      <td>234.9845</td>\n",
       "      <td>228.4471</td>\n",
       "      <td>204.1450</td>\n",
       "      <td>23.5708</td>\n",
       "      <td>24.7132</td>\n",
       "      <td>23.3880</td>\n",
       "      <td>-1.3742</td>\n",
       "      <td>-1.0818</td>\n",
       "      <td>-0.8024</td>\n",
       "      <td>4.1417</td>\n",
       "      <td>3.6287</td>\n",
       "      <td>3.3141</td>\n",
       "      <td>Kirmizi_Pistachio</td>\n",
       "    </tr>\n",
       "    <tr>\n",
       "      <th>1229</th>\n",
       "      <td>60847</td>\n",
       "      <td>1760.171</td>\n",
       "      <td>371.3661</td>\n",
       "      <td>230.1940</td>\n",
       "      <td>0.7847</td>\n",
       "      <td>278.3394</td>\n",
       "      <td>0.8449</td>\n",
       "      <td>72021</td>\n",
       "      <td>0.6548</td>\n",
       "      <td>1.6133</td>\n",
       "      <td>0.2468</td>\n",
       "      <td>0.7495</td>\n",
       "      <td>0.0061</td>\n",
       "      <td>0.0038</td>\n",
       "      <td>0.5618</td>\n",
       "      <td>0.9063</td>\n",
       "      <td>199.6496</td>\n",
       "      <td>186.5368</td>\n",
       "      <td>174.1625</td>\n",
       "      <td>18.7871</td>\n",
       "      <td>20.6093</td>\n",
       "      <td>23.8406</td>\n",
       "      <td>-0.0059</td>\n",
       "      <td>0.2021</td>\n",
       "      <td>0.2321</td>\n",
       "      <td>2.3825</td>\n",
       "      <td>2.5533</td>\n",
       "      <td>3.1973</td>\n",
       "      <td>Kirmizi_Pistachio</td>\n",
       "    </tr>\n",
       "    <tr>\n",
       "      <th>1230</th>\n",
       "      <td>82017</td>\n",
       "      <td>2699.074</td>\n",
       "      <td>426.5246</td>\n",
       "      <td>273.5291</td>\n",
       "      <td>0.7673</td>\n",
       "      <td>323.1521</td>\n",
       "      <td>0.8479</td>\n",
       "      <td>96733</td>\n",
       "      <td>0.6657</td>\n",
       "      <td>1.5593</td>\n",
       "      <td>0.1415</td>\n",
       "      <td>0.7576</td>\n",
       "      <td>0.0052</td>\n",
       "      <td>0.0033</td>\n",
       "      <td>0.5740</td>\n",
       "      <td>0.8951</td>\n",
       "      <td>201.3546</td>\n",
       "      <td>185.1882</td>\n",
       "      <td>167.5617</td>\n",
       "      <td>20.1581</td>\n",
       "      <td>22.8757</td>\n",
       "      <td>23.0541</td>\n",
       "      <td>0.0354</td>\n",
       "      <td>0.0576</td>\n",
       "      <td>0.1981</td>\n",
       "      <td>2.1603</td>\n",
       "      <td>2.2605</td>\n",
       "      <td>2.9051</td>\n",
       "      <td>Kirmizi_Pistachio</td>\n",
       "    </tr>\n",
       "    <tr>\n",
       "      <th>1231</th>\n",
       "      <td>52600</td>\n",
       "      <td>1148.283</td>\n",
       "      <td>361.6876</td>\n",
       "      <td>193.2737</td>\n",
       "      <td>0.8453</td>\n",
       "      <td>258.7903</td>\n",
       "      <td>0.9081</td>\n",
       "      <td>57923</td>\n",
       "      <td>0.7242</td>\n",
       "      <td>1.8714</td>\n",
       "      <td>0.5013</td>\n",
       "      <td>0.7155</td>\n",
       "      <td>0.0069</td>\n",
       "      <td>0.0037</td>\n",
       "      <td>0.5120</td>\n",
       "      <td>0.9581</td>\n",
       "      <td>179.4445</td>\n",
       "      <td>165.9824</td>\n",
       "      <td>159.3790</td>\n",
       "      <td>13.4353</td>\n",
       "      <td>14.3049</td>\n",
       "      <td>13.8312</td>\n",
       "      <td>0.6112</td>\n",
       "      <td>0.6027</td>\n",
       "      <td>0.7143</td>\n",
       "      <td>2.8733</td>\n",
       "      <td>2.7815</td>\n",
       "      <td>2.8331</td>\n",
       "      <td>Kirmizi_Pistachio</td>\n",
       "    </tr>\n",
       "  </tbody>\n",
       "</table>\n",
       "<p>1232 rows × 29 columns</p>\n",
       "</div>"
      ],
      "text/plain": [
       "       Area  Perimeter  Major_Axis  Minor_Axis  Eccentricity   Eqdiasq  \\\n",
       "0     63391   1568.405    390.3396    236.7461        0.7951  284.0984   \n",
       "1     68358   1942.187    410.8594    234.7525        0.8207  295.0188   \n",
       "2     73589   1246.538    452.3630    220.5547        0.8731  306.0987   \n",
       "3     71106   1445.261    429.5291    216.0765        0.8643  300.8903   \n",
       "4     80087   1251.524    469.3783    220.9344        0.8823  319.3273   \n",
       "...     ...        ...         ...         ...           ...       ...   \n",
       "1227  53446   1814.176    379.4000    191.5850        0.8631  260.8631   \n",
       "1228  60008    935.789    351.9654    221.9567        0.7761  276.4138   \n",
       "1229  60847   1760.171    371.3661    230.1940        0.7847  278.3394   \n",
       "1230  82017   2699.074    426.5246    273.5291        0.7673  323.1521   \n",
       "1231  52600   1148.283    361.6876    193.2737        0.8453  258.7903   \n",
       "\n",
       "      Solidity  Convex_Area  Extent  Aspect_Ratio  Roundness  Compactness  \\\n",
       "0       0.8665        73160  0.6394        1.6488     0.3238       0.7278   \n",
       "1       0.8765        77991  0.6772        1.7502     0.2277       0.7181   \n",
       "2       0.9172        80234  0.7127        2.0510     0.5951       0.6767   \n",
       "3       0.9589        74153  0.7028        1.9879     0.4278       0.7005   \n",
       "4       0.9657        82929  0.7459        2.1245     0.6425       0.6803   \n",
       "...        ...          ...     ...           ...        ...          ...   \n",
       "1227    0.8937        59800  0.7345        1.9803     0.2041       0.6876   \n",
       "1228    0.9903        60596  0.7006        1.5857     0.8611       0.7853   \n",
       "1229    0.8449        72021  0.6548        1.6133     0.2468       0.7495   \n",
       "1230    0.8479        96733  0.6657        1.5593     0.1415       0.7576   \n",
       "1231    0.9081        57923  0.7242        1.8714     0.5013       0.7155   \n",
       "\n",
       "      Shapefactor_1  Shapefactor_2  Shapefactor_3  Shapefactor_4   Mean_RR  \\\n",
       "0            0.0062         0.0037         0.5297         0.8734  195.9932   \n",
       "1            0.0060         0.0034         0.5156         0.9024  222.5941   \n",
       "2            0.0061         0.0030         0.4579         0.9391  213.3581   \n",
       "3            0.0060         0.0030         0.4907         0.9755  211.8630   \n",
       "4            0.0059         0.0028         0.4628         0.9833  229.5648   \n",
       "...             ...            ...            ...            ...       ...   \n",
       "1227         0.0071         0.0036         0.4727         0.9362  182.3347   \n",
       "1228         0.0059         0.0037         0.6168         0.9780  234.9845   \n",
       "1229         0.0061         0.0038         0.5618         0.9063  199.6496   \n",
       "1230         0.0052         0.0033         0.5740         0.8951  201.3546   \n",
       "1231         0.0069         0.0037         0.5120         0.9581  179.4445   \n",
       "\n",
       "       Mean_RG   Mean_RB  StdDev_RR  StdDev_RG  StdDev_RB  Skew_RR  Skew_RG  \\\n",
       "0     180.2673  165.3167    17.7206    19.6024    21.1342   0.4581   0.6635   \n",
       "1     208.6210  187.3744    26.7061    27.2112    25.1035  -0.3847  -0.2713   \n",
       "2     202.9122  187.7118    19.0129    20.0703    20.7006  -0.6014  -0.4500   \n",
       "3     205.4264  187.9537    18.1773    18.7152    29.7883  -0.6943  -0.6278   \n",
       "4     217.5896  194.4906    23.4298    24.0878    23.1157  -0.9287  -0.8134   \n",
       "...        ...       ...        ...        ...        ...      ...      ...   \n",
       "1227  166.5466  157.4320    12.7896    14.4923    16.2521   1.4046   1.5741   \n",
       "1228  228.4471  204.1450    23.5708    24.7132    23.3880  -1.3742  -1.0818   \n",
       "1229  186.5368  174.1625    18.7871    20.6093    23.8406  -0.0059   0.2021   \n",
       "1230  185.1882  167.5617    20.1581    22.8757    23.0541   0.0354   0.0576   \n",
       "1231  165.9824  159.3790    13.4353    14.3049    13.8312   0.6112   0.6027   \n",
       "\n",
       "      Skew_RB  Kurtosis_RR  Kurtosis_RG  Kurtosis_RB              Class  \n",
       "0      0.7591       2.9692       3.0576       2.9542  Kirmizi_Pistachio  \n",
       "1     -0.2927       1.9807       2.1006       2.2152  Kirmizi_Pistachio  \n",
       "2      0.2998       3.5420       3.6856       4.1012  Kirmizi_Pistachio  \n",
       "3     -0.7798       2.8776       2.8748       2.8953  Kirmizi_Pistachio  \n",
       "4     -0.4970       2.9915       2.8813       2.7362  Kirmizi_Pistachio  \n",
       "...       ...          ...          ...          ...                ...  \n",
       "1227   1.6569       6.8633       7.7662       7.5390  Kirmizi_Pistachio  \n",
       "1228  -0.8024       4.1417       3.6287       3.3141  Kirmizi_Pistachio  \n",
       "1229   0.2321       2.3825       2.5533       3.1973  Kirmizi_Pistachio  \n",
       "1230   0.1981       2.1603       2.2605       2.9051  Kirmizi_Pistachio  \n",
       "1231   0.7143       2.8733       2.7815       2.8331  Kirmizi_Pistachio  \n",
       "\n",
       "[1232 rows x 29 columns]"
      ]
     },
     "execution_count": 9,
     "metadata": {},
     "output_type": "execute_result"
    }
   ],
   "source": [
    "df.loc[df['Class']=='Kirmizi_Pistachio']"
   ]
  },
  {
   "cell_type": "code",
   "execution_count": 10,
   "id": "70557ab5",
   "metadata": {},
   "outputs": [
    {
     "data": {
      "text/html": [
       "<div>\n",
       "<style scoped>\n",
       "    .dataframe tbody tr th:only-of-type {\n",
       "        vertical-align: middle;\n",
       "    }\n",
       "\n",
       "    .dataframe tbody tr th {\n",
       "        vertical-align: top;\n",
       "    }\n",
       "\n",
       "    .dataframe thead th {\n",
       "        text-align: right;\n",
       "    }\n",
       "</style>\n",
       "<table border=\"1\" class=\"dataframe\">\n",
       "  <thead>\n",
       "    <tr style=\"text-align: right;\">\n",
       "      <th></th>\n",
       "      <th>Area</th>\n",
       "      <th>Perimeter</th>\n",
       "      <th>Major_Axis</th>\n",
       "      <th>Minor_Axis</th>\n",
       "      <th>Eccentricity</th>\n",
       "      <th>Eqdiasq</th>\n",
       "      <th>Solidity</th>\n",
       "      <th>Convex_Area</th>\n",
       "      <th>Extent</th>\n",
       "      <th>Aspect_Ratio</th>\n",
       "      <th>Roundness</th>\n",
       "      <th>Compactness</th>\n",
       "      <th>Shapefactor_1</th>\n",
       "      <th>Shapefactor_2</th>\n",
       "      <th>Shapefactor_3</th>\n",
       "      <th>Shapefactor_4</th>\n",
       "      <th>Mean_RR</th>\n",
       "      <th>Mean_RG</th>\n",
       "      <th>Mean_RB</th>\n",
       "      <th>StdDev_RR</th>\n",
       "      <th>StdDev_RG</th>\n",
       "      <th>StdDev_RB</th>\n",
       "      <th>Skew_RR</th>\n",
       "      <th>Skew_RG</th>\n",
       "      <th>Skew_RB</th>\n",
       "      <th>Kurtosis_RR</th>\n",
       "      <th>Kurtosis_RG</th>\n",
       "      <th>Kurtosis_RB</th>\n",
       "    </tr>\n",
       "  </thead>\n",
       "  <tbody>\n",
       "    <tr>\n",
       "      <th>count</th>\n",
       "      <td>1232.000000</td>\n",
       "      <td>1232.000000</td>\n",
       "      <td>1232.000000</td>\n",
       "      <td>1232.000000</td>\n",
       "      <td>1232.000000</td>\n",
       "      <td>1232.000000</td>\n",
       "      <td>1232.000000</td>\n",
       "      <td>1232.000000</td>\n",
       "      <td>1232.000000</td>\n",
       "      <td>1232.000000</td>\n",
       "      <td>1232.000000</td>\n",
       "      <td>1232.000000</td>\n",
       "      <td>1232.000000</td>\n",
       "      <td>1232.000000</td>\n",
       "      <td>1232.000000</td>\n",
       "      <td>1232.000000</td>\n",
       "      <td>1232.000000</td>\n",
       "      <td>1232.000000</td>\n",
       "      <td>1232.000000</td>\n",
       "      <td>1232.000000</td>\n",
       "      <td>1232.000000</td>\n",
       "      <td>1232.000000</td>\n",
       "      <td>1232.000000</td>\n",
       "      <td>1232.000000</td>\n",
       "      <td>1232.000000</td>\n",
       "      <td>1232.000000</td>\n",
       "      <td>1232.000000</td>\n",
       "      <td>1232.000000</td>\n",
       "    </tr>\n",
       "    <tr>\n",
       "      <th>mean</th>\n",
       "      <td>73285.429383</td>\n",
       "      <td>1378.932281</td>\n",
       "      <td>442.421403</td>\n",
       "      <td>220.853789</td>\n",
       "      <td>0.863201</td>\n",
       "      <td>304.527525</td>\n",
       "      <td>0.934641</td>\n",
       "      <td>78386.017857</td>\n",
       "      <td>0.711529</td>\n",
       "      <td>2.018508</td>\n",
       "      <td>0.549773</td>\n",
       "      <td>0.689077</td>\n",
       "      <td>0.006135</td>\n",
       "      <td>0.003054</td>\n",
       "      <td>0.475938</td>\n",
       "      <td>0.952419</td>\n",
       "      <td>214.974200</td>\n",
       "      <td>204.929631</td>\n",
       "      <td>189.421605</td>\n",
       "      <td>21.779438</td>\n",
       "      <td>22.897670</td>\n",
       "      <td>23.162756</td>\n",
       "      <td>-0.630121</td>\n",
       "      <td>-0.502209</td>\n",
       "      <td>-0.293524</td>\n",
       "      <td>2.955472</td>\n",
       "      <td>2.855450</td>\n",
       "      <td>2.973732</td>\n",
       "    </tr>\n",
       "    <tr>\n",
       "      <th>std</th>\n",
       "      <td>11049.987290</td>\n",
       "      <td>341.513708</td>\n",
       "      <td>34.898389</td>\n",
       "      <td>22.438073</td>\n",
       "      <td>0.033904</td>\n",
       "      <td>23.944910</td>\n",
       "      <td>0.050138</td>\n",
       "      <td>11079.015412</td>\n",
       "      <td>0.054198</td>\n",
       "      <td>0.208580</td>\n",
       "      <td>0.195164</td>\n",
       "      <td>0.033331</td>\n",
       "      <td>0.000758</td>\n",
       "      <td>0.000361</td>\n",
       "      <td>0.045538</td>\n",
       "      <td>0.048931</td>\n",
       "      <td>11.690901</td>\n",
       "      <td>13.003349</td>\n",
       "      <td>12.917091</td>\n",
       "      <td>3.460150</td>\n",
       "      <td>3.798826</td>\n",
       "      <td>3.924290</td>\n",
       "      <td>0.416308</td>\n",
       "      <td>0.427092</td>\n",
       "      <td>0.473994</td>\n",
       "      <td>0.747710</td>\n",
       "      <td>0.693212</td>\n",
       "      <td>0.853131</td>\n",
       "    </tr>\n",
       "    <tr>\n",
       "      <th>min</th>\n",
       "      <td>29808.000000</td>\n",
       "      <td>858.363000</td>\n",
       "      <td>320.344500</td>\n",
       "      <td>133.509600</td>\n",
       "      <td>0.624900</td>\n",
       "      <td>194.814600</td>\n",
       "      <td>0.588000</td>\n",
       "      <td>37935.000000</td>\n",
       "      <td>0.427200</td>\n",
       "      <td>1.281000</td>\n",
       "      <td>0.062800</td>\n",
       "      <td>0.476000</td>\n",
       "      <td>0.004700</td>\n",
       "      <td>0.002400</td>\n",
       "      <td>0.226600</td>\n",
       "      <td>0.620400</td>\n",
       "      <td>167.191300</td>\n",
       "      <td>162.623000</td>\n",
       "      <td>146.787600</td>\n",
       "      <td>10.611100</td>\n",
       "      <td>11.985400</td>\n",
       "      <td>12.836800</td>\n",
       "      <td>-1.931600</td>\n",
       "      <td>-1.658200</td>\n",
       "      <td>-2.348600</td>\n",
       "      <td>1.662400</td>\n",
       "      <td>1.690100</td>\n",
       "      <td>1.668000</td>\n",
       "    </tr>\n",
       "    <tr>\n",
       "      <th>25%</th>\n",
       "      <td>67103.000000</td>\n",
       "      <td>1148.218750</td>\n",
       "      <td>421.279525</td>\n",
       "      <td>208.566825</td>\n",
       "      <td>0.848850</td>\n",
       "      <td>292.298100</td>\n",
       "      <td>0.914075</td>\n",
       "      <td>71805.000000</td>\n",
       "      <td>0.682775</td>\n",
       "      <td>1.891750</td>\n",
       "      <td>0.378925</td>\n",
       "      <td>0.669975</td>\n",
       "      <td>0.005700</td>\n",
       "      <td>0.002800</td>\n",
       "      <td>0.448875</td>\n",
       "      <td>0.942800</td>\n",
       "      <td>207.251575</td>\n",
       "      <td>196.378850</td>\n",
       "      <td>180.407000</td>\n",
       "      <td>19.400025</td>\n",
       "      <td>20.171450</td>\n",
       "      <td>20.399650</td>\n",
       "      <td>-0.879525</td>\n",
       "      <td>-0.772800</td>\n",
       "      <td>-0.611025</td>\n",
       "      <td>2.423975</td>\n",
       "      <td>2.369800</td>\n",
       "      <td>2.423225</td>\n",
       "    </tr>\n",
       "    <tr>\n",
       "      <th>50%</th>\n",
       "      <td>74054.000000</td>\n",
       "      <td>1246.911500</td>\n",
       "      <td>443.809800</td>\n",
       "      <td>221.193800</td>\n",
       "      <td>0.869400</td>\n",
       "      <td>307.064300</td>\n",
       "      <td>0.947600</td>\n",
       "      <td>78871.000000</td>\n",
       "      <td>0.722400</td>\n",
       "      <td>2.023600</td>\n",
       "      <td>0.618550</td>\n",
       "      <td>0.687950</td>\n",
       "      <td>0.006000</td>\n",
       "      <td>0.003000</td>\n",
       "      <td>0.473300</td>\n",
       "      <td>0.968550</td>\n",
       "      <td>215.812950</td>\n",
       "      <td>205.322100</td>\n",
       "      <td>189.034300</td>\n",
       "      <td>22.023400</td>\n",
       "      <td>23.110000</td>\n",
       "      <td>23.242050</td>\n",
       "      <td>-0.652550</td>\n",
       "      <td>-0.542500</td>\n",
       "      <td>-0.368100</td>\n",
       "      <td>2.811700</td>\n",
       "      <td>2.715400</td>\n",
       "      <td>2.754600</td>\n",
       "    </tr>\n",
       "    <tr>\n",
       "      <th>75%</th>\n",
       "      <td>80541.000000</td>\n",
       "      <td>1528.402750</td>\n",
       "      <td>467.122200</td>\n",
       "      <td>233.281800</td>\n",
       "      <td>0.884625</td>\n",
       "      <td>320.231150</td>\n",
       "      <td>0.970200</td>\n",
       "      <td>85720.000000</td>\n",
       "      <td>0.750200</td>\n",
       "      <td>2.144725</td>\n",
       "      <td>0.706450</td>\n",
       "      <td>0.709450</td>\n",
       "      <td>0.006400</td>\n",
       "      <td>0.003200</td>\n",
       "      <td>0.503300</td>\n",
       "      <td>0.981600</td>\n",
       "      <td>223.451625</td>\n",
       "      <td>213.607075</td>\n",
       "      <td>198.121875</td>\n",
       "      <td>24.448500</td>\n",
       "      <td>25.756275</td>\n",
       "      <td>25.865175</td>\n",
       "      <td>-0.375475</td>\n",
       "      <td>-0.260500</td>\n",
       "      <td>-0.026850</td>\n",
       "      <td>3.332175</td>\n",
       "      <td>3.212900</td>\n",
       "      <td>3.274925</td>\n",
       "    </tr>\n",
       "    <tr>\n",
       "      <th>max</th>\n",
       "      <td>96582.000000</td>\n",
       "      <td>2755.049100</td>\n",
       "      <td>541.966100</td>\n",
       "      <td>305.893800</td>\n",
       "      <td>0.946000</td>\n",
       "      <td>350.673700</td>\n",
       "      <td>0.993600</td>\n",
       "      <td>109071.000000</td>\n",
       "      <td>0.812300</td>\n",
       "      <td>3.085800</td>\n",
       "      <td>0.874000</td>\n",
       "      <td>0.808200</td>\n",
       "      <td>0.013100</td>\n",
       "      <td>0.005300</td>\n",
       "      <td>0.653200</td>\n",
       "      <td>0.998700</td>\n",
       "      <td>241.275200</td>\n",
       "      <td>240.506500</td>\n",
       "      <td>233.176900</td>\n",
       "      <td>30.838300</td>\n",
       "      <td>33.614600</td>\n",
       "      <td>42.123700</td>\n",
       "      <td>1.865400</td>\n",
       "      <td>2.257600</td>\n",
       "      <td>1.852100</td>\n",
       "      <td>8.890600</td>\n",
       "      <td>10.453900</td>\n",
       "      <td>11.533900</td>\n",
       "    </tr>\n",
       "  </tbody>\n",
       "</table>\n",
       "</div>"
      ],
      "text/plain": [
       "               Area    Perimeter   Major_Axis   Minor_Axis  Eccentricity  \\\n",
       "count   1232.000000  1232.000000  1232.000000  1232.000000   1232.000000   \n",
       "mean   73285.429383  1378.932281   442.421403   220.853789      0.863201   \n",
       "std    11049.987290   341.513708    34.898389    22.438073      0.033904   \n",
       "min    29808.000000   858.363000   320.344500   133.509600      0.624900   \n",
       "25%    67103.000000  1148.218750   421.279525   208.566825      0.848850   \n",
       "50%    74054.000000  1246.911500   443.809800   221.193800      0.869400   \n",
       "75%    80541.000000  1528.402750   467.122200   233.281800      0.884625   \n",
       "max    96582.000000  2755.049100   541.966100   305.893800      0.946000   \n",
       "\n",
       "           Eqdiasq     Solidity    Convex_Area       Extent  Aspect_Ratio  \\\n",
       "count  1232.000000  1232.000000    1232.000000  1232.000000   1232.000000   \n",
       "mean    304.527525     0.934641   78386.017857     0.711529      2.018508   \n",
       "std      23.944910     0.050138   11079.015412     0.054198      0.208580   \n",
       "min     194.814600     0.588000   37935.000000     0.427200      1.281000   \n",
       "25%     292.298100     0.914075   71805.000000     0.682775      1.891750   \n",
       "50%     307.064300     0.947600   78871.000000     0.722400      2.023600   \n",
       "75%     320.231150     0.970200   85720.000000     0.750200      2.144725   \n",
       "max     350.673700     0.993600  109071.000000     0.812300      3.085800   \n",
       "\n",
       "         Roundness  Compactness  Shapefactor_1  Shapefactor_2  Shapefactor_3  \\\n",
       "count  1232.000000  1232.000000    1232.000000    1232.000000    1232.000000   \n",
       "mean      0.549773     0.689077       0.006135       0.003054       0.475938   \n",
       "std       0.195164     0.033331       0.000758       0.000361       0.045538   \n",
       "min       0.062800     0.476000       0.004700       0.002400       0.226600   \n",
       "25%       0.378925     0.669975       0.005700       0.002800       0.448875   \n",
       "50%       0.618550     0.687950       0.006000       0.003000       0.473300   \n",
       "75%       0.706450     0.709450       0.006400       0.003200       0.503300   \n",
       "max       0.874000     0.808200       0.013100       0.005300       0.653200   \n",
       "\n",
       "       Shapefactor_4      Mean_RR      Mean_RG      Mean_RB    StdDev_RR  \\\n",
       "count    1232.000000  1232.000000  1232.000000  1232.000000  1232.000000   \n",
       "mean        0.952419   214.974200   204.929631   189.421605    21.779438   \n",
       "std         0.048931    11.690901    13.003349    12.917091     3.460150   \n",
       "min         0.620400   167.191300   162.623000   146.787600    10.611100   \n",
       "25%         0.942800   207.251575   196.378850   180.407000    19.400025   \n",
       "50%         0.968550   215.812950   205.322100   189.034300    22.023400   \n",
       "75%         0.981600   223.451625   213.607075   198.121875    24.448500   \n",
       "max         0.998700   241.275200   240.506500   233.176900    30.838300   \n",
       "\n",
       "         StdDev_RG    StdDev_RB      Skew_RR      Skew_RG      Skew_RB  \\\n",
       "count  1232.000000  1232.000000  1232.000000  1232.000000  1232.000000   \n",
       "mean     22.897670    23.162756    -0.630121    -0.502209    -0.293524   \n",
       "std       3.798826     3.924290     0.416308     0.427092     0.473994   \n",
       "min      11.985400    12.836800    -1.931600    -1.658200    -2.348600   \n",
       "25%      20.171450    20.399650    -0.879525    -0.772800    -0.611025   \n",
       "50%      23.110000    23.242050    -0.652550    -0.542500    -0.368100   \n",
       "75%      25.756275    25.865175    -0.375475    -0.260500    -0.026850   \n",
       "max      33.614600    42.123700     1.865400     2.257600     1.852100   \n",
       "\n",
       "       Kurtosis_RR  Kurtosis_RG  Kurtosis_RB  \n",
       "count  1232.000000  1232.000000  1232.000000  \n",
       "mean      2.955472     2.855450     2.973732  \n",
       "std       0.747710     0.693212     0.853131  \n",
       "min       1.662400     1.690100     1.668000  \n",
       "25%       2.423975     2.369800     2.423225  \n",
       "50%       2.811700     2.715400     2.754600  \n",
       "75%       3.332175     3.212900     3.274925  \n",
       "max       8.890600    10.453900    11.533900  "
      ]
     },
     "execution_count": 10,
     "metadata": {},
     "output_type": "execute_result"
    }
   ],
   "source": [
    "description_kirmizi = df.loc[df['Class']=='Kirmizi_Pistachio'].describe()\n",
    "description_kirmizi"
   ]
  },
  {
   "cell_type": "code",
   "execution_count": 11,
   "id": "6878ed08",
   "metadata": {},
   "outputs": [
    {
     "data": {
      "text/html": [
       "<div>\n",
       "<style scoped>\n",
       "    .dataframe tbody tr th:only-of-type {\n",
       "        vertical-align: middle;\n",
       "    }\n",
       "\n",
       "    .dataframe tbody tr th {\n",
       "        vertical-align: top;\n",
       "    }\n",
       "\n",
       "    .dataframe thead th {\n",
       "        text-align: right;\n",
       "    }\n",
       "</style>\n",
       "<table border=\"1\" class=\"dataframe\">\n",
       "  <thead>\n",
       "    <tr style=\"text-align: right;\">\n",
       "      <th></th>\n",
       "      <th>Area</th>\n",
       "      <th>Perimeter</th>\n",
       "      <th>Major_Axis</th>\n",
       "      <th>Minor_Axis</th>\n",
       "      <th>Eccentricity</th>\n",
       "      <th>Eqdiasq</th>\n",
       "      <th>Solidity</th>\n",
       "      <th>Convex_Area</th>\n",
       "      <th>Extent</th>\n",
       "      <th>Aspect_Ratio</th>\n",
       "      <th>Roundness</th>\n",
       "      <th>Compactness</th>\n",
       "      <th>Shapefactor_1</th>\n",
       "      <th>Shapefactor_2</th>\n",
       "      <th>Shapefactor_3</th>\n",
       "      <th>Shapefactor_4</th>\n",
       "      <th>Mean_RR</th>\n",
       "      <th>Mean_RG</th>\n",
       "      <th>Mean_RB</th>\n",
       "      <th>StdDev_RR</th>\n",
       "      <th>StdDev_RG</th>\n",
       "      <th>StdDev_RB</th>\n",
       "      <th>Skew_RR</th>\n",
       "      <th>Skew_RG</th>\n",
       "      <th>Skew_RB</th>\n",
       "      <th>Kurtosis_RR</th>\n",
       "      <th>Kurtosis_RG</th>\n",
       "      <th>Kurtosis_RB</th>\n",
       "      <th>Class</th>\n",
       "    </tr>\n",
       "  </thead>\n",
       "  <tbody>\n",
       "    <tr>\n",
       "      <th>1232</th>\n",
       "      <td>77869</td>\n",
       "      <td>1853.8840</td>\n",
       "      <td>421.2526</td>\n",
       "      <td>240.8186</td>\n",
       "      <td>0.8205</td>\n",
       "      <td>314.8744</td>\n",
       "      <td>0.9544</td>\n",
       "      <td>81591</td>\n",
       "      <td>0.7079</td>\n",
       "      <td>1.7493</td>\n",
       "      <td>0.2847</td>\n",
       "      <td>0.7475</td>\n",
       "      <td>0.0054</td>\n",
       "      <td>0.0031</td>\n",
       "      <td>0.5587</td>\n",
       "      <td>0.9773</td>\n",
       "      <td>228.4509</td>\n",
       "      <td>209.7050</td>\n",
       "      <td>178.1281</td>\n",
       "      <td>25.3395</td>\n",
       "      <td>26.5277</td>\n",
       "      <td>30.5336</td>\n",
       "      <td>-0.7159</td>\n",
       "      <td>-0.6372</td>\n",
       "      <td>-0.6155</td>\n",
       "      <td>2.3924</td>\n",
       "      <td>2.2307</td>\n",
       "      <td>2.6791</td>\n",
       "      <td>Siirt_Pistachio</td>\n",
       "    </tr>\n",
       "    <tr>\n",
       "      <th>1233</th>\n",
       "      <td>94948</td>\n",
       "      <td>1184.8521</td>\n",
       "      <td>456.3920</td>\n",
       "      <td>267.6631</td>\n",
       "      <td>0.8100</td>\n",
       "      <td>347.6946</td>\n",
       "      <td>0.9908</td>\n",
       "      <td>95826</td>\n",
       "      <td>0.7605</td>\n",
       "      <td>1.7051</td>\n",
       "      <td>0.8499</td>\n",
       "      <td>0.7618</td>\n",
       "      <td>0.0048</td>\n",
       "      <td>0.0028</td>\n",
       "      <td>0.5804</td>\n",
       "      <td>0.9896</td>\n",
       "      <td>218.5263</td>\n",
       "      <td>199.5023</td>\n",
       "      <td>169.7240</td>\n",
       "      <td>18.6123</td>\n",
       "      <td>17.4126</td>\n",
       "      <td>18.9127</td>\n",
       "      <td>-0.4128</td>\n",
       "      <td>-0.3753</td>\n",
       "      <td>0.0760</td>\n",
       "      <td>3.1365</td>\n",
       "      <td>2.8308</td>\n",
       "      <td>2.8503</td>\n",
       "      <td>Siirt_Pistachio</td>\n",
       "    </tr>\n",
       "    <tr>\n",
       "      <th>1234</th>\n",
       "      <td>92639</td>\n",
       "      <td>1792.0270</td>\n",
       "      <td>456.4867</td>\n",
       "      <td>275.1674</td>\n",
       "      <td>0.7979</td>\n",
       "      <td>343.4409</td>\n",
       "      <td>0.9226</td>\n",
       "      <td>100409</td>\n",
       "      <td>0.7494</td>\n",
       "      <td>1.6589</td>\n",
       "      <td>0.3625</td>\n",
       "      <td>0.7524</td>\n",
       "      <td>0.0049</td>\n",
       "      <td>0.0030</td>\n",
       "      <td>0.5660</td>\n",
       "      <td>0.9390</td>\n",
       "      <td>228.3521</td>\n",
       "      <td>211.3281</td>\n",
       "      <td>181.0353</td>\n",
       "      <td>22.2685</td>\n",
       "      <td>21.6097</td>\n",
       "      <td>24.6733</td>\n",
       "      <td>-0.8443</td>\n",
       "      <td>-0.7804</td>\n",
       "      <td>-0.9343</td>\n",
       "      <td>2.8944</td>\n",
       "      <td>2.9480</td>\n",
       "      <td>4.1040</td>\n",
       "      <td>Siirt_Pistachio</td>\n",
       "    </tr>\n",
       "    <tr>\n",
       "      <th>1235</th>\n",
       "      <td>84309</td>\n",
       "      <td>1524.9170</td>\n",
       "      <td>442.2157</td>\n",
       "      <td>246.1724</td>\n",
       "      <td>0.8307</td>\n",
       "      <td>327.6363</td>\n",
       "      <td>0.9648</td>\n",
       "      <td>87388</td>\n",
       "      <td>0.7535</td>\n",
       "      <td>1.7964</td>\n",
       "      <td>0.4556</td>\n",
       "      <td>0.7409</td>\n",
       "      <td>0.0052</td>\n",
       "      <td>0.0029</td>\n",
       "      <td>0.5489</td>\n",
       "      <td>0.9861</td>\n",
       "      <td>218.5673</td>\n",
       "      <td>196.4070</td>\n",
       "      <td>169.4727</td>\n",
       "      <td>19.2730</td>\n",
       "      <td>20.4494</td>\n",
       "      <td>19.7311</td>\n",
       "      <td>-0.5847</td>\n",
       "      <td>-0.5965</td>\n",
       "      <td>-0.5324</td>\n",
       "      <td>2.7717</td>\n",
       "      <td>2.6812</td>\n",
       "      <td>2.6696</td>\n",
       "      <td>Siirt_Pistachio</td>\n",
       "    </tr>\n",
       "    <tr>\n",
       "      <th>1236</th>\n",
       "      <td>74673</td>\n",
       "      <td>1955.6490</td>\n",
       "      <td>450.7327</td>\n",
       "      <td>237.1064</td>\n",
       "      <td>0.8505</td>\n",
       "      <td>308.3450</td>\n",
       "      <td>0.8704</td>\n",
       "      <td>85791</td>\n",
       "      <td>0.6051</td>\n",
       "      <td>1.9010</td>\n",
       "      <td>0.2454</td>\n",
       "      <td>0.6841</td>\n",
       "      <td>0.0060</td>\n",
       "      <td>0.0032</td>\n",
       "      <td>0.4680</td>\n",
       "      <td>0.8896</td>\n",
       "      <td>228.7432</td>\n",
       "      <td>210.1039</td>\n",
       "      <td>178.2594</td>\n",
       "      <td>20.8304</td>\n",
       "      <td>21.9959</td>\n",
       "      <td>19.1794</td>\n",
       "      <td>-1.0947</td>\n",
       "      <td>-1.1018</td>\n",
       "      <td>-0.8750</td>\n",
       "      <td>3.4917</td>\n",
       "      <td>3.4489</td>\n",
       "      <td>3.1175</td>\n",
       "      <td>Siirt_Pistachio</td>\n",
       "    </tr>\n",
       "    <tr>\n",
       "      <th>...</th>\n",
       "      <td>...</td>\n",
       "      <td>...</td>\n",
       "      <td>...</td>\n",
       "      <td>...</td>\n",
       "      <td>...</td>\n",
       "      <td>...</td>\n",
       "      <td>...</td>\n",
       "      <td>...</td>\n",
       "      <td>...</td>\n",
       "      <td>...</td>\n",
       "      <td>...</td>\n",
       "      <td>...</td>\n",
       "      <td>...</td>\n",
       "      <td>...</td>\n",
       "      <td>...</td>\n",
       "      <td>...</td>\n",
       "      <td>...</td>\n",
       "      <td>...</td>\n",
       "      <td>...</td>\n",
       "      <td>...</td>\n",
       "      <td>...</td>\n",
       "      <td>...</td>\n",
       "      <td>...</td>\n",
       "      <td>...</td>\n",
       "      <td>...</td>\n",
       "      <td>...</td>\n",
       "      <td>...</td>\n",
       "      <td>...</td>\n",
       "      <td>...</td>\n",
       "    </tr>\n",
       "    <tr>\n",
       "      <th>2143</th>\n",
       "      <td>85983</td>\n",
       "      <td>1157.1160</td>\n",
       "      <td>444.3447</td>\n",
       "      <td>248.8627</td>\n",
       "      <td>0.8284</td>\n",
       "      <td>330.8730</td>\n",
       "      <td>0.9823</td>\n",
       "      <td>87536</td>\n",
       "      <td>0.6799</td>\n",
       "      <td>1.7855</td>\n",
       "      <td>0.8070</td>\n",
       "      <td>0.7446</td>\n",
       "      <td>0.0052</td>\n",
       "      <td>0.0029</td>\n",
       "      <td>0.5545</td>\n",
       "      <td>0.9900</td>\n",
       "      <td>217.9821</td>\n",
       "      <td>199.6607</td>\n",
       "      <td>167.9611</td>\n",
       "      <td>20.8474</td>\n",
       "      <td>20.8118</td>\n",
       "      <td>21.1175</td>\n",
       "      <td>-0.6994</td>\n",
       "      <td>-0.7071</td>\n",
       "      <td>-0.6963</td>\n",
       "      <td>2.8853</td>\n",
       "      <td>2.6599</td>\n",
       "      <td>2.6317</td>\n",
       "      <td>Siirt_Pistachio</td>\n",
       "    </tr>\n",
       "    <tr>\n",
       "      <th>2144</th>\n",
       "      <td>85691</td>\n",
       "      <td>2327.3459</td>\n",
       "      <td>439.8794</td>\n",
       "      <td>278.9297</td>\n",
       "      <td>0.7732</td>\n",
       "      <td>330.3107</td>\n",
       "      <td>0.8886</td>\n",
       "      <td>96439</td>\n",
       "      <td>0.6590</td>\n",
       "      <td>1.5770</td>\n",
       "      <td>0.1988</td>\n",
       "      <td>0.7509</td>\n",
       "      <td>0.0051</td>\n",
       "      <td>0.0033</td>\n",
       "      <td>0.5639</td>\n",
       "      <td>0.8892</td>\n",
       "      <td>213.1749</td>\n",
       "      <td>196.7243</td>\n",
       "      <td>176.5908</td>\n",
       "      <td>21.2621</td>\n",
       "      <td>22.5004</td>\n",
       "      <td>21.5821</td>\n",
       "      <td>-0.5567</td>\n",
       "      <td>-0.4968</td>\n",
       "      <td>-0.6597</td>\n",
       "      <td>2.3022</td>\n",
       "      <td>2.2664</td>\n",
       "      <td>2.5161</td>\n",
       "      <td>Siirt_Pistachio</td>\n",
       "    </tr>\n",
       "    <tr>\n",
       "      <th>2145</th>\n",
       "      <td>101136</td>\n",
       "      <td>1255.6190</td>\n",
       "      <td>475.2161</td>\n",
       "      <td>271.3299</td>\n",
       "      <td>0.8210</td>\n",
       "      <td>358.8459</td>\n",
       "      <td>0.9888</td>\n",
       "      <td>102286</td>\n",
       "      <td>0.7584</td>\n",
       "      <td>1.7514</td>\n",
       "      <td>0.8061</td>\n",
       "      <td>0.7551</td>\n",
       "      <td>0.0047</td>\n",
       "      <td>0.0027</td>\n",
       "      <td>0.5702</td>\n",
       "      <td>0.9987</td>\n",
       "      <td>220.0782</td>\n",
       "      <td>205.8599</td>\n",
       "      <td>176.3508</td>\n",
       "      <td>21.1262</td>\n",
       "      <td>20.0279</td>\n",
       "      <td>17.4401</td>\n",
       "      <td>-0.9072</td>\n",
       "      <td>-0.8790</td>\n",
       "      <td>-0.4470</td>\n",
       "      <td>3.3112</td>\n",
       "      <td>3.4306</td>\n",
       "      <td>3.0697</td>\n",
       "      <td>Siirt_Pistachio</td>\n",
       "    </tr>\n",
       "    <tr>\n",
       "      <th>2146</th>\n",
       "      <td>97409</td>\n",
       "      <td>1195.2150</td>\n",
       "      <td>452.1823</td>\n",
       "      <td>274.5764</td>\n",
       "      <td>0.7945</td>\n",
       "      <td>352.1718</td>\n",
       "      <td>0.9902</td>\n",
       "      <td>98376</td>\n",
       "      <td>0.7635</td>\n",
       "      <td>1.6468</td>\n",
       "      <td>0.8569</td>\n",
       "      <td>0.7788</td>\n",
       "      <td>0.0046</td>\n",
       "      <td>0.0028</td>\n",
       "      <td>0.6066</td>\n",
       "      <td>0.9989</td>\n",
       "      <td>221.9399</td>\n",
       "      <td>205.7643</td>\n",
       "      <td>180.9608</td>\n",
       "      <td>19.3274</td>\n",
       "      <td>19.1782</td>\n",
       "      <td>19.8930</td>\n",
       "      <td>-0.9473</td>\n",
       "      <td>-0.8404</td>\n",
       "      <td>-0.3153</td>\n",
       "      <td>3.4237</td>\n",
       "      <td>2.9606</td>\n",
       "      <td>3.0033</td>\n",
       "      <td>Siirt_Pistachio</td>\n",
       "    </tr>\n",
       "    <tr>\n",
       "      <th>2147</th>\n",
       "      <td>78466</td>\n",
       "      <td>2356.9080</td>\n",
       "      <td>445.9131</td>\n",
       "      <td>258.5125</td>\n",
       "      <td>0.8148</td>\n",
       "      <td>316.0791</td>\n",
       "      <td>0.8662</td>\n",
       "      <td>90591</td>\n",
       "      <td>0.6123</td>\n",
       "      <td>1.7249</td>\n",
       "      <td>0.1775</td>\n",
       "      <td>0.7088</td>\n",
       "      <td>0.0057</td>\n",
       "      <td>0.0033</td>\n",
       "      <td>0.5024</td>\n",
       "      <td>0.8667</td>\n",
       "      <td>219.7287</td>\n",
       "      <td>196.4995</td>\n",
       "      <td>191.3417</td>\n",
       "      <td>24.5451</td>\n",
       "      <td>25.9279</td>\n",
       "      <td>24.4214</td>\n",
       "      <td>-0.7993</td>\n",
       "      <td>-0.5962</td>\n",
       "      <td>-0.3492</td>\n",
       "      <td>2.5278</td>\n",
       "      <td>2.2248</td>\n",
       "      <td>2.4480</td>\n",
       "      <td>Siirt_Pistachio</td>\n",
       "    </tr>\n",
       "  </tbody>\n",
       "</table>\n",
       "<p>916 rows × 29 columns</p>\n",
       "</div>"
      ],
      "text/plain": [
       "        Area  Perimeter  Major_Axis  Minor_Axis  Eccentricity   Eqdiasq  \\\n",
       "1232   77869  1853.8840    421.2526    240.8186        0.8205  314.8744   \n",
       "1233   94948  1184.8521    456.3920    267.6631        0.8100  347.6946   \n",
       "1234   92639  1792.0270    456.4867    275.1674        0.7979  343.4409   \n",
       "1235   84309  1524.9170    442.2157    246.1724        0.8307  327.6363   \n",
       "1236   74673  1955.6490    450.7327    237.1064        0.8505  308.3450   \n",
       "...      ...        ...         ...         ...           ...       ...   \n",
       "2143   85983  1157.1160    444.3447    248.8627        0.8284  330.8730   \n",
       "2144   85691  2327.3459    439.8794    278.9297        0.7732  330.3107   \n",
       "2145  101136  1255.6190    475.2161    271.3299        0.8210  358.8459   \n",
       "2146   97409  1195.2150    452.1823    274.5764        0.7945  352.1718   \n",
       "2147   78466  2356.9080    445.9131    258.5125        0.8148  316.0791   \n",
       "\n",
       "      Solidity  Convex_Area  Extent  Aspect_Ratio  Roundness  Compactness  \\\n",
       "1232    0.9544        81591  0.7079        1.7493     0.2847       0.7475   \n",
       "1233    0.9908        95826  0.7605        1.7051     0.8499       0.7618   \n",
       "1234    0.9226       100409  0.7494        1.6589     0.3625       0.7524   \n",
       "1235    0.9648        87388  0.7535        1.7964     0.4556       0.7409   \n",
       "1236    0.8704        85791  0.6051        1.9010     0.2454       0.6841   \n",
       "...        ...          ...     ...           ...        ...          ...   \n",
       "2143    0.9823        87536  0.6799        1.7855     0.8070       0.7446   \n",
       "2144    0.8886        96439  0.6590        1.5770     0.1988       0.7509   \n",
       "2145    0.9888       102286  0.7584        1.7514     0.8061       0.7551   \n",
       "2146    0.9902        98376  0.7635        1.6468     0.8569       0.7788   \n",
       "2147    0.8662        90591  0.6123        1.7249     0.1775       0.7088   \n",
       "\n",
       "      Shapefactor_1  Shapefactor_2  Shapefactor_3  Shapefactor_4   Mean_RR  \\\n",
       "1232         0.0054         0.0031         0.5587         0.9773  228.4509   \n",
       "1233         0.0048         0.0028         0.5804         0.9896  218.5263   \n",
       "1234         0.0049         0.0030         0.5660         0.9390  228.3521   \n",
       "1235         0.0052         0.0029         0.5489         0.9861  218.5673   \n",
       "1236         0.0060         0.0032         0.4680         0.8896  228.7432   \n",
       "...             ...            ...            ...            ...       ...   \n",
       "2143         0.0052         0.0029         0.5545         0.9900  217.9821   \n",
       "2144         0.0051         0.0033         0.5639         0.8892  213.1749   \n",
       "2145         0.0047         0.0027         0.5702         0.9987  220.0782   \n",
       "2146         0.0046         0.0028         0.6066         0.9989  221.9399   \n",
       "2147         0.0057         0.0033         0.5024         0.8667  219.7287   \n",
       "\n",
       "       Mean_RG   Mean_RB  StdDev_RR  StdDev_RG  StdDev_RB  Skew_RR  Skew_RG  \\\n",
       "1232  209.7050  178.1281    25.3395    26.5277    30.5336  -0.7159  -0.6372   \n",
       "1233  199.5023  169.7240    18.6123    17.4126    18.9127  -0.4128  -0.3753   \n",
       "1234  211.3281  181.0353    22.2685    21.6097    24.6733  -0.8443  -0.7804   \n",
       "1235  196.4070  169.4727    19.2730    20.4494    19.7311  -0.5847  -0.5965   \n",
       "1236  210.1039  178.2594    20.8304    21.9959    19.1794  -1.0947  -1.1018   \n",
       "...        ...       ...        ...        ...        ...      ...      ...   \n",
       "2143  199.6607  167.9611    20.8474    20.8118    21.1175  -0.6994  -0.7071   \n",
       "2144  196.7243  176.5908    21.2621    22.5004    21.5821  -0.5567  -0.4968   \n",
       "2145  205.8599  176.3508    21.1262    20.0279    17.4401  -0.9072  -0.8790   \n",
       "2146  205.7643  180.9608    19.3274    19.1782    19.8930  -0.9473  -0.8404   \n",
       "2147  196.4995  191.3417    24.5451    25.9279    24.4214  -0.7993  -0.5962   \n",
       "\n",
       "      Skew_RB  Kurtosis_RR  Kurtosis_RG  Kurtosis_RB            Class  \n",
       "1232  -0.6155       2.3924       2.2307       2.6791  Siirt_Pistachio  \n",
       "1233   0.0760       3.1365       2.8308       2.8503  Siirt_Pistachio  \n",
       "1234  -0.9343       2.8944       2.9480       4.1040  Siirt_Pistachio  \n",
       "1235  -0.5324       2.7717       2.6812       2.6696  Siirt_Pistachio  \n",
       "1236  -0.8750       3.4917       3.4489       3.1175  Siirt_Pistachio  \n",
       "...       ...          ...          ...          ...              ...  \n",
       "2143  -0.6963       2.8853       2.6599       2.6317  Siirt_Pistachio  \n",
       "2144  -0.6597       2.3022       2.2664       2.5161  Siirt_Pistachio  \n",
       "2145  -0.4470       3.3112       3.4306       3.0697  Siirt_Pistachio  \n",
       "2146  -0.3153       3.4237       2.9606       3.0033  Siirt_Pistachio  \n",
       "2147  -0.3492       2.5278       2.2248       2.4480  Siirt_Pistachio  \n",
       "\n",
       "[916 rows x 29 columns]"
      ]
     },
     "execution_count": 11,
     "metadata": {},
     "output_type": "execute_result"
    }
   ],
   "source": [
    "df.loc[df['Class']=='Siirt_Pistachio']"
   ]
  },
  {
   "cell_type": "code",
   "execution_count": 12,
   "id": "d473077a",
   "metadata": {},
   "outputs": [
    {
     "data": {
      "text/html": [
       "<div>\n",
       "<style scoped>\n",
       "    .dataframe tbody tr th:only-of-type {\n",
       "        vertical-align: middle;\n",
       "    }\n",
       "\n",
       "    .dataframe tbody tr th {\n",
       "        vertical-align: top;\n",
       "    }\n",
       "\n",
       "    .dataframe thead th {\n",
       "        text-align: right;\n",
       "    }\n",
       "</style>\n",
       "<table border=\"1\" class=\"dataframe\">\n",
       "  <thead>\n",
       "    <tr style=\"text-align: right;\">\n",
       "      <th></th>\n",
       "      <th>Area</th>\n",
       "      <th>Perimeter</th>\n",
       "      <th>Major_Axis</th>\n",
       "      <th>Minor_Axis</th>\n",
       "      <th>Eccentricity</th>\n",
       "      <th>Eqdiasq</th>\n",
       "      <th>Solidity</th>\n",
       "      <th>Convex_Area</th>\n",
       "      <th>Extent</th>\n",
       "      <th>Aspect_Ratio</th>\n",
       "      <th>Roundness</th>\n",
       "      <th>Compactness</th>\n",
       "      <th>Shapefactor_1</th>\n",
       "      <th>Shapefactor_2</th>\n",
       "      <th>Shapefactor_3</th>\n",
       "      <th>Shapefactor_4</th>\n",
       "      <th>Mean_RR</th>\n",
       "      <th>Mean_RG</th>\n",
       "      <th>Mean_RB</th>\n",
       "      <th>StdDev_RR</th>\n",
       "      <th>StdDev_RG</th>\n",
       "      <th>StdDev_RB</th>\n",
       "      <th>Skew_RR</th>\n",
       "      <th>Skew_RG</th>\n",
       "      <th>Skew_RB</th>\n",
       "      <th>Kurtosis_RR</th>\n",
       "      <th>Kurtosis_RG</th>\n",
       "      <th>Kurtosis_RB</th>\n",
       "    </tr>\n",
       "  </thead>\n",
       "  <tbody>\n",
       "    <tr>\n",
       "      <th>count</th>\n",
       "      <td>916.000000</td>\n",
       "      <td>916.000000</td>\n",
       "      <td>916.000000</td>\n",
       "      <td>916.000000</td>\n",
       "      <td>916.000000</td>\n",
       "      <td>916.000000</td>\n",
       "      <td>916.000000</td>\n",
       "      <td>916.000000</td>\n",
       "      <td>916.000000</td>\n",
       "      <td>916.000000</td>\n",
       "      <td>916.000000</td>\n",
       "      <td>916.000000</td>\n",
       "      <td>916.000000</td>\n",
       "      <td>916.000000</td>\n",
       "      <td>916.000000</td>\n",
       "      <td>916.000000</td>\n",
       "      <td>916.000000</td>\n",
       "      <td>916.000000</td>\n",
       "      <td>916.000000</td>\n",
       "      <td>916.000000</td>\n",
       "      <td>916.000000</td>\n",
       "      <td>916.000000</td>\n",
       "      <td>916.000000</td>\n",
       "      <td>916.000000</td>\n",
       "      <td>916.000000</td>\n",
       "      <td>916.000000</td>\n",
       "      <td>916.000000</td>\n",
       "      <td>916.000000</td>\n",
       "    </tr>\n",
       "    <tr>\n",
       "      <th>mean</th>\n",
       "      <td>88915.239083</td>\n",
       "      <td>1489.238811</td>\n",
       "      <td>451.396959</td>\n",
       "      <td>261.792543</td>\n",
       "      <td>0.809308</td>\n",
       "      <td>335.930647</td>\n",
       "      <td>0.947425</td>\n",
       "      <td>93932.805677</td>\n",
       "      <td>0.722170</td>\n",
       "      <td>1.736281</td>\n",
       "      <td>0.595264</td>\n",
       "      <td>0.745355</td>\n",
       "      <td>0.005118</td>\n",
       "      <td>0.002967</td>\n",
       "      <td>0.556895</td>\n",
       "      <td>0.959030</td>\n",
       "      <td>222.227934</td>\n",
       "      <td>212.066283</td>\n",
       "      <td>195.456890</td>\n",
       "      <td>20.842961</td>\n",
       "      <td>22.179602</td>\n",
       "      <td>21.437556</td>\n",
       "      <td>-0.876629</td>\n",
       "      <td>-0.768062</td>\n",
       "      <td>-0.466157</td>\n",
       "      <td>3.186518</td>\n",
       "      <td>2.966989</td>\n",
       "      <td>2.895973</td>\n",
       "    </tr>\n",
       "    <tr>\n",
       "      <th>std</th>\n",
       "      <td>9973.601038</td>\n",
       "      <td>408.739359</td>\n",
       "      <td>28.023904</td>\n",
       "      <td>22.718018</td>\n",
       "      <td>0.048625</td>\n",
       "      <td>19.010347</td>\n",
       "      <td>0.049969</td>\n",
       "      <td>10106.461313</td>\n",
       "      <td>0.049582</td>\n",
       "      <td>0.176075</td>\n",
       "      <td>0.231914</td>\n",
       "      <td>0.036650</td>\n",
       "      <td>0.000448</td>\n",
       "      <td>0.000302</td>\n",
       "      <td>0.055141</td>\n",
       "      <td>0.055315</td>\n",
       "      <td>7.697604</td>\n",
       "      <td>9.235700</td>\n",
       "      <td>12.370300</td>\n",
       "      <td>2.518888</td>\n",
       "      <td>3.327998</td>\n",
       "      <td>3.707482</td>\n",
       "      <td>0.281058</td>\n",
       "      <td>0.263595</td>\n",
       "      <td>0.329212</td>\n",
       "      <td>0.693785</td>\n",
       "      <td>0.584766</td>\n",
       "      <td>0.581218</td>\n",
       "    </tr>\n",
       "    <tr>\n",
       "      <th>min</th>\n",
       "      <td>55000.000000</td>\n",
       "      <td>1018.376000</td>\n",
       "      <td>336.944000</td>\n",
       "      <td>171.062000</td>\n",
       "      <td>0.504900</td>\n",
       "      <td>264.628400</td>\n",
       "      <td>0.697500</td>\n",
       "      <td>59754.000000</td>\n",
       "      <td>0.503500</td>\n",
       "      <td>1.158500</td>\n",
       "      <td>0.122000</td>\n",
       "      <td>0.606700</td>\n",
       "      <td>0.004000</td>\n",
       "      <td>0.002400</td>\n",
       "      <td>0.368100</td>\n",
       "      <td>0.659800</td>\n",
       "      <td>195.086200</td>\n",
       "      <td>182.597000</td>\n",
       "      <td>147.368100</td>\n",
       "      <td>13.463600</td>\n",
       "      <td>13.670300</td>\n",
       "      <td>11.197100</td>\n",
       "      <td>-1.688600</td>\n",
       "      <td>-1.568700</td>\n",
       "      <td>-1.322100</td>\n",
       "      <td>1.715200</td>\n",
       "      <td>1.665500</td>\n",
       "      <td>1.522500</td>\n",
       "    </tr>\n",
       "    <tr>\n",
       "      <th>25%</th>\n",
       "      <td>82491.500000</td>\n",
       "      <td>1198.719975</td>\n",
       "      <td>432.777975</td>\n",
       "      <td>245.397225</td>\n",
       "      <td>0.788525</td>\n",
       "      <td>324.085525</td>\n",
       "      <td>0.927125</td>\n",
       "      <td>87259.250000</td>\n",
       "      <td>0.694300</td>\n",
       "      <td>1.626100</td>\n",
       "      <td>0.346000</td>\n",
       "      <td>0.723150</td>\n",
       "      <td>0.004800</td>\n",
       "      <td>0.002800</td>\n",
       "      <td>0.522950</td>\n",
       "      <td>0.947200</td>\n",
       "      <td>217.222400</td>\n",
       "      <td>205.736125</td>\n",
       "      <td>187.118125</td>\n",
       "      <td>19.164775</td>\n",
       "      <td>19.954500</td>\n",
       "      <td>19.061475</td>\n",
       "      <td>-1.071025</td>\n",
       "      <td>-0.950050</td>\n",
       "      <td>-0.687900</td>\n",
       "      <td>2.665575</td>\n",
       "      <td>2.554475</td>\n",
       "      <td>2.491950</td>\n",
       "    </tr>\n",
       "    <tr>\n",
       "      <th>50%</th>\n",
       "      <td>88740.000000</td>\n",
       "      <td>1286.089950</td>\n",
       "      <td>452.952800</td>\n",
       "      <td>259.562500</td>\n",
       "      <td>0.819450</td>\n",
       "      <td>336.135800</td>\n",
       "      <td>0.963500</td>\n",
       "      <td>93592.000000</td>\n",
       "      <td>0.735350</td>\n",
       "      <td>1.744800</td>\n",
       "      <td>0.700150</td>\n",
       "      <td>0.742850</td>\n",
       "      <td>0.005100</td>\n",
       "      <td>0.002900</td>\n",
       "      <td>0.551800</td>\n",
       "      <td>0.981600</td>\n",
       "      <td>222.820850</td>\n",
       "      <td>212.152200</td>\n",
       "      <td>196.028950</td>\n",
       "      <td>20.943900</td>\n",
       "      <td>22.011550</td>\n",
       "      <td>21.167050</td>\n",
       "      <td>-0.892050</td>\n",
       "      <td>-0.773750</td>\n",
       "      <td>-0.480750</td>\n",
       "      <td>3.117400</td>\n",
       "      <td>2.903900</td>\n",
       "      <td>2.808250</td>\n",
       "    </tr>\n",
       "    <tr>\n",
       "      <th>75%</th>\n",
       "      <td>95861.000000</td>\n",
       "      <td>1768.030525</td>\n",
       "      <td>470.052700</td>\n",
       "      <td>274.984100</td>\n",
       "      <td>0.841925</td>\n",
       "      <td>349.362300</td>\n",
       "      <td>0.985000</td>\n",
       "      <td>100464.500000</td>\n",
       "      <td>0.758225</td>\n",
       "      <td>1.853375</td>\n",
       "      <td>0.786925</td>\n",
       "      <td>0.764500</td>\n",
       "      <td>0.005400</td>\n",
       "      <td>0.003100</td>\n",
       "      <td>0.584400</td>\n",
       "      <td>0.993600</td>\n",
       "      <td>227.900225</td>\n",
       "      <td>218.364850</td>\n",
       "      <td>203.912725</td>\n",
       "      <td>22.604375</td>\n",
       "      <td>24.301950</td>\n",
       "      <td>23.812000</td>\n",
       "      <td>-0.674425</td>\n",
       "      <td>-0.592825</td>\n",
       "      <td>-0.272400</td>\n",
       "      <td>3.604925</td>\n",
       "      <td>3.290875</td>\n",
       "      <td>3.183825</td>\n",
       "    </tr>\n",
       "    <tr>\n",
       "      <th>max</th>\n",
       "      <td>124008.000000</td>\n",
       "      <td>2746.772900</td>\n",
       "      <td>535.642200</td>\n",
       "      <td>383.046100</td>\n",
       "      <td>0.924700</td>\n",
       "      <td>397.356100</td>\n",
       "      <td>0.995100</td>\n",
       "      <td>132478.000000</td>\n",
       "      <td>0.820400</td>\n",
       "      <td>2.626300</td>\n",
       "      <td>0.933600</td>\n",
       "      <td>0.877900</td>\n",
       "      <td>0.007700</td>\n",
       "      <td>0.004700</td>\n",
       "      <td>0.770600</td>\n",
       "      <td>0.999000</td>\n",
       "      <td>240.866600</td>\n",
       "      <td>236.607700</td>\n",
       "      <td>235.000700</td>\n",
       "      <td>27.551400</td>\n",
       "      <td>32.171000</td>\n",
       "      <td>42.756600</td>\n",
       "      <td>-0.120000</td>\n",
       "      <td>0.313300</td>\n",
       "      <td>0.796000</td>\n",
       "      <td>5.858800</td>\n",
       "      <td>5.391200</td>\n",
       "      <td>5.936100</td>\n",
       "    </tr>\n",
       "  </tbody>\n",
       "</table>\n",
       "</div>"
      ],
      "text/plain": [
       "                Area    Perimeter  Major_Axis  Minor_Axis  Eccentricity  \\\n",
       "count     916.000000   916.000000  916.000000  916.000000    916.000000   \n",
       "mean    88915.239083  1489.238811  451.396959  261.792543      0.809308   \n",
       "std      9973.601038   408.739359   28.023904   22.718018      0.048625   \n",
       "min     55000.000000  1018.376000  336.944000  171.062000      0.504900   \n",
       "25%     82491.500000  1198.719975  432.777975  245.397225      0.788525   \n",
       "50%     88740.000000  1286.089950  452.952800  259.562500      0.819450   \n",
       "75%     95861.000000  1768.030525  470.052700  274.984100      0.841925   \n",
       "max    124008.000000  2746.772900  535.642200  383.046100      0.924700   \n",
       "\n",
       "          Eqdiasq    Solidity    Convex_Area      Extent  Aspect_Ratio  \\\n",
       "count  916.000000  916.000000     916.000000  916.000000    916.000000   \n",
       "mean   335.930647    0.947425   93932.805677    0.722170      1.736281   \n",
       "std     19.010347    0.049969   10106.461313    0.049582      0.176075   \n",
       "min    264.628400    0.697500   59754.000000    0.503500      1.158500   \n",
       "25%    324.085525    0.927125   87259.250000    0.694300      1.626100   \n",
       "50%    336.135800    0.963500   93592.000000    0.735350      1.744800   \n",
       "75%    349.362300    0.985000  100464.500000    0.758225      1.853375   \n",
       "max    397.356100    0.995100  132478.000000    0.820400      2.626300   \n",
       "\n",
       "        Roundness  Compactness  Shapefactor_1  Shapefactor_2  Shapefactor_3  \\\n",
       "count  916.000000   916.000000     916.000000     916.000000     916.000000   \n",
       "mean     0.595264     0.745355       0.005118       0.002967       0.556895   \n",
       "std      0.231914     0.036650       0.000448       0.000302       0.055141   \n",
       "min      0.122000     0.606700       0.004000       0.002400       0.368100   \n",
       "25%      0.346000     0.723150       0.004800       0.002800       0.522950   \n",
       "50%      0.700150     0.742850       0.005100       0.002900       0.551800   \n",
       "75%      0.786925     0.764500       0.005400       0.003100       0.584400   \n",
       "max      0.933600     0.877900       0.007700       0.004700       0.770600   \n",
       "\n",
       "       Shapefactor_4     Mean_RR     Mean_RG     Mean_RB   StdDev_RR  \\\n",
       "count     916.000000  916.000000  916.000000  916.000000  916.000000   \n",
       "mean        0.959030  222.227934  212.066283  195.456890   20.842961   \n",
       "std         0.055315    7.697604    9.235700   12.370300    2.518888   \n",
       "min         0.659800  195.086200  182.597000  147.368100   13.463600   \n",
       "25%         0.947200  217.222400  205.736125  187.118125   19.164775   \n",
       "50%         0.981600  222.820850  212.152200  196.028950   20.943900   \n",
       "75%         0.993600  227.900225  218.364850  203.912725   22.604375   \n",
       "max         0.999000  240.866600  236.607700  235.000700   27.551400   \n",
       "\n",
       "        StdDev_RG   StdDev_RB     Skew_RR     Skew_RG     Skew_RB  \\\n",
       "count  916.000000  916.000000  916.000000  916.000000  916.000000   \n",
       "mean    22.179602   21.437556   -0.876629   -0.768062   -0.466157   \n",
       "std      3.327998    3.707482    0.281058    0.263595    0.329212   \n",
       "min     13.670300   11.197100   -1.688600   -1.568700   -1.322100   \n",
       "25%     19.954500   19.061475   -1.071025   -0.950050   -0.687900   \n",
       "50%     22.011550   21.167050   -0.892050   -0.773750   -0.480750   \n",
       "75%     24.301950   23.812000   -0.674425   -0.592825   -0.272400   \n",
       "max     32.171000   42.756600   -0.120000    0.313300    0.796000   \n",
       "\n",
       "       Kurtosis_RR  Kurtosis_RG  Kurtosis_RB  \n",
       "count   916.000000   916.000000   916.000000  \n",
       "mean      3.186518     2.966989     2.895973  \n",
       "std       0.693785     0.584766     0.581218  \n",
       "min       1.715200     1.665500     1.522500  \n",
       "25%       2.665575     2.554475     2.491950  \n",
       "50%       3.117400     2.903900     2.808250  \n",
       "75%       3.604925     3.290875     3.183825  \n",
       "max       5.858800     5.391200     5.936100  "
      ]
     },
     "execution_count": 12,
     "metadata": {},
     "output_type": "execute_result"
    }
   ],
   "source": [
    "description_siirt = df.loc[df['Class']=='Siirt_Pistachio'].describe()\n",
    "description_siirt"
   ]
  },
  {
   "cell_type": "code",
   "execution_count": 13,
   "id": "825f0a5f",
   "metadata": {},
   "outputs": [
    {
     "data": {
      "text/plain": [
       "Kirmizi_Pistachio    1232\n",
       "Siirt_Pistachio       916\n",
       "Name: Class, dtype: int64"
      ]
     },
     "execution_count": 13,
     "metadata": {},
     "output_type": "execute_result"
    }
   ],
   "source": [
    "df['Class'].value_counts()"
   ]
  },
  {
   "cell_type": "code",
   "execution_count": 14,
   "id": "64e5eeb3",
   "metadata": {},
   "outputs": [
    {
     "data": {
      "image/png": "[encoded data removed]",
      "text/plain": [
       "<Figure size 504x504 with 1 Axes>"
      ]
     },
     "metadata": {},
     "output_type": "display_data"
    }
   ],
   "source": [
    "fig, pie_chart = plt.subplots(figsize=(7, 7))\n",
    "pistachio_labels = df['Class'].unique()\n",
    "pistachio_counts = df['Class'].value_counts()\n",
    "colours = ['r', 'y']\n",
    "\n",
    "pie_chart.pie(pistachio_counts, labels = pistachio_labels, colors = colours, autopct='%.1f%%',\n",
    "    wedgeprops={'linewidth': 3.0, 'edgecolor': 'white'},\n",
    "    textprops={'size': 'x-large'})\n",
    "\n",
    "pie_chart.set_title('Percent of Kirmizi vs Siirt Pistachios', fontsize=18)\n",
    "plt.show()"
   ]
  },
  {
   "cell_type": "code",
   "execution_count": 15,
   "id": "cc1c7cf2",
   "metadata": {
    "scrolled": false
   },
   "outputs": [
    {
     "data": {
      "image/png": "[encoded data removed]",
      "text/plain": [
       "<Figure size 504x504 with 1 Axes>"
      ]
     },
     "metadata": {
      "needs_background": "light"
     },
     "output_type": "display_data"
    }
   ],
   "source": [
    "fig, bar_graph = plt.subplots(figsize=(7,7))\n",
    "\n",
    "pistachio_labels = df['Class'].unique()\n",
    "pistachio_counts = df['Class'].value_counts()\n",
    "colours = ['r', 'y']\n",
    "\n",
    "bar_graph.barh(pistachio_labels, pistachio_counts, label = pistachio_labels, color = colours)\n",
    "\n",
    "bar_graph.set_ylabel('Pistachio Types', fontsize=16)\n",
    "bar_graph.set_xlabel('Count', fontsize=16)\n",
    "bar_graph.set_title('Count of Kirmizi vs Siirt Pistachios', fontsize=18)\n",
    "plt.show()\n"
   ]
  },
  {
   "cell_type": "markdown",
   "id": "f3274182",
   "metadata": {},
   "source": [
    "# Section 3: Feature Engineering"
   ]
  },
  {
   "cell_type": "markdown",
   "id": "b046f9d7",
   "metadata": {},
   "source": [
    "Our dataset has 28 features as seen in the data analysis section. \n",
    "In this section, we have defined what each feature is. \n",
    "Based on these definitions, we identified the features that we think would be most significant in differentiating the pistachios within the dataset."
   ]
  },
  {
   "cell_type": "markdown",
   "id": "4e8bb724",
   "metadata": {},
   "source": [
    "#### Understanding how the numerical values for the features are acquired/calculated\n",
    "\n",
    "\n",
    "<img src=\"features_definition.jpg\"/>\n",
    "Figure 6: Diagram showing how the data for the features was obtained"
   ]
  },
  {
   "cell_type": "markdown",
   "id": "e70bd0a0",
   "metadata": {},
   "source": [
    "### Examples of Kirmizi Pistachios from the dataset\n",
    "<table><tr>\n",
    "    <td> <img src=\"Pistachio_Image_Dataset/Kirmizi_Pistachio/kirmizi (1).jpg\" width=\"200\"/> </td>\n",
    "    <td> <img src=\"Pistachio_Image_Dataset/Kirmizi_Pistachio/kirmizi (2).jpg\" width=\"200\"/> </td>\n",
    "    <td> <img src=\"Pistachio_Image_Dataset/Kirmizi_Pistachio/kirmizi (3).jpg\" width=\"200\"/> </td>\n",
    "    <td> <img src=\"Pistachio_Image_Dataset/Kirmizi_Pistachio/kirmizi (4).jpg\" width=\"200\"/> </td>\n",
    "    <td> <img src=\"Pistachio_Image_Dataset/Kirmizi_Pistachio/kirmizi (5).jpg\" width=\"200\"/> </td>\n",
    "</tr></table>\n",
    "\n",
    "\n",
    "### Examples of Siirt Pistachios from the dataset\n",
    "<table><tr>\n",
    "    <td> <img src=\"Pistachio_Image_Dataset/Siirt_Pistachio/siirt (1).jpg\" width=\"200\"/> </td>\n",
    "    <td> <img src=\"Pistachio_Image_Dataset/Siirt_Pistachio/siirt (2).jpg\" width=\"200\"/> </td>\n",
    "    <td> <img src=\"Pistachio_Image_Dataset/Siirt_Pistachio/siirt (3).jpg\" width=\"200\"/> </td>\n",
    "    <td> <img src=\"Pistachio_Image_Dataset/Siirt_Pistachio/siirt (4).jpg\" width=\"200\"/> </td>\n",
    "    <td> <img src=\"Pistachio_Image_Dataset/Siirt_Pistachio/siirt (5).jpg\" width=\"200\"/> </td>\n",
    "</tr></table>"
   ]
  },
  {
   "cell_type": "markdown",
   "id": "b25190ed",
   "metadata": {},
   "source": [
    "### Definitions of features present in the dataset\n",
    "\n",
    "- 'Area':This indicates the number of pixels occupied by the image. With each image being at a standard resolution of 600 px x 600 px, it adds up each non-black pixel and gets the total value per image\n",
    "- 'Perimeter': Indicates the circumference of the pistachio bean in terms of pixels for the border of the image\n",
    "- 'Major Axis': This is the longest line that can be drawn within the pistachio which is the diameter going through the center of the bean.\n",
    "- 'Minor Axis':Relative to the Major axis of the bean, the minor axis  is perpendicular to the major axis and takes the diameter of the bean 90 degrees from the major\n",
    "- 'Eccentricity': Relative to a circle, this measures how much a shape is warped. Due to the nature of the shape of pistachios resembling ellipses, it measures the image outline relative to a circle\n",
    "- 'Equivalent Diameter': Defined as 4 times the Area of the Pistachio over Pi all rooted \n",
    "- 'Solidity': This measures the extent at which the Pistachio in the image is considered to be either concave or convex\n",
    "- 'Convex Area': The area in which any two points within the Pistachio bean can be connected by a continuous line that resides within the image.\n",
    "- 'Extent': A/Ab *Ab = Bounding Rectangle Area – The area of the Pistachio Bean divided by a bounding Rectangle that encompasses the bean\n",
    "- 'Aspect Ratio': A ratio defined by the Major axis and the minor axis relative to one another of the bean. (Major Axis / Minor Axis)\n",
    "- 'Roundness': Defined as the ratio of the surface area of the Pistachio bean to the Major axis diameter as the area of a circle\n",
    "- 'Compactness': Defined as the ratio of the area of the Pistachio bean to a circle with the same perimeter of the bean.\n",
    "- 'Shapefactor_1': Defined as the ratio of the Major axis relative to the Area of the Pistachio bean\n",
    "- 'Shapefactor_2': Defined as the ratio of the Minor axis relative to the Area of the Pistachio bean\n",
    "- 'Shapefactor_3': Defined as the ratio of the Area of the pistachio relative to the area of a circle with the major axis as the diameter\n",
    "- 'Shapefactor_4': Defined as the ratio of the Area of the Pistachio relative to the area of the curved surface in a cylinder\n",
    "- 'Mean_RR': The average mean value of all Red pixels (from 0-255 (R,G,B)) found in the image\n",
    "- 'Mean_RG' The average mean value of all Green pixels (from 0-255 (R,G,B)) found in the image\n",
    "- 'Mean_RB' The average mean value of all Blue pixels (from 0-255 (R,G,B)) found in the image\n",
    "- 'StdDev_RR' The standard deviation value of Red pixels (from 0-255 (R,G,B)) found in the image\n",
    "- 'StdDev_RG' The standard deviation value of Green pixels (from 0-255 (R,G,B)) found in the image\n",
    "- 'StdDev_RB' The standard deviation value of Blue pixels (from 0-255 (R,G,B)) found in the image\n",
    "- 'Skew_RR': Skew of the Red Pixels found in the image relative to normal distribution\n",
    "- 'Skew_RG': Skew of the Green Pixels found in the image relative to normal distribution\n",
    "- 'Skew_RB': Skew of the Blue Pixels found in the image relative to normal distribution\n",
    "- 'Kurtosis_RR':Measure of whether Red Pixels found in the image is heavy tailed/light tailed relative to normal distribution. \n",
    "- 'Kurtosis_RG': Measure of whether Green Pixels found in the image is heavy tailed/light tailed relative to normal distribution\n",
    "- 'Kurtosis_RB': Measure of whether Blue Pixels found in the image is heavy tailed/light tailed relative to normal distribution\n",
    "\n"
   ]
  },
  {
   "cell_type": "markdown",
   "id": "d11085ab",
   "metadata": {},
   "source": [
    "### Attributes that we think will be useful and our reasoning:\n",
    "\n",
    "When researching the background between the two types of Pistachios to determine any significant differences between the Siirt Pistachio and the Kirmizi Pistachio, we discovered that the size and shape factor of the Pistachio would be a discernible difference. Since the Siirt Pistachio was more round/circular in shape, it meant that all of the features that took into consideration the overall girth of the pistachio would aid in identification. From the feature list, some of the more important features would be the Minor Axis which directly measured the overall width of the Pistachio within the image in pixels. Due to the more circular shape of the Siirt Pistachio, the minor axis was identified as of great importance as well as multiple other features that used the Minor Axis in its calculations such as the Area, Aspect Ratio and the ShapeFactor_3. Apart from this, we also determined that the Eccentricity would be of great value to the identification process. This is due to Eccentricity referring to how round/flat the overall shape is. With this in mind, such a feature would aid tremendously due to the shape of the pistachios being of utmost importance to the identification process.\n"
   ]
  },
  {
   "cell_type": "markdown",
   "id": "c1502eac",
   "metadata": {},
   "source": [
    "### Attributes that we think will not be useful and our reasoning\n",
    "\n",
    "\n",
    "Between the two types of Pistachios and researching the background information of the Pistachios, at first glance the color of the Pistachio was thought to be a great indicator in differentiating the two. This is due to the naming convention in the Pistachio giving the impression that the color would make them very distinguishable. In Turkish, the translation of “Kirmizi” meant red in which the MEAN_RR feature, which was the average number of red pixels found within each image, was thought to be of great importance. This was debunked when the pistachios within the Dataset turned out to only contain the hard shell. The coloring in the naming of the Pistachios comes from the soft exterior hull otherwise known as the mesocarp in which the Kirmizi Pistachio had a more red exterior while the Siirt Pistachio had a beige/brown outer layer. Since the pistachios within the dataset only consisted of the hard shell, we determined that the features that dealt with identifying the colors within the images would not be as important in the identification."
   ]
  },
  {
   "cell_type": "code",
   "execution_count": 16,
   "id": "204f8667",
   "metadata": {},
   "outputs": [],
   "source": [
    "# Features that we have chosen to build the model on\n",
    "FEATURES_chosen = ['Area', 'Perimeter', 'Major_Axis', 'Minor_Axis', 'Eccentricity',\n",
    "       'Eqdiasq', 'Solidity', 'Convex_Area', 'Extent', 'Aspect_Ratio',\n",
    "       'Roundness', 'Compactness', 'Shapefactor_1', 'Shapefactor_2',\n",
    "       'Shapefactor_3', 'Shapefactor_4']\n"
   ]
  },
  {
   "cell_type": "markdown",
   "id": "197e0eca",
   "metadata": {},
   "source": [
    "# Section 4: Encoding the features \n",
    "### Discretizing data \n",
    "\n",
    "We need to discretize our data for ML models that do not use continuous data. In order to discretize our data, we need to figure out how to break it down into proper categories. \n",
    "\n",
    "For example, we have a feature called \"Area\". How do we discretize that feature? What would be the best approach to divide \"Area\" into the correct amount of bins? \n",
    "\n",
    "After some research, we found about about the Freedman-Diaconis Rule which states:\n",
    "\n",
    "bin width = $ \\frac{2*IQR}{\\sqrt[3]n}$\n",
    "\n",
    "where n is the size of the data, which will be 2148 in our case. \n",
    "\n",
    "\n",
    "Using this, we can then divide (max-min) by the bin width to get number of bins needed to discretize our data.\n",
    "\n",
    "So, for the \"Area\" feature we have:\n",
    "\n",
    "IQR = 79905.500000\n",
    "\n",
    "n = 2148\n",
    "\n",
    "max_area = 124008.000000\n",
    "\n",
    "min_area = 29808.000000\n",
    "\n",
    "Then, bin width according to Freedman-Diaconis Rule would be:\n",
    "\n",
    "area_bin_width = 12465.258\n",
    "\n",
    "and the number of bins needed would be:\n",
    "\n",
    "(max_area - min_area)/area_bin_width = 7.56 --> round up to 8"
   ]
  },
  {
   "cell_type": "code",
   "execution_count": 17,
   "id": "0dcb8f5a",
   "metadata": {},
   "outputs": [],
   "source": [
    "def max_min_IQR_size(col):\n",
    "    # This function takes in a column name and returns \n",
    "    # it's max, min, IQR, and size from the description dataFrame\n",
    "    \n",
    "    return [description[col]['max'],\n",
    "    description[col]['min'],\n",
    "    description[col]['50%'],\n",
    "    description[col]['count']]\n"
   ]
  },
  {
   "cell_type": "code",
   "execution_count": 18,
   "id": "ee45d41f",
   "metadata": {},
   "outputs": [],
   "source": [
    "def freedmanDiaconis(cols):\n",
    "    # This function takes in names of the features (col names)\n",
    "    # and returns the ideal number of bins it should be\n",
    "    # grouped into to discretize the data according to the\n",
    "    # Freedman-Diaconis Rule \n",
    "    ## note: we are taking abs of IQR as we cannot have negative bins\n",
    "    ##       and some IQR values of certain features are negative  \n",
    "    bins_info = {}\n",
    "    for col in cols:\n",
    "        info = max_min_IQR_size(col)\n",
    "        maximum = info[0]\n",
    "        minimum = info[1]\n",
    "        IQR = info[2]\n",
    "        n = info[3]\n",
    "        bins_info[col] = math.ceil((maximum-minimum)/(2*abs(IQR)*(n**(-1/3))))\n",
    "    return bins_info"
   ]
  },
  {
   "cell_type": "code",
   "execution_count": 19,
   "id": "a0611de7",
   "metadata": {},
   "outputs": [],
   "source": [
    "bins_info = freedmanDiaconis(FEATURES_chosen)"
   ]
  },
  {
   "cell_type": "code",
   "execution_count": 20,
   "id": "2d0322dc",
   "metadata": {},
   "outputs": [
    {
     "data": {
      "text/plain": [
       "{'Area': 8,\n",
       " 'Perimeter': 10,\n",
       " 'Major_Axis': 4,\n",
       " 'Minor_Axis': 7,\n",
       " 'Eccentricity': 4,\n",
       " 'Eqdiasq': 5,\n",
       " 'Solidity': 3,\n",
       " 'Convex_Area': 8,\n",
       " 'Extent': 4,\n",
       " 'Aspect_Ratio': 7,\n",
       " 'Roundness': 9,\n",
       " 'Compactness': 4,\n",
       " 'Shapefactor_1': 11,\n",
       " 'Shapefactor_2': 7,\n",
       " 'Shapefactor_3': 7,\n",
       " 'Shapefactor_4': 3}"
      ]
     },
     "execution_count": 20,
     "metadata": {},
     "output_type": "execute_result"
    }
   ],
   "source": [
    "bins_info"
   ]
  },
  {
   "cell_type": "code",
   "execution_count": 21,
   "id": "380799fd",
   "metadata": {},
   "outputs": [],
   "source": [
    "def discretizer(cols):\n",
    "    df_discretized = pd.DataFrame()\n",
    "    # This function takes a list of columns and creates a new data frame\n",
    "    # out of them by discretizing the given columns and adding them to \n",
    "    # a new data frame\n",
    "    for col in cols:\n",
    "        discretized = KBinsDiscretizer(n_bins=bins_info[col], encode='ordinal', strategy='uniform')\n",
    "        discretized = discretized.fit_transform(df[[col]]).reshape(1,-1)\n",
    "        df_discretized[col] = discretized[0]\n",
    "    return df_discretized"
   ]
  },
  {
   "cell_type": "code",
   "execution_count": 22,
   "id": "fc097b18",
   "metadata": {},
   "outputs": [],
   "source": [
    "df_discretized = discretizer(FEATURES_chosen)"
   ]
  },
  {
   "cell_type": "code",
   "execution_count": 23,
   "id": "006fec50",
   "metadata": {},
   "outputs": [
    {
     "data": {
      "text/html": [
       "<div>\n",
       "<style scoped>\n",
       "    .dataframe tbody tr th:only-of-type {\n",
       "        vertical-align: middle;\n",
       "    }\n",
       "\n",
       "    .dataframe tbody tr th {\n",
       "        vertical-align: top;\n",
       "    }\n",
       "\n",
       "    .dataframe thead th {\n",
       "        text-align: right;\n",
       "    }\n",
       "</style>\n",
       "<table border=\"1\" class=\"dataframe\">\n",
       "  <thead>\n",
       "    <tr style=\"text-align: right;\">\n",
       "      <th></th>\n",
       "      <th>Area</th>\n",
       "      <th>Perimeter</th>\n",
       "      <th>Major_Axis</th>\n",
       "      <th>Minor_Axis</th>\n",
       "      <th>Eccentricity</th>\n",
       "      <th>Eqdiasq</th>\n",
       "      <th>Solidity</th>\n",
       "      <th>Convex_Area</th>\n",
       "      <th>Extent</th>\n",
       "      <th>Aspect_Ratio</th>\n",
       "      <th>Roundness</th>\n",
       "      <th>Compactness</th>\n",
       "      <th>Shapefactor_1</th>\n",
       "      <th>Shapefactor_2</th>\n",
       "      <th>Shapefactor_3</th>\n",
       "      <th>Shapefactor_4</th>\n",
       "    </tr>\n",
       "  </thead>\n",
       "  <tbody>\n",
       "    <tr>\n",
       "      <th>0</th>\n",
       "      <td>2.0</td>\n",
       "      <td>3.0</td>\n",
       "      <td>1.0</td>\n",
       "      <td>2.0</td>\n",
       "      <td>2.0</td>\n",
       "      <td>2.0</td>\n",
       "      <td>2.0</td>\n",
       "      <td>2.0</td>\n",
       "      <td>2.0</td>\n",
       "      <td>1.0</td>\n",
       "      <td>2.0</td>\n",
       "      <td>2.0</td>\n",
       "      <td>2.0</td>\n",
       "      <td>3.0</td>\n",
       "      <td>3.0</td>\n",
       "      <td>2.0</td>\n",
       "    </tr>\n",
       "    <tr>\n",
       "      <th>1</th>\n",
       "      <td>3.0</td>\n",
       "      <td>5.0</td>\n",
       "      <td>1.0</td>\n",
       "      <td>2.0</td>\n",
       "      <td>2.0</td>\n",
       "      <td>2.0</td>\n",
       "      <td>2.0</td>\n",
       "      <td>3.0</td>\n",
       "      <td>2.0</td>\n",
       "      <td>2.0</td>\n",
       "      <td>1.0</td>\n",
       "      <td>2.0</td>\n",
       "      <td>2.0</td>\n",
       "      <td>2.0</td>\n",
       "      <td>3.0</td>\n",
       "      <td>2.0</td>\n",
       "    </tr>\n",
       "    <tr>\n",
       "      <th>2</th>\n",
       "      <td>3.0</td>\n",
       "      <td>2.0</td>\n",
       "      <td>2.0</td>\n",
       "      <td>2.0</td>\n",
       "      <td>3.0</td>\n",
       "      <td>2.0</td>\n",
       "      <td>2.0</td>\n",
       "      <td>3.0</td>\n",
       "      <td>2.0</td>\n",
       "      <td>3.0</td>\n",
       "      <td>5.0</td>\n",
       "      <td>1.0</td>\n",
       "      <td>2.0</td>\n",
       "      <td>1.0</td>\n",
       "      <td>2.0</td>\n",
       "      <td>2.0</td>\n",
       "    </tr>\n",
       "    <tr>\n",
       "      <th>3</th>\n",
       "      <td>3.0</td>\n",
       "      <td>3.0</td>\n",
       "      <td>1.0</td>\n",
       "      <td>2.0</td>\n",
       "      <td>3.0</td>\n",
       "      <td>2.0</td>\n",
       "      <td>2.0</td>\n",
       "      <td>3.0</td>\n",
       "      <td>2.0</td>\n",
       "      <td>3.0</td>\n",
       "      <td>3.0</td>\n",
       "      <td>2.0</td>\n",
       "      <td>2.0</td>\n",
       "      <td>1.0</td>\n",
       "      <td>3.0</td>\n",
       "      <td>2.0</td>\n",
       "    </tr>\n",
       "    <tr>\n",
       "      <th>4</th>\n",
       "      <td>4.0</td>\n",
       "      <td>2.0</td>\n",
       "      <td>2.0</td>\n",
       "      <td>2.0</td>\n",
       "      <td>3.0</td>\n",
       "      <td>3.0</td>\n",
       "      <td>2.0</td>\n",
       "      <td>3.0</td>\n",
       "      <td>3.0</td>\n",
       "      <td>3.0</td>\n",
       "      <td>5.0</td>\n",
       "      <td>2.0</td>\n",
       "      <td>2.0</td>\n",
       "      <td>0.0</td>\n",
       "      <td>3.0</td>\n",
       "      <td>2.0</td>\n",
       "    </tr>\n",
       "    <tr>\n",
       "      <th>...</th>\n",
       "      <td>...</td>\n",
       "      <td>...</td>\n",
       "      <td>...</td>\n",
       "      <td>...</td>\n",
       "      <td>...</td>\n",
       "      <td>...</td>\n",
       "      <td>...</td>\n",
       "      <td>...</td>\n",
       "      <td>...</td>\n",
       "      <td>...</td>\n",
       "      <td>...</td>\n",
       "      <td>...</td>\n",
       "      <td>...</td>\n",
       "      <td>...</td>\n",
       "      <td>...</td>\n",
       "      <td>...</td>\n",
       "    </tr>\n",
       "    <tr>\n",
       "      <th>2143</th>\n",
       "      <td>4.0</td>\n",
       "      <td>1.0</td>\n",
       "      <td>2.0</td>\n",
       "      <td>3.0</td>\n",
       "      <td>2.0</td>\n",
       "      <td>3.0</td>\n",
       "      <td>2.0</td>\n",
       "      <td>4.0</td>\n",
       "      <td>2.0</td>\n",
       "      <td>2.0</td>\n",
       "      <td>7.0</td>\n",
       "      <td>2.0</td>\n",
       "      <td>1.0</td>\n",
       "      <td>1.0</td>\n",
       "      <td>4.0</td>\n",
       "      <td>2.0</td>\n",
       "    </tr>\n",
       "    <tr>\n",
       "      <th>2144</th>\n",
       "      <td>4.0</td>\n",
       "      <td>7.0</td>\n",
       "      <td>2.0</td>\n",
       "      <td>4.0</td>\n",
       "      <td>2.0</td>\n",
       "      <td>3.0</td>\n",
       "      <td>2.0</td>\n",
       "      <td>4.0</td>\n",
       "      <td>2.0</td>\n",
       "      <td>1.0</td>\n",
       "      <td>1.0</td>\n",
       "      <td>2.0</td>\n",
       "      <td>1.0</td>\n",
       "      <td>2.0</td>\n",
       "      <td>4.0</td>\n",
       "      <td>2.0</td>\n",
       "    </tr>\n",
       "    <tr>\n",
       "      <th>2145</th>\n",
       "      <td>6.0</td>\n",
       "      <td>2.0</td>\n",
       "      <td>2.0</td>\n",
       "      <td>3.0</td>\n",
       "      <td>2.0</td>\n",
       "      <td>4.0</td>\n",
       "      <td>2.0</td>\n",
       "      <td>5.0</td>\n",
       "      <td>3.0</td>\n",
       "      <td>2.0</td>\n",
       "      <td>7.0</td>\n",
       "      <td>2.0</td>\n",
       "      <td>0.0</td>\n",
       "      <td>0.0</td>\n",
       "      <td>4.0</td>\n",
       "      <td>2.0</td>\n",
       "    </tr>\n",
       "    <tr>\n",
       "      <th>2146</th>\n",
       "      <td>5.0</td>\n",
       "      <td>1.0</td>\n",
       "      <td>2.0</td>\n",
       "      <td>3.0</td>\n",
       "      <td>2.0</td>\n",
       "      <td>3.0</td>\n",
       "      <td>2.0</td>\n",
       "      <td>5.0</td>\n",
       "      <td>3.0</td>\n",
       "      <td>1.0</td>\n",
       "      <td>8.0</td>\n",
       "      <td>3.0</td>\n",
       "      <td>0.0</td>\n",
       "      <td>0.0</td>\n",
       "      <td>4.0</td>\n",
       "      <td>2.0</td>\n",
       "    </tr>\n",
       "    <tr>\n",
       "      <th>2147</th>\n",
       "      <td>4.0</td>\n",
       "      <td>7.0</td>\n",
       "      <td>2.0</td>\n",
       "      <td>3.0</td>\n",
       "      <td>2.0</td>\n",
       "      <td>2.0</td>\n",
       "      <td>2.0</td>\n",
       "      <td>4.0</td>\n",
       "      <td>1.0</td>\n",
       "      <td>2.0</td>\n",
       "      <td>1.0</td>\n",
       "      <td>2.0</td>\n",
       "      <td>2.0</td>\n",
       "      <td>2.0</td>\n",
       "      <td>3.0</td>\n",
       "      <td>1.0</td>\n",
       "    </tr>\n",
       "  </tbody>\n",
       "</table>\n",
       "<p>2148 rows × 16 columns</p>\n",
       "</div>"
      ],
      "text/plain": [
       "      Area  Perimeter  Major_Axis  Minor_Axis  Eccentricity  Eqdiasq  \\\n",
       "0      2.0        3.0         1.0         2.0           2.0      2.0   \n",
       "1      3.0        5.0         1.0         2.0           2.0      2.0   \n",
       "2      3.0        2.0         2.0         2.0           3.0      2.0   \n",
       "3      3.0        3.0         1.0         2.0           3.0      2.0   \n",
       "4      4.0        2.0         2.0         2.0           3.0      3.0   \n",
       "...    ...        ...         ...         ...           ...      ...   \n",
       "2143   4.0        1.0         2.0         3.0           2.0      3.0   \n",
       "2144   4.0        7.0         2.0         4.0           2.0      3.0   \n",
       "2145   6.0        2.0         2.0         3.0           2.0      4.0   \n",
       "2146   5.0        1.0         2.0         3.0           2.0      3.0   \n",
       "2147   4.0        7.0         2.0         3.0           2.0      2.0   \n",
       "\n",
       "      Solidity  Convex_Area  Extent  Aspect_Ratio  Roundness  Compactness  \\\n",
       "0          2.0          2.0     2.0           1.0        2.0          2.0   \n",
       "1          2.0          3.0     2.0           2.0        1.0          2.0   \n",
       "2          2.0          3.0     2.0           3.0        5.0          1.0   \n",
       "3          2.0          3.0     2.0           3.0        3.0          2.0   \n",
       "4          2.0          3.0     3.0           3.0        5.0          2.0   \n",
       "...        ...          ...     ...           ...        ...          ...   \n",
       "2143       2.0          4.0     2.0           2.0        7.0          2.0   \n",
       "2144       2.0          4.0     2.0           1.0        1.0          2.0   \n",
       "2145       2.0          5.0     3.0           2.0        7.0          2.0   \n",
       "2146       2.0          5.0     3.0           1.0        8.0          3.0   \n",
       "2147       2.0          4.0     1.0           2.0        1.0          2.0   \n",
       "\n",
       "      Shapefactor_1  Shapefactor_2  Shapefactor_3  Shapefactor_4  \n",
       "0               2.0            3.0            3.0            2.0  \n",
       "1               2.0            2.0            3.0            2.0  \n",
       "2               2.0            1.0            2.0            2.0  \n",
       "3               2.0            1.0            3.0            2.0  \n",
       "4               2.0            0.0            3.0            2.0  \n",
       "...             ...            ...            ...            ...  \n",
       "2143            1.0            1.0            4.0            2.0  \n",
       "2144            1.0            2.0            4.0            2.0  \n",
       "2145            0.0            0.0            4.0            2.0  \n",
       "2146            0.0            0.0            4.0            2.0  \n",
       "2147            2.0            2.0            3.0            1.0  \n",
       "\n",
       "[2148 rows x 16 columns]"
      ]
     },
     "execution_count": 23,
     "metadata": {},
     "output_type": "execute_result"
    }
   ],
   "source": [
    "# All the features after discretization\n",
    "df_discretized"
   ]
  },
  {
   "cell_type": "markdown",
   "id": "1e670aaa",
   "metadata": {},
   "source": [
    "# Section 5: Data Preparation and Cross-Validation\n",
    "\n",
    "Our classification will be a binary classification. \n",
    "The 2 classes are \"Kirmizi_Pistachio\" and \"Siirt_Pistachio\",\n",
    "\n",
    "We will change \"Kirmizi_Pistachio\" to 0 and \"Siirt_Pistachio\" to 1 for the sake of prediction. \n",
    "\n",
    "\n",
    "\n"
   ]
  },
  {
   "cell_type": "code",
   "execution_count": 24,
   "id": "0c7ec73e",
   "metadata": {},
   "outputs": [],
   "source": [
    "df['Class'] = (df['Class'].replace(\"Kirmizi_Pistachio\", 0).replace(\"Siirt_Pistachio\", 1))"
   ]
  },
  {
   "cell_type": "markdown",
   "id": "1dfc9f89",
   "metadata": {},
   "source": [
    "From our data analysis step, we know that our data is imbalanced. \n",
    "57.4% of our data is made up of Kirmizi Pistachios and 42.6% of our data is made up of Siirt Pistachios. \n",
    "Moreover, we have a relatively small dataset with only 2148 rows of data.\n",
    "\n",
    "Based on our findings for imbalanced and small datasets, the suggested method of cross-validation is the Stratified KFold Cross-Validation.\n",
    "\n",
    "\n",
    "The reason that Stratified KFold Cross-Validation is suggested for imbalanced and small datasets is because it tries to automatically balance the target variable in both the training and the testing data.\n",
    "ie: \"The folds are made by preserving the percentage of samples for each class"
   ]
  },
  {
   "cell_type": "code",
   "execution_count": 25,
   "id": "6b3d17cc",
   "metadata": {},
   "outputs": [],
   "source": [
    "X = df[FEATURES_chosen]\n",
    "y = df[TARGET]"
   ]
  },
  {
   "cell_type": "code",
   "execution_count": 26,
   "id": "23e64984",
   "metadata": {},
   "outputs": [],
   "source": [
    "# code to visualize Stratified K Fold Split\n",
    "# link in sources\n",
    "\n",
    "cmap_data = plt.cm.autumn\n",
    "cmap_cv = plt.cm.coolwarm\n",
    "\n",
    "\n",
    "def plot_cv_indices(cv, X, y, ax, n_splits, lw=25):\n",
    "    \"\"\"Create a sample plot for indices of a cross-validation object.\"\"\"\n",
    "\n",
    "    # Generate the training/testing visualizations for each CV split\n",
    "    for ii, (tr, tt) in enumerate(cv.split(X=X, y=y)):\n",
    "        # Fill in indices with the training/test groups\n",
    "        indices = np.array([np.nan] * len(X))\n",
    "        indices[tt] = 1\n",
    "        indices[tr] = 0\n",
    "\n",
    "        # Visualize the results\n",
    "        ax.scatter(\n",
    "            range(len(indices)),\n",
    "            [ii + 0.5] * len(indices),\n",
    "            c=indices,\n",
    "            marker=\"_\",\n",
    "            lw=lw,\n",
    "            cmap=cmap_cv,\n",
    "            vmin=-0.2,\n",
    "            vmax=1.2,\n",
    "        )\n",
    "\n",
    "    # Plot the data classes and groups at the end\n",
    "    ax.scatter(\n",
    "        range(len(X)), [ii + 1.5] * len(X), c=y, marker=\"_\", lw=lw, cmap=cmap_data\n",
    "    )\n",
    "\n",
    "\n",
    "    # Formatting\n",
    "    yticklabels = list(range(n_splits)) + [\"class\"]\n",
    "    ax.set(\n",
    "        #note, changed n_splits + 2 to n_splits + 1 here to fix error\n",
    "        #not sure what was causing it as it was working fine before\n",
    "        yticks=np.arange(n_splits + 1) + 0.5,\n",
    "        yticklabels=yticklabels,\n",
    "        xlabel=\"Sample index\",\n",
    "        ylabel=\"Fold\",\n",
    "        ylim=[n_splits + 2.2, -0.2],\n",
    "        xlim=[-50,2200]\n",
    "    )\n",
    "    ax.set_title(\"{}\".format(type(cv).__name__), fontsize=30)\n",
    "    return ax\n",
    "\n",
    "\n",
    "def plot_cv(cv, X, y, n_splits=5):\n",
    "    this_cv = cv(n_splits=n_splits)\n",
    "    fig, ax = plt.subplots(figsize=(15, 5))\n",
    "    plot_cv_indices(this_cv, X, y, ax, n_splits)\n",
    "\n",
    "    ax.legend(\n",
    "        [Patch(color=cmap_cv(0.8)), Patch(color=cmap_cv(0.1)), Patch(color = cmap_data(0)), Patch(color = cmap_data(900))],\n",
    "        [\"Testing set\", \"Training set\", \"Kirmizi\", \"Siirt\"],\n",
    "        loc=(1.02, 0.8),\n",
    "    )\n",
    "    plt.tight_layout()\n",
    "    fig.subplots_adjust(right=0.7)\n",
    "    plt.show()"
   ]
  },
  {
   "cell_type": "code",
   "execution_count": 27,
   "id": "e7892b3c",
   "metadata": {},
   "outputs": [
    {
     "data": {
      "image/png": "[encoded data removed]",
      "text/plain": [
       "<Figure size 1080x360 with 1 Axes>"
      ]
     },
     "metadata": {
      "needs_background": "light"
     },
     "output_type": "display_data"
    }
   ],
   "source": [
    "plot_cv(StratifiedKFold, X,y)"
   ]
  },
  {
   "cell_type": "code",
   "execution_count": 28,
   "id": "c1180241",
   "metadata": {},
   "outputs": [],
   "source": [
    "# setting stratified K Fold with 5 folds. \n",
    "skf = StratifiedKFold(n_splits=5, shuffle = False)"
   ]
  },
  {
   "cell_type": "code",
   "execution_count": 29,
   "id": "c6d8a7f8",
   "metadata": {},
   "outputs": [],
   "source": [
    "# scaling data for Logistic Regression and MLP as they benefit from it \n",
    "sc=StandardScaler()\n",
    "scaler = sc.fit(X)"
   ]
  },
  {
   "cell_type": "markdown",
   "id": "381447b6",
   "metadata": {},
   "source": [
    "\n",
    "\n",
    "# Section 6 & 7 & 8: \n",
    "# Model Training & Model Testing & Precision/Recall Measures\n",
    "\n",
    "- Naïve Bayes\n",
    "- Logistic Regression\n",
    "- Multi-Layer Perceptron"
   ]
  },
  {
   "cell_type": "code",
   "execution_count": 85,
   "id": "105284df",
   "metadata": {},
   "outputs": [],
   "source": [
    "def model(classifier, data):\n",
    "    fold = 0\n",
    "    accuracy_scores = []\n",
    "    # for loop, train_i and test_i are indices of training data and test data \n",
    "    # the indices will be determined by the stratified k fold that splits the data into 5 folds\n",
    "    for train_i, test_i in skf.split(data, y):\n",
    "        if ('Logistic' in str(classifier) or 'MLP' in str(classifier)):\n",
    "            \n",
    "            X_training = scaler.transform(data.loc[train_i])\n",
    "            y_training = y.loc[train_i]\n",
    "            X_testing = scaler.transform(data.loc[test_i])\n",
    "            y_testing = y.loc[test_i]\n",
    "        \n",
    "        else:\n",
    "            \n",
    "            X_training = data.loc[train_i]\n",
    "            y_training = y.loc[train_i]\n",
    "            X_testing = data.loc[test_i]\n",
    "            y_testing = y.loc[test_i]\n",
    "\n",
    "        # Training step\n",
    "        classifier.fit(X_training, y_training) \n",
    "\n",
    "        # Testing step\n",
    "        prediction = classifier.predict(X_testing) \n",
    "        acc_score = accuracy_score(y_testing, prediction)\n",
    "        print()\n",
    "        print(f'======= Fold {fold} =======')\n",
    "        print(f\"Accuracy Score is: {acc_score*100:0.2f}%\")\n",
    "        accuracy_scores.append(acc_score)\n",
    "\n",
    "        #calculating precision and recall\n",
    "        macro_precision = precision_score(y_testing, prediction, average='macro')\n",
    "        macro_recall = recall_score(y_testing, prediction, average='macro')\n",
    "        print(f'Macro Precision score is: {macro_precision*100:0.2f}%')\n",
    "        print(f'Macro Recall score is: {macro_recall*100:0.2f}%')\n",
    "\n",
    "        micro_precision = precision_score(y_testing, prediction, average='micro')\n",
    "        micro_recall = recall_score(y_testing, prediction, average='micro')\n",
    "        print(f'Micro Precision score is: {micro_precision*100:0.2f}%')\n",
    "        print(f'Micro Recall score is: {micro_recall*100:0.2f}%')\n",
    "\n",
    "        # displaying confusion matrix\n",
    "        cm = confusion_matrix(y_testing, prediction)\n",
    "        cm_display = ConfusionMatrixDisplay(confusion_matrix = cm, display_labels = [False, True])\n",
    "        cm_display.plot()\n",
    "        plt.show()\n",
    "\n",
    "        print(\"Number of mislabeled points out of a total %d points : %d\"% (X_testing.shape[0], (y_testing != prediction).sum()))\n",
    "        fold +=1\n",
    "    print(f'Total average score across 5 folds is: {np.mean(accuracy_scores)*100:0.2f}%')"
   ]
  },
  {
   "cell_type": "markdown",
   "id": "2f918f52",
   "metadata": {},
   "source": [
    "### Confusion Matrix quadrants \n",
    "- True Negative (Top-Left Quadrant)\n",
    "- False Positive (Top-Right Quadrant)\n",
    "- False Negative (Bottom-Left Quadrant)\n",
    "- True Positive (Bottom-Right Quadrant)"
   ]
  },
  {
   "cell_type": "markdown",
   "id": "1abb2c4f",
   "metadata": {},
   "source": [
    "### Naïve Bayes Categorical with default parameters"
   ]
  },
  {
   "cell_type": "markdown",
   "id": "6e8e23e4",
   "metadata": {},
   "source": [
    "Note: For CategorialNB the default min_categories is None. But that resulted in code erroring out and not running after first fold, so we set the default to number of categories we have in the dataset. "
   ]
  },
  {
   "cell_type": "code",
   "execution_count": 86,
   "id": "68db1e40",
   "metadata": {
    "scrolled": false
   },
   "outputs": [
    {
     "name": "stdout",
     "output_type": "stream",
     "text": [
      "\n",
      "======= Fold 0 =======\n",
      "Accuracy Score is: 84.88%\n",
      "Macro Precision score is: 84.53%\n",
      "Macro Recall score is: 85.14%\n",
      "Micro Precision score is: 84.88%\n",
      "Micro Recall score is: 84.88%\n"
     ]
    },
    {
     "data": {
      "image/png": "[encoded data removed]",
      "text/plain": [
       "<Figure size 432x288 with 2 Axes>"
      ]
     },
     "metadata": {
      "needs_background": "light"
     },
     "output_type": "display_data"
    },
    {
     "name": "stdout",
     "output_type": "stream",
     "text": [
      "Number of mislabeled points out of a total 430 points : 65\n",
      "\n",
      "======= Fold 1 =======\n",
      "Accuracy Score is: 85.35%\n",
      "Macro Precision score is: 85.14%\n",
      "Macro Recall score is: 85.90%\n",
      "Micro Precision score is: 85.35%\n",
      "Micro Recall score is: 85.35%\n"
     ]
    },
    {
     "data": {
      "image/png": "[encoded data removed]",
      "text/plain": [
       "<Figure size 432x288 with 2 Axes>"
      ]
     },
     "metadata": {
      "needs_background": "light"
     },
     "output_type": "display_data"
    },
    {
     "name": "stdout",
     "output_type": "stream",
     "text": [
      "Number of mislabeled points out of a total 430 points : 63\n",
      "\n",
      "======= Fold 2 =======\n",
      "Accuracy Score is: 85.58%\n",
      "Macro Precision score is: 85.43%\n",
      "Macro Recall score is: 86.17%\n",
      "Micro Precision score is: 85.58%\n",
      "Micro Recall score is: 85.58%\n"
     ]
    },
    {
     "data": {
      "image/png": "[encoded data removed]",
      "text/plain": [
       "<Figure size 432x288 with 2 Axes>"
      ]
     },
     "metadata": {
      "needs_background": "light"
     },
     "output_type": "display_data"
    },
    {
     "name": "stdout",
     "output_type": "stream",
     "text": [
      "Number of mislabeled points out of a total 430 points : 62\n",
      "\n",
      "======= Fold 3 =======\n",
      "Accuracy Score is: 84.15%\n",
      "Macro Precision score is: 84.37%\n",
      "Macro Recall score is: 83.10%\n",
      "Micro Precision score is: 84.15%\n",
      "Micro Recall score is: 84.15%\n"
     ]
    },
    {
     "data": {
      "image/png": "[encoded data removed]",
      "text/plain": [
       "<Figure size 432x288 with 2 Axes>"
      ]
     },
     "metadata": {
      "needs_background": "light"
     },
     "output_type": "display_data"
    },
    {
     "name": "stdout",
     "output_type": "stream",
     "text": [
      "Number of mislabeled points out of a total 429 points : 68\n",
      "\n",
      "======= Fold 4 =======\n",
      "Accuracy Score is: 85.55%\n",
      "Macro Precision score is: 85.17%\n",
      "Macro Recall score is: 85.44%\n",
      "Micro Precision score is: 85.55%\n",
      "Micro Recall score is: 85.55%\n"
     ]
    },
    {
     "data": {
      "image/png": "[encoded data removed]",
      "text/plain": [
       "<Figure size 432x288 with 2 Axes>"
      ]
     },
     "metadata": {
      "needs_background": "light"
     },
     "output_type": "display_data"
    },
    {
     "name": "stdout",
     "output_type": "stream",
     "text": [
      "Number of mislabeled points out of a total 429 points : 62\n",
      "Total average score across 5 folds is: 85.10%\n"
     ]
    }
   ],
   "source": [
    "classifier = CategoricalNB(min_categories = df_discretized.nunique())\n",
    "data = df_discretized\n",
    "model(classifier, data)"
   ]
  },
  {
   "cell_type": "markdown",
   "id": "770832fa",
   "metadata": {},
   "source": [
    "### Naïve Bayes Complement with default parameters\n",
    "\n",
    "Note: This particular type of Naive Bayes was chosen because \"It is particularly suited for imbalanced data sets\" which is the case for us."
   ]
  },
  {
   "cell_type": "code",
   "execution_count": 87,
   "id": "45a7a5ad",
   "metadata": {
    "scrolled": false
   },
   "outputs": [
    {
     "name": "stdout",
     "output_type": "stream",
     "text": [
      "\n",
      "======= Fold 0 =======\n",
      "Accuracy Score is: 83.49%\n",
      "Macro Precision score is: 83.33%\n",
      "Macro Recall score is: 84.07%\n",
      "Micro Precision score is: 83.49%\n",
      "Micro Recall score is: 83.49%\n"
     ]
    },
    {
     "data": {
      "image/png": "[encoded data removed]",
      "text/plain": [
       "<Figure size 432x288 with 2 Axes>"
      ]
     },
     "metadata": {
      "needs_background": "light"
     },
     "output_type": "display_data"
    },
    {
     "name": "stdout",
     "output_type": "stream",
     "text": [
      "Number of mislabeled points out of a total 430 points : 71\n",
      "\n",
      "======= Fold 1 =======\n",
      "Accuracy Score is: 83.26%\n",
      "Macro Precision score is: 83.49%\n",
      "Macro Recall score is: 84.22%\n",
      "Micro Precision score is: 83.26%\n",
      "Micro Recall score is: 83.26%\n"
     ]
    },
    {
     "data": {
      "image/png": "[encoded data removed]",
      "text/plain": [
       "<Figure size 432x288 with 2 Axes>"
      ]
     },
     "metadata": {
      "needs_background": "light"
     },
     "output_type": "display_data"
    },
    {
     "name": "stdout",
     "output_type": "stream",
     "text": [
      "Number of mislabeled points out of a total 430 points : 72\n",
      "\n",
      "======= Fold 2 =======\n",
      "Accuracy Score is: 84.42%\n",
      "Macro Precision score is: 84.65%\n",
      "Macro Recall score is: 85.35%\n",
      "Micro Precision score is: 84.42%\n",
      "Micro Recall score is: 84.42%\n"
     ]
    },
    {
     "data": {
      "image/png": "[encoded data removed]",
      "text/plain": [
       "<Figure size 432x288 with 2 Axes>"
      ]
     },
     "metadata": {
      "needs_background": "light"
     },
     "output_type": "display_data"
    },
    {
     "name": "stdout",
     "output_type": "stream",
     "text": [
      "Number of mislabeled points out of a total 430 points : 67\n",
      "\n",
      "======= Fold 3 =======\n",
      "Accuracy Score is: 84.15%\n",
      "Macro Precision score is: 83.83%\n",
      "Macro Recall score is: 83.73%\n",
      "Micro Precision score is: 84.15%\n",
      "Micro Recall score is: 84.15%\n"
     ]
    },
    {
     "data": {
      "image/png": "[encoded data removed]",
      "text/plain": [
       "<Figure size 432x288 with 2 Axes>"
      ]
     },
     "metadata": {
      "needs_background": "light"
     },
     "output_type": "display_data"
    },
    {
     "name": "stdout",
     "output_type": "stream",
     "text": [
      "Number of mislabeled points out of a total 429 points : 68\n",
      "\n",
      "======= Fold 4 =======\n",
      "Accuracy Score is: 86.01%\n",
      "Macro Precision score is: 85.72%\n",
      "Macro Recall score is: 86.41%\n",
      "Micro Precision score is: 86.01%\n",
      "Micro Recall score is: 86.01%\n"
     ]
    },
    {
     "data": {
      "image/png": "[encoded data removed]",
      "text/plain": [
       "<Figure size 432x288 with 2 Axes>"
      ]
     },
     "metadata": {
      "needs_background": "light"
     },
     "output_type": "display_data"
    },
    {
     "name": "stdout",
     "output_type": "stream",
     "text": [
      "Number of mislabeled points out of a total 429 points : 60\n",
      "Total average score across 5 folds is: 84.27%\n"
     ]
    }
   ],
   "source": [
    "classifier = ComplementNB()\n",
    "data = df_discretized\n",
    "model(classifier, data)"
   ]
  },
  {
   "cell_type": "markdown",
   "id": "86cb26ca",
   "metadata": {},
   "source": [
    "### Logistic Regression with default parameters\n"
   ]
  },
  {
   "cell_type": "code",
   "execution_count": 88,
   "id": "88536962",
   "metadata": {
    "scrolled": false
   },
   "outputs": [
    {
     "name": "stdout",
     "output_type": "stream",
     "text": [
      "\n",
      "======= Fold 0 =======\n",
      "Accuracy Score is: 87.21%\n",
      "Macro Precision score is: 86.94%\n",
      "Macro Recall score is: 86.88%\n",
      "Micro Precision score is: 87.21%\n",
      "Micro Recall score is: 87.21%\n"
     ]
    },
    {
     "data": {
      "image/png": "[encoded data removed]",
      "text/plain": [
       "<Figure size 432x288 with 2 Axes>"
      ]
     },
     "metadata": {
      "needs_background": "light"
     },
     "output_type": "display_data"
    },
    {
     "name": "stdout",
     "output_type": "stream",
     "text": [
      "Number of mislabeled points out of a total 430 points : 55\n",
      "\n",
      "======= Fold 1 =======\n",
      "Accuracy Score is: 88.14%\n",
      "Macro Precision score is: 87.80%\n",
      "Macro Recall score is: 88.05%\n",
      "Micro Precision score is: 88.14%\n",
      "Micro Recall score is: 88.14%\n"
     ]
    },
    {
     "data": {
      "image/png": "[encoded data removed]",
      "text/plain": [
       "<Figure size 432x288 with 2 Axes>"
      ]
     },
     "metadata": {
      "needs_background": "light"
     },
     "output_type": "display_data"
    },
    {
     "name": "stdout",
     "output_type": "stream",
     "text": [
      "Number of mislabeled points out of a total 430 points : 51\n",
      "\n",
      "======= Fold 2 =======\n",
      "Accuracy Score is: 85.81%\n",
      "Macro Precision score is: 85.50%\n",
      "Macro Recall score is: 86.09%\n",
      "Micro Precision score is: 85.81%\n",
      "Micro Recall score is: 85.81%\n"
     ]
    },
    {
     "data": {
      "image/png": "[encoded data removed]",
      "text/plain": [
       "<Figure size 432x288 with 2 Axes>"
      ]
     },
     "metadata": {
      "needs_background": "light"
     },
     "output_type": "display_data"
    },
    {
     "name": "stdout",
     "output_type": "stream",
     "text": [
      "Number of mislabeled points out of a total 430 points : 61\n",
      "\n",
      "======= Fold 3 =======\n",
      "Accuracy Score is: 85.55%\n",
      "Macro Precision score is: 86.58%\n",
      "Macro Recall score is: 84.11%\n",
      "Micro Precision score is: 85.55%\n",
      "Micro Recall score is: 85.55%\n"
     ]
    },
    {
     "data": {
      "image/png": "[encoded data removed]",
      "text/plain": [
       "<Figure size 432x288 with 2 Axes>"
      ]
     },
     "metadata": {
      "needs_background": "light"
     },
     "output_type": "display_data"
    },
    {
     "name": "stdout",
     "output_type": "stream",
     "text": [
      "Number of mislabeled points out of a total 429 points : 62\n",
      "\n",
      "======= Fold 4 =======\n",
      "Accuracy Score is: 88.34%\n",
      "Macro Precision score is: 88.05%\n",
      "Macro Recall score is: 88.16%\n",
      "Micro Precision score is: 88.34%\n",
      "Micro Recall score is: 88.34%\n"
     ]
    },
    {
     "data": {
      "image/png": "[encoded data removed]",
      "text/plain": [
       "<Figure size 432x288 with 2 Axes>"
      ]
     },
     "metadata": {
      "needs_background": "light"
     },
     "output_type": "display_data"
    },
    {
     "name": "stdout",
     "output_type": "stream",
     "text": [
      "Number of mislabeled points out of a total 429 points : 50\n",
      "Total average score across 5 folds is: 87.01%\n"
     ]
    }
   ],
   "source": [
    "classifier = LogisticRegression()\n",
    "data = X\n",
    "model(classifier, data)"
   ]
  },
  {
   "cell_type": "markdown",
   "id": "0f098581",
   "metadata": {},
   "source": [
    "### Multi-Layer Perceptron with default parameters"
   ]
  },
  {
   "cell_type": "code",
   "execution_count": 89,
   "id": "cd6eedf0",
   "metadata": {
    "scrolled": false
   },
   "outputs": [
    {
     "name": "stdout",
     "output_type": "stream",
     "text": [
      "\n",
      "======= Fold 0 =======\n",
      "Accuracy Score is: 87.21%\n",
      "Macro Precision score is: 86.98%\n",
      "Macro Recall score is: 86.81%\n",
      "Micro Precision score is: 87.21%\n",
      "Micro Recall score is: 87.21%\n"
     ]
    },
    {
     "name": "stderr",
     "output_type": "stream",
     "text": [
      "/Users/muko/opt/anaconda3/lib/python3.9/site-packages/sklearn/neural_network/_multilayer_perceptron.py:692: ConvergenceWarning: Stochastic Optimizer: Maximum iterations (200) reached and the optimization hasn't converged yet.\n",
      "  warnings.warn(\n"
     ]
    },
    {
     "data": {
      "image/png": "[encoded data removed]",
      "text/plain": [
       "<Figure size 432x288 with 2 Axes>"
      ]
     },
     "metadata": {
      "needs_background": "light"
     },
     "output_type": "display_data"
    },
    {
     "name": "stdout",
     "output_type": "stream",
     "text": [
      "Number of mislabeled points out of a total 430 points : 55\n",
      "\n",
      "======= Fold 1 =======\n",
      "Accuracy Score is: 89.07%\n",
      "Macro Precision score is: 88.80%\n",
      "Macro Recall score is: 88.86%\n",
      "Micro Precision score is: 89.07%\n",
      "Micro Recall score is: 89.07%\n"
     ]
    },
    {
     "name": "stderr",
     "output_type": "stream",
     "text": [
      "/Users/muko/opt/anaconda3/lib/python3.9/site-packages/sklearn/neural_network/_multilayer_perceptron.py:692: ConvergenceWarning: Stochastic Optimizer: Maximum iterations (200) reached and the optimization hasn't converged yet.\n",
      "  warnings.warn(\n"
     ]
    },
    {
     "data": {
      "image/png": "[encoded data removed]",
      "text/plain": [
       "<Figure size 432x288 with 2 Axes>"
      ]
     },
     "metadata": {
      "needs_background": "light"
     },
     "output_type": "display_data"
    },
    {
     "name": "stdout",
     "output_type": "stream",
     "text": [
      "Number of mislabeled points out of a total 430 points : 47\n",
      "\n",
      "======= Fold 2 =======\n",
      "Accuracy Score is: 86.98%\n",
      "Macro Precision score is: 86.63%\n",
      "Macro Recall score is: 87.11%\n",
      "Micro Precision score is: 86.98%\n",
      "Micro Recall score is: 86.98%\n"
     ]
    },
    {
     "name": "stderr",
     "output_type": "stream",
     "text": [
      "/Users/muko/opt/anaconda3/lib/python3.9/site-packages/sklearn/neural_network/_multilayer_perceptron.py:692: ConvergenceWarning: Stochastic Optimizer: Maximum iterations (200) reached and the optimization hasn't converged yet.\n",
      "  warnings.warn(\n"
     ]
    },
    {
     "data": {
      "image/png": "[encoded data removed]",
      "text/plain": [
       "<Figure size 432x288 with 2 Axes>"
      ]
     },
     "metadata": {
      "needs_background": "light"
     },
     "output_type": "display_data"
    },
    {
     "name": "stdout",
     "output_type": "stream",
     "text": [
      "Number of mislabeled points out of a total 430 points : 56\n",
      "\n",
      "======= Fold 3 =======\n",
      "Accuracy Score is: 86.95%\n",
      "Macro Precision score is: 87.82%\n",
      "Macro Recall score is: 85.68%\n",
      "Micro Precision score is: 86.95%\n",
      "Micro Recall score is: 86.95%\n"
     ]
    },
    {
     "name": "stderr",
     "output_type": "stream",
     "text": [
      "/Users/muko/opt/anaconda3/lib/python3.9/site-packages/sklearn/neural_network/_multilayer_perceptron.py:692: ConvergenceWarning: Stochastic Optimizer: Maximum iterations (200) reached and the optimization hasn't converged yet.\n",
      "  warnings.warn(\n"
     ]
    },
    {
     "data": {
      "image/png": "[encoded data removed]",
      "text/plain": [
       "<Figure size 432x288 with 2 Axes>"
      ]
     },
     "metadata": {
      "needs_background": "light"
     },
     "output_type": "display_data"
    },
    {
     "name": "stdout",
     "output_type": "stream",
     "text": [
      "Number of mislabeled points out of a total 429 points : 56\n",
      "\n",
      "======= Fold 4 =======\n",
      "Accuracy Score is: 88.11%\n",
      "Macro Precision score is: 87.80%\n",
      "Macro Recall score is: 87.95%\n",
      "Micro Precision score is: 88.11%\n",
      "Micro Recall score is: 88.11%\n"
     ]
    },
    {
     "name": "stderr",
     "output_type": "stream",
     "text": [
      "/Users/muko/opt/anaconda3/lib/python3.9/site-packages/sklearn/neural_network/_multilayer_perceptron.py:692: ConvergenceWarning: Stochastic Optimizer: Maximum iterations (200) reached and the optimization hasn't converged yet.\n",
      "  warnings.warn(\n"
     ]
    },
    {
     "data": {
      "image/png": "[encoded data removed]",
      "text/plain": [
       "<Figure size 432x288 with 2 Axes>"
      ]
     },
     "metadata": {
      "needs_background": "light"
     },
     "output_type": "display_data"
    },
    {
     "name": "stdout",
     "output_type": "stream",
     "text": [
      "Number of mislabeled points out of a total 429 points : 51\n",
      "Total average score across 5 folds is: 87.66%\n"
     ]
    }
   ],
   "source": [
    "classifier = MLPClassifier()\n",
    "data = X\n",
    "model(classifier, data)"
   ]
  },
  {
   "cell_type": "markdown",
   "id": "f15a1081",
   "metadata": {},
   "source": [
    "# Section 9: Section 6 & 7 & 8 with Modified Parameters\n"
   ]
  },
  {
   "cell_type": "markdown",
   "id": "aa7a4f68",
   "metadata": {},
   "source": [
    "## Naïve Bayes \n",
    "The default fit_prior is True. This takes into a consideration the imbalance in classes. \n",
    "Here, we change it to False for both the Naïve Bayes classifiers as we wanted to see how much of an affect the imbalance in our data would have on the outcome, if any at all.\n",
    "\n",
    "### Categorical with Modified Parameters"
   ]
  },
  {
   "cell_type": "code",
   "execution_count": 102,
   "id": "82875bde",
   "metadata": {
    "scrolled": false
   },
   "outputs": [
    {
     "name": "stdout",
     "output_type": "stream",
     "text": [
      "\n",
      "======= Fold 0 =======\n",
      "Accuracy Score is: 84.42%\n",
      "Macro Precision score is: 84.13%\n",
      "Macro Recall score is: 84.81%\n",
      "Micro Precision score is: 84.42%\n",
      "Micro Recall score is: 84.42%\n"
     ]
    },
    {
     "data": {
      "image/png": "[encoded data removed]",
      "text/plain": [
       "<Figure size 432x288 with 2 Axes>"
      ]
     },
     "metadata": {
      "needs_background": "light"
     },
     "output_type": "display_data"
    },
    {
     "name": "stdout",
     "output_type": "stream",
     "text": [
      "Number of mislabeled points out of a total 430 points : 67\n",
      "\n",
      "======= Fold 1 =======\n",
      "Accuracy Score is: 85.58%\n",
      "Macro Precision score is: 85.52%\n",
      "Macro Recall score is: 86.32%\n",
      "Micro Precision score is: 85.58%\n",
      "Micro Recall score is: 85.58%\n"
     ]
    },
    {
     "data": {
      "image/png": "[encoded data removed]",
      "text/plain": [
       "<Figure size 432x288 with 2 Axes>"
      ]
     },
     "metadata": {
      "needs_background": "light"
     },
     "output_type": "display_data"
    },
    {
     "name": "stdout",
     "output_type": "stream",
     "text": [
      "Number of mislabeled points out of a total 430 points : 62\n",
      "\n",
      "======= Fold 2 =======\n",
      "Accuracy Score is: 85.12%\n",
      "Macro Precision score is: 85.08%\n",
      "Macro Recall score is: 85.83%\n",
      "Micro Precision score is: 85.12%\n",
      "Micro Recall score is: 85.12%\n"
     ]
    },
    {
     "data": {
      "image/png": "[encoded data removed]",
      "text/plain": [
       "<Figure size 432x288 with 2 Axes>"
      ]
     },
     "metadata": {
      "needs_background": "light"
     },
     "output_type": "display_data"
    },
    {
     "name": "stdout",
     "output_type": "stream",
     "text": [
      "Number of mislabeled points out of a total 430 points : 64\n",
      "\n",
      "======= Fold 3 =======\n",
      "Accuracy Score is: 84.38%\n",
      "Macro Precision score is: 84.49%\n",
      "Macro Recall score is: 83.44%\n",
      "Micro Precision score is: 84.38%\n",
      "Micro Recall score is: 84.38%\n"
     ]
    },
    {
     "data": {
      "image/png": "[encoded data removed]",
      "text/plain": [
       "<Figure size 432x288 with 2 Axes>"
      ]
     },
     "metadata": {
      "needs_background": "light"
     },
     "output_type": "display_data"
    },
    {
     "name": "stdout",
     "output_type": "stream",
     "text": [
      "Number of mislabeled points out of a total 429 points : 67\n",
      "\n",
      "======= Fold 4 =======\n",
      "Accuracy Score is: 85.55%\n",
      "Macro Precision score is: 85.17%\n",
      "Macro Recall score is: 85.44%\n",
      "Micro Precision score is: 85.55%\n",
      "Micro Recall score is: 85.55%\n"
     ]
    },
    {
     "data": {
      "image/png": "[encoded data removed]",
      "text/plain": [
       "<Figure size 432x288 with 2 Axes>"
      ]
     },
     "metadata": {
      "needs_background": "light"
     },
     "output_type": "display_data"
    },
    {
     "name": "stdout",
     "output_type": "stream",
     "text": [
      "Number of mislabeled points out of a total 429 points : 62\n",
      "Total average score across 5 folds is: 85.01%\n"
     ]
    }
   ],
   "source": [
    "classifier = CategoricalNB(min_categories = df_discretized.nunique(), fit_prior = False)\n",
    "data = df_discretized\n",
    "model(classifier, data)"
   ]
  },
  {
   "cell_type": "markdown",
   "id": "aaf8363f",
   "metadata": {},
   "source": [
    "### Complement with Modified Parameters"
   ]
  },
  {
   "cell_type": "code",
   "execution_count": 103,
   "id": "5edcc126",
   "metadata": {
    "scrolled": false
   },
   "outputs": [
    {
     "name": "stdout",
     "output_type": "stream",
     "text": [
      "\n",
      "======= Fold 0 =======\n",
      "Accuracy Score is: 83.49%\n",
      "Macro Precision score is: 83.33%\n",
      "Macro Recall score is: 84.07%\n",
      "Micro Precision score is: 83.49%\n",
      "Micro Recall score is: 83.49%\n"
     ]
    },
    {
     "data": {
      "image/png": "[encoded data removed]",
      "text/plain": [
       "<Figure size 432x288 with 2 Axes>"
      ]
     },
     "metadata": {
      "needs_background": "light"
     },
     "output_type": "display_data"
    },
    {
     "name": "stdout",
     "output_type": "stream",
     "text": [
      "Number of mislabeled points out of a total 430 points : 71\n",
      "\n",
      "======= Fold 1 =======\n",
      "Accuracy Score is: 83.26%\n",
      "Macro Precision score is: 83.49%\n",
      "Macro Recall score is: 84.22%\n",
      "Micro Precision score is: 83.26%\n",
      "Micro Recall score is: 83.26%\n"
     ]
    },
    {
     "data": {
      "image/png": "[encoded data removed]",
      "text/plain": [
       "<Figure size 432x288 with 2 Axes>"
      ]
     },
     "metadata": {
      "needs_background": "light"
     },
     "output_type": "display_data"
    },
    {
     "name": "stdout",
     "output_type": "stream",
     "text": [
      "Number of mislabeled points out of a total 430 points : 72\n",
      "\n",
      "======= Fold 2 =======\n",
      "Accuracy Score is: 84.42%\n",
      "Macro Precision score is: 84.65%\n",
      "Macro Recall score is: 85.35%\n",
      "Micro Precision score is: 84.42%\n",
      "Micro Recall score is: 84.42%\n"
     ]
    },
    {
     "data": {
      "image/png": "[encoded data removed]",
      "text/plain": [
       "<Figure size 432x288 with 2 Axes>"
      ]
     },
     "metadata": {
      "needs_background": "light"
     },
     "output_type": "display_data"
    },
    {
     "name": "stdout",
     "output_type": "stream",
     "text": [
      "Number of mislabeled points out of a total 430 points : 67\n",
      "\n",
      "======= Fold 3 =======\n",
      "Accuracy Score is: 84.15%\n",
      "Macro Precision score is: 83.83%\n",
      "Macro Recall score is: 83.73%\n",
      "Micro Precision score is: 84.15%\n",
      "Micro Recall score is: 84.15%\n"
     ]
    },
    {
     "data": {
      "image/png": "[encoded data removed]",
      "text/plain": [
       "<Figure size 432x288 with 2 Axes>"
      ]
     },
     "metadata": {
      "needs_background": "light"
     },
     "output_type": "display_data"
    },
    {
     "name": "stdout",
     "output_type": "stream",
     "text": [
      "Number of mislabeled points out of a total 429 points : 68\n",
      "\n",
      "======= Fold 4 =======\n",
      "Accuracy Score is: 86.01%\n",
      "Macro Precision score is: 85.72%\n",
      "Macro Recall score is: 86.41%\n",
      "Micro Precision score is: 86.01%\n",
      "Micro Recall score is: 86.01%\n"
     ]
    },
    {
     "data": {
      "image/png": "[encoded data removed]",
      "text/plain": [
       "<Figure size 432x288 with 2 Axes>"
      ]
     },
     "metadata": {
      "needs_background": "light"
     },
     "output_type": "display_data"
    },
    {
     "name": "stdout",
     "output_type": "stream",
     "text": [
      "Number of mislabeled points out of a total 429 points : 60\n",
      "Total average score across 5 folds is: 84.27%\n"
     ]
    }
   ],
   "source": [
    "classifier = ComplementNB(fit_prior = False)\n",
    "data = df_discretized\n",
    "model(classifier, data)"
   ]
  },
  {
   "cell_type": "markdown",
   "id": "54716d07",
   "metadata": {},
   "source": [
    "### Logistic Regression with Modified Parameters"
   ]
  },
  {
   "cell_type": "markdown",
   "id": "e33deac0",
   "metadata": {},
   "source": [
    "penalty parameters default is L2, we will change this to L1 since ours is a binary classification and L2 error is not recommended for binary classification, we will also use elasticnet which uses both L1 and L2 to see if using L1 and L2 error equally has an affect on the outcome.\n",
    "\n",
    "Changing solver to 'saga' as that is the only ones that will work with L1 and elasticnet\n",
    "\n",
    "Through trial and error, max_iter set to 4000 as that's when convergence warning no longer shows up "
   ]
  },
  {
   "cell_type": "code",
   "execution_count": 92,
   "id": "ae8b223e",
   "metadata": {},
   "outputs": [],
   "source": [
    "data = X"
   ]
  },
  {
   "cell_type": "code",
   "execution_count": 93,
   "id": "bb9df877",
   "metadata": {
    "scrolled": false
   },
   "outputs": [
    {
     "name": "stdout",
     "output_type": "stream",
     "text": [
      "\n",
      "======= Fold 0 =======\n",
      "Accuracy Score is: 87.21%\n",
      "Macro Precision score is: 86.94%\n",
      "Macro Recall score is: 86.88%\n",
      "Micro Precision score is: 87.21%\n",
      "Micro Recall score is: 87.21%\n"
     ]
    },
    {
     "data": {
      "image/png": "[encoded data removed]",
      "text/plain": [
       "<Figure size 432x288 with 2 Axes>"
      ]
     },
     "metadata": {
      "needs_background": "light"
     },
     "output_type": "display_data"
    },
    {
     "name": "stdout",
     "output_type": "stream",
     "text": [
      "Number of mislabeled points out of a total 430 points : 55\n",
      "\n",
      "======= Fold 1 =======\n",
      "Accuracy Score is: 88.37%\n",
      "Macro Precision score is: 88.03%\n",
      "Macro Recall score is: 88.32%\n",
      "Micro Precision score is: 88.37%\n",
      "Micro Recall score is: 88.37%\n"
     ]
    },
    {
     "data": {
      "image/png": "[encoded data removed]",
      "text/plain": [
       "<Figure size 432x288 with 2 Axes>"
      ]
     },
     "metadata": {
      "needs_background": "light"
     },
     "output_type": "display_data"
    },
    {
     "name": "stdout",
     "output_type": "stream",
     "text": [
      "Number of mislabeled points out of a total 430 points : 50\n",
      "\n",
      "======= Fold 2 =======\n",
      "Accuracy Score is: 85.81%\n",
      "Macro Precision score is: 85.50%\n",
      "Macro Recall score is: 86.09%\n",
      "Micro Precision score is: 85.81%\n",
      "Micro Recall score is: 85.81%\n"
     ]
    },
    {
     "data": {
      "image/png": "[encoded data removed]",
      "text/plain": [
       "<Figure size 432x288 with 2 Axes>"
      ]
     },
     "metadata": {
      "needs_background": "light"
     },
     "output_type": "display_data"
    },
    {
     "name": "stdout",
     "output_type": "stream",
     "text": [
      "Number of mislabeled points out of a total 430 points : 61\n",
      "\n",
      "======= Fold 3 =======\n",
      "Accuracy Score is: 85.55%\n",
      "Macro Precision score is: 86.58%\n",
      "Macro Recall score is: 84.11%\n",
      "Micro Precision score is: 85.55%\n",
      "Micro Recall score is: 85.55%\n"
     ]
    },
    {
     "data": {
      "image/png": "[encoded data removed]",
      "text/plain": [
       "<Figure size 432x288 with 2 Axes>"
      ]
     },
     "metadata": {
      "needs_background": "light"
     },
     "output_type": "display_data"
    },
    {
     "name": "stdout",
     "output_type": "stream",
     "text": [
      "Number of mislabeled points out of a total 429 points : 62\n",
      "\n",
      "======= Fold 4 =======\n",
      "Accuracy Score is: 89.04%\n",
      "Macro Precision score is: 88.75%\n",
      "Macro Recall score is: 88.91%\n",
      "Micro Precision score is: 89.04%\n",
      "Micro Recall score is: 89.04%\n"
     ]
    },
    {
     "data": {
      "image/png": "[encoded data removed]",
      "text/plain": [
       "<Figure size 432x288 with 2 Axes>"
      ]
     },
     "metadata": {
      "needs_background": "light"
     },
     "output_type": "display_data"
    },
    {
     "name": "stdout",
     "output_type": "stream",
     "text": [
      "Number of mislabeled points out of a total 429 points : 47\n",
      "Total average score across 5 folds is: 87.20%\n"
     ]
    }
   ],
   "source": [
    "classifier = LogisticRegression(solver = 'saga', penalty = 'l1', max_iter = 4000)\n",
    "model(classifier, data)"
   ]
  },
  {
   "cell_type": "code",
   "execution_count": 94,
   "id": "83313cbc",
   "metadata": {
    "scrolled": false
   },
   "outputs": [
    {
     "name": "stdout",
     "output_type": "stream",
     "text": [
      "\n",
      "======= Fold 0 =======\n",
      "Accuracy Score is: 87.21%\n",
      "Macro Precision score is: 86.94%\n",
      "Macro Recall score is: 86.88%\n",
      "Micro Precision score is: 87.21%\n",
      "Micro Recall score is: 87.21%\n"
     ]
    },
    {
     "data": {
      "image/png": "[encoded data removed]",
      "text/plain": [
       "<Figure size 432x288 with 2 Axes>"
      ]
     },
     "metadata": {
      "needs_background": "light"
     },
     "output_type": "display_data"
    },
    {
     "name": "stdout",
     "output_type": "stream",
     "text": [
      "Number of mislabeled points out of a total 430 points : 55\n",
      "\n",
      "======= Fold 1 =======\n",
      "Accuracy Score is: 88.14%\n",
      "Macro Precision score is: 87.80%\n",
      "Macro Recall score is: 88.05%\n",
      "Micro Precision score is: 88.14%\n",
      "Micro Recall score is: 88.14%\n"
     ]
    },
    {
     "data": {
      "image/png": "[encoded data removed]",
      "text/plain": [
       "<Figure size 432x288 with 2 Axes>"
      ]
     },
     "metadata": {
      "needs_background": "light"
     },
     "output_type": "display_data"
    },
    {
     "name": "stdout",
     "output_type": "stream",
     "text": [
      "Number of mislabeled points out of a total 430 points : 51\n",
      "\n",
      "======= Fold 2 =======\n",
      "Accuracy Score is: 85.81%\n",
      "Macro Precision score is: 85.50%\n",
      "Macro Recall score is: 86.09%\n",
      "Micro Precision score is: 85.81%\n",
      "Micro Recall score is: 85.81%\n"
     ]
    },
    {
     "data": {
      "image/png": "[encoded data removed]",
      "text/plain": [
       "<Figure size 432x288 with 2 Axes>"
      ]
     },
     "metadata": {
      "needs_background": "light"
     },
     "output_type": "display_data"
    },
    {
     "name": "stdout",
     "output_type": "stream",
     "text": [
      "Number of mislabeled points out of a total 430 points : 61\n",
      "\n",
      "======= Fold 3 =======\n",
      "Accuracy Score is: 85.55%\n",
      "Macro Precision score is: 86.58%\n",
      "Macro Recall score is: 84.11%\n",
      "Micro Precision score is: 85.55%\n",
      "Micro Recall score is: 85.55%\n"
     ]
    },
    {
     "data": {
      "image/png": "[encoded data removed]",
      "text/plain": [
       "<Figure size 432x288 with 2 Axes>"
      ]
     },
     "metadata": {
      "needs_background": "light"
     },
     "output_type": "display_data"
    },
    {
     "name": "stdout",
     "output_type": "stream",
     "text": [
      "Number of mislabeled points out of a total 429 points : 62\n",
      "\n",
      "======= Fold 4 =======\n",
      "Accuracy Score is: 88.58%\n",
      "Macro Precision score is: 88.31%\n",
      "Macro Recall score is: 88.36%\n",
      "Micro Precision score is: 88.58%\n",
      "Micro Recall score is: 88.58%\n"
     ]
    },
    {
     "data": {
      "image/png": "[encoded data removed]",
      "text/plain": [
       "<Figure size 432x288 with 2 Axes>"
      ]
     },
     "metadata": {
      "needs_background": "light"
     },
     "output_type": "display_data"
    },
    {
     "name": "stdout",
     "output_type": "stream",
     "text": [
      "Number of mislabeled points out of a total 429 points : 49\n",
      "Total average score across 5 folds is: 87.06%\n"
     ]
    }
   ],
   "source": [
    "classifier = LogisticRegression(solver = 'saga', penalty = 'elasticnet', l1_ratio = 0.5, max_iter = 4000)\n",
    "model(classifier, data)"
   ]
  },
  {
   "cell_type": "markdown",
   "id": "c80780e7",
   "metadata": {},
   "source": [
    "### Multi-Layer Perceptron with Modified Parameters"
   ]
  },
  {
   "cell_type": "markdown",
   "id": "00856fe0",
   "metadata": {},
   "source": [
    "default solver is 'adam', modified to 'lbfgs' as its supposed to work better with small datasets (according to the sklearn MLP documentaion) like ours.\n",
    "\n",
    "default activation is 'relu', modified to 'tanh' and 'identity' to see the difference between the two\n",
    "\n",
    "default max_iter to convergence is 200. With default value, convergance wasn't being reached. changed to 300."
   ]
  },
  {
   "cell_type": "code",
   "execution_count": 106,
   "id": "016f600f",
   "metadata": {},
   "outputs": [],
   "source": [
    "data = X"
   ]
  },
  {
   "cell_type": "code",
   "execution_count": 110,
   "id": "25a07b23",
   "metadata": {
    "scrolled": false
   },
   "outputs": [
    {
     "name": "stdout",
     "output_type": "stream",
     "text": [
      "\n",
      "======= Fold 0 =======\n",
      "Accuracy Score is: 83.49%\n",
      "Macro Precision score is: 83.10%\n",
      "Macro Recall score is: 83.15%\n",
      "Micro Precision score is: 83.49%\n",
      "Micro Recall score is: 83.49%\n"
     ]
    },
    {
     "data": {
      "image/png": "[encoded data removed]",
      "text/plain": [
       "<Figure size 432x288 with 2 Axes>"
      ]
     },
     "metadata": {
      "needs_background": "light"
     },
     "output_type": "display_data"
    },
    {
     "name": "stdout",
     "output_type": "stream",
     "text": [
      "Number of mislabeled points out of a total 430 points : 71\n",
      "\n",
      "======= Fold 1 =======\n",
      "Accuracy Score is: 84.19%\n",
      "Macro Precision score is: 83.79%\n",
      "Macro Recall score is: 83.97%\n",
      "Micro Precision score is: 84.19%\n",
      "Micro Recall score is: 84.19%\n"
     ]
    },
    {
     "data": {
      "image/png": "[encoded data removed]",
      "text/plain": [
       "<Figure size 432x288 with 2 Axes>"
      ]
     },
     "metadata": {
      "needs_background": "light"
     },
     "output_type": "display_data"
    },
    {
     "name": "stdout",
     "output_type": "stream",
     "text": [
      "Number of mislabeled points out of a total 430 points : 68\n",
      "\n",
      "======= Fold 2 =======\n",
      "Accuracy Score is: 81.63%\n",
      "Macro Precision score is: 81.24%\n",
      "Macro Recall score is: 81.68%\n",
      "Micro Precision score is: 81.63%\n",
      "Micro Recall score is: 81.63%\n"
     ]
    },
    {
     "data": {
      "image/png": "[encoded data removed]",
      "text/plain": [
       "<Figure size 432x288 with 2 Axes>"
      ]
     },
     "metadata": {
      "needs_background": "light"
     },
     "output_type": "display_data"
    },
    {
     "name": "stdout",
     "output_type": "stream",
     "text": [
      "Number of mislabeled points out of a total 430 points : 79\n",
      "\n",
      "======= Fold 3 =======\n",
      "Accuracy Score is: 81.82%\n",
      "Macro Precision score is: 82.06%\n",
      "Macro Recall score is: 80.58%\n",
      "Micro Precision score is: 81.82%\n",
      "Micro Recall score is: 81.82%\n"
     ]
    },
    {
     "data": {
      "image/png": "[encoded data removed]",
      "text/plain": [
       "<Figure size 432x288 with 2 Axes>"
      ]
     },
     "metadata": {
      "needs_background": "light"
     },
     "output_type": "display_data"
    },
    {
     "name": "stdout",
     "output_type": "stream",
     "text": [
      "Number of mislabeled points out of a total 429 points : 78\n",
      "\n",
      "======= Fold 4 =======\n",
      "Accuracy Score is: 81.59%\n",
      "Macro Precision score is: 81.15%\n",
      "Macro Recall score is: 81.42%\n",
      "Micro Precision score is: 81.59%\n",
      "Micro Recall score is: 81.59%\n"
     ]
    },
    {
     "data": {
      "image/png": "[encoded data removed]",
      "text/plain": [
       "<Figure size 432x288 with 2 Axes>"
      ]
     },
     "metadata": {
      "needs_background": "light"
     },
     "output_type": "display_data"
    },
    {
     "name": "stdout",
     "output_type": "stream",
     "text": [
      "Number of mislabeled points out of a total 429 points : 79\n",
      "Total average score across 5 folds is: 82.54%\n"
     ]
    }
   ],
   "source": [
    "classifier = MLPClassifier(solver = 'lbfgs', activation = 'tanh', max_iter = 400)\n",
    "model(classifier, data)"
   ]
  },
  {
   "cell_type": "code",
   "execution_count": 109,
   "id": "b96cb15c",
   "metadata": {
    "scrolled": false
   },
   "outputs": [
    {
     "name": "stdout",
     "output_type": "stream",
     "text": [
      "\n",
      "======= Fold 0 =======\n",
      "Accuracy Score is: 87.21%\n",
      "Macro Precision score is: 86.94%\n",
      "Macro Recall score is: 86.88%\n",
      "Micro Precision score is: 87.21%\n",
      "Micro Recall score is: 87.21%\n"
     ]
    },
    {
     "data": {
      "image/png": "[encoded data removed]",
      "text/plain": [
       "<Figure size 432x288 with 2 Axes>"
      ]
     },
     "metadata": {
      "needs_background": "light"
     },
     "output_type": "display_data"
    },
    {
     "name": "stdout",
     "output_type": "stream",
     "text": [
      "Number of mislabeled points out of a total 430 points : 55\n",
      "\n",
      "======= Fold 1 =======\n",
      "Accuracy Score is: 89.07%\n",
      "Macro Precision score is: 88.89%\n",
      "Macro Recall score is: 88.72%\n",
      "Micro Precision score is: 89.07%\n",
      "Micro Recall score is: 89.07%\n"
     ]
    },
    {
     "data": {
      "image/png": "[encoded data removed]",
      "text/plain": [
       "<Figure size 432x288 with 2 Axes>"
      ]
     },
     "metadata": {
      "needs_background": "light"
     },
     "output_type": "display_data"
    },
    {
     "name": "stdout",
     "output_type": "stream",
     "text": [
      "Number of mislabeled points out of a total 430 points : 47\n",
      "\n",
      "======= Fold 2 =======\n",
      "Accuracy Score is: 87.21%\n",
      "Macro Precision score is: 86.88%\n",
      "Macro Recall score is: 87.45%\n",
      "Micro Precision score is: 87.21%\n",
      "Micro Recall score is: 87.21%\n"
     ]
    },
    {
     "data": {
      "image/png": "[encoded data removed]",
      "text/plain": [
       "<Figure size 432x288 with 2 Axes>"
      ]
     },
     "metadata": {
      "needs_background": "light"
     },
     "output_type": "display_data"
    },
    {
     "name": "stdout",
     "output_type": "stream",
     "text": [
      "Number of mislabeled points out of a total 430 points : 55\n",
      "\n",
      "======= Fold 3 =======\n",
      "Accuracy Score is: 85.55%\n",
      "Macro Precision score is: 86.58%\n",
      "Macro Recall score is: 84.11%\n",
      "Micro Precision score is: 85.55%\n",
      "Micro Recall score is: 85.55%\n"
     ]
    },
    {
     "data": {
      "image/png": "[encoded data removed]",
      "text/plain": [
       "<Figure size 432x288 with 2 Axes>"
      ]
     },
     "metadata": {
      "needs_background": "light"
     },
     "output_type": "display_data"
    },
    {
     "name": "stdout",
     "output_type": "stream",
     "text": [
      "Number of mislabeled points out of a total 429 points : 62\n",
      "\n",
      "======= Fold 4 =======\n",
      "Accuracy Score is: 89.28%\n",
      "Macro Precision score is: 89.01%\n",
      "Macro Recall score is: 89.11%\n",
      "Micro Precision score is: 89.28%\n",
      "Micro Recall score is: 89.28%\n"
     ]
    },
    {
     "data": {
      "image/png": "[encoded data removed]",
      "text/plain": [
       "<Figure size 432x288 with 2 Axes>"
      ]
     },
     "metadata": {
      "needs_background": "light"
     },
     "output_type": "display_data"
    },
    {
     "name": "stdout",
     "output_type": "stream",
     "text": [
      "Number of mislabeled points out of a total 429 points : 46\n",
      "Total average score across 5 folds is: 87.66%\n"
     ]
    }
   ],
   "source": [
    "classifier = MLPClassifier(solver = 'lbfgs', activation = 'identity', max_iter = 400)\n",
    "model(classifier, data)"
   ]
  },
  {
   "cell_type": "markdown",
   "id": "f3ecc592",
   "metadata": {},
   "source": [
    "# Section 10: Results"
   ]
  },
  {
   "cell_type": "markdown",
   "id": "e1d7c2b0",
   "metadata": {},
   "source": [
    "### Part A: Quantitative Comparison of 9 results"
   ]
  },
  {
   "cell_type": "markdown",
   "id": "0cba7d0a",
   "metadata": {},
   "source": [
    "With default parameters:\n",
    "- Naïve Bayes Categorical average accuracy score across the 5 folds was 85.10%\n",
    "- Naïve Bayes Complement average accuracy score across the 5 folds was 84.27%\n",
    "- Logistic Regression average accuracy score across the 5 folds was 87.01%\n",
    "- MLP average accuracy score across the 5 folds was 87.66%\n",
    "\n",
    "Overall, with default parameters, the best performers have been MLP and Logistic Regression classifiers. \n",
    "\n",
    "\n",
    "With changed parameters: \n",
    "- For the Naïve Bayes classifiers, the fit_prior was changed to see the affect of imbalanced data on the accuracy score. \n",
    "    - For Categorical classifier, there was a very small change of -0.09%, bringing down the accuracy score to 85.01%. \n",
    "    - For the Complement classifier, there was no change at all and so the accuracy score stayed at 84.27%. \n",
    "   \n",
    "   - There was no change or very small change in accuracy scores. This likely implies that the StratifiedKFold performed on the data was effective and did a good job of balancing the training/testing sets. \n",
    "\n",
    "- For the Logistic Regression classifier, the solver was set to \"saga\", max_iter was set to 4000, and 2 instances of penalty was tested, namely 'L1' and 'elasticnet'. We used \"saga\" as it is the only solver that allows the use of penalty = \"elasticnet\", which allows us to use both L1 and L2 error in combination. max_iter was set to 4000 through trial and error to get rid of the Convergence Error due to max number of iterations reached. \n",
    "    - When using L1 error, there was a slight improvement of 0.19%, bringing up the accuracy score to  87.20%\n",
    "    - When using elasticnet, there was a very small improvement of 0.05%, bringing up the accuracy score to 87.06%\n",
    "  - The greater improvement in using L1 error as opposed to combination of L1 and L2 error or just L2 error likely implies that L1 error really is better for binary classification. With a larger dataset there might be more significant results. \n",
    "  \n",
    "- For the MLP classifier, the solver was set to \"lgbfs\", max_iter was set to 400, and 2 instances of activation was tested, namely \"tanh\" and \"identity\". We used \"lgbfs\" as it is supposed to work better with smaller datasets like ours, max_iter was set to 400 through trial and error to get rid of the Convergence Error due to max number of iterations reached. \n",
    "   - When using \"tanh\" activation with \"lgbfs\" solver, there was significant change of -5.12%, bringing down the accuracy score to 82.54%.\n",
    "   - When using \"identity\" activation with \"lgbfs\" solver, there was no change, and so the accuracy score stayed at 87.66%.\n",
    "  - The significant decrease on accuracy score when using lgbfs and tanh, and the no change in score when using lgbfs and identity likely implies that lgbfs is not the best solver to use for our dataset\n",
    "  \n",
    "Overall, with changed parameters, the best performer has been the Logistic Regression classifier. \n",
    "\n",
    "Given the choice, it would make most sense to pick Logistic Regression for this dataset, as it is generally known to be the go to choice for binary classification. "
   ]
  },
  {
   "cell_type": "markdown",
   "id": "ed2ad7a2",
   "metadata": {},
   "source": [
    "### Part B: Examples of Good and Bad Results"
   ]
  },
  {
   "cell_type": "code",
   "execution_count": null,
   "id": "84f5b8fe",
   "metadata": {},
   "outputs": [],
   "source": []
  },
  {
   "cell_type": "markdown",
   "id": "b4b8a8e3",
   "metadata": {},
   "source": [
    "# Sources\n",
    "\n",
    "### Dataset used:\n",
    "https://www.kaggle.com/datasets/muratkokludataset/pistachio-image-dataset\n",
    "\n",
    "\n",
    "### Citations requested by the owner of the dataset: \n",
    "\n",
    "OZKAN IA., KOKLU M. and SARACOGLU R. (2021). Classification of Pistachio Species Using Improved K-NN Classifier. Progress in Nutrition, Vol. 23, N. 2, pp. DOI:10.23751/pn.v23i2.9686. (Open Access) https://www.mattioli1885journals.com/index.php/progressinnutrition/article/view/9686/9178\n",
    "\n",
    "SINGH D, TASPINAR YS, KURSUN R, CINAR I, KOKLU M, OZKAN IA, LEE H-N., (2022). Classification and Analysis of Pistachio Species with Pre-Trained Deep Learning Models, Electronics, 11 (7), 981. https://doi.org/10.3390/electronics11070981. (Open Access)\n",
    "\n",
    "### Sources used for different models:\n",
    "https://scikit-learn.org/stable/modules/generated/sklearn.linear_model.LogisticRegression.html\n",
    "\n",
    "https://scikit-learn.org/stable/modules/generated/sklearn.neural_network.MLPClassifier.html\n",
    "\n",
    "https://scikit-learn.org/stable/modules/generated/sklearn.naive_bayes.CategoricalNB.html\n",
    "\n",
    "https://scikit-learn.org/stable/modules/generated/sklearn.naive_bayes.ComplementNB.html\n",
    "\n",
    "### Sources used to calculate bin sized for data discretization:\n",
    "https://en.wikipedia.org/wiki/Freedman–Diaconis_rule\n",
    "\n",
    "https://stats.stackexchange.com/questions/798/calculating-optimal-number-of-bins-in-a-histogram\n",
    "\n",
    "\n",
    "\n",
    "### Sources used for Cross Validation:\n",
    "https://www.youtube.com/watch?v=-8s9KuNo5SA\n",
    "\n",
    "https://scikit-learn.org/stable/auto_examples/model_selection/plot_cv_indices.html\n",
    "\n",
    "### Sources used for general pistachio information:\n",
    "https://en.wikipedia.org/wiki/Pistachio\n",
    "\n",
    "### Sources used for pictures/figures:\n",
    "Figure 1: https://www.dagtarimsaldanismanlik.com/antep-fistigi-gubreleme.html\n",
    "\n",
    "Figure 2: https://www.hepsiburada.com/plantistanbul-antep-fistigi-fidani-60-80-cm-saksida-pm-HB00000O53UC\n",
    "\n",
    "Figure 3: http://biodels.com/content/pistachio-kernels \n",
    "\n",
    "Figure 4: https://www.fidandeposu.com/siirt-cesidi-antep-fistigi-fidani\n",
    "\n",
    "Figure 5: https://www.fidandeposu.com/kirmizi-cesidi-antep-fistigi-fidani\n",
    "\n",
    "Figure 6: https://www.mattioli1885journals.com/index.php/progressinnutrition/article/view/9686/9178"
   ]
  },
  {
   "cell_type": "code",
   "execution_count": null,
   "id": "5227d41c",
   "metadata": {},
   "outputs": [],
   "source": []
  }
 ],
 "metadata": {
  "kernelspec": {
   "display_name": "Python 3 (ipykernel)",
   "language": "python",
   "name": "python3"
  },
  "language_info": {
   "codemirror_mode": {
    "name": "ipython",
    "version": 3
   },
   "file_extension": ".py",
   "mimetype": "text/x-python",
   "name": "python",
   "nbconvert_exporter": "python",
   "pygments_lexer": "ipython3",
   "version": "3.9.12"
  }
 },
 "nbformat": 4,
 "nbformat_minor": 5
}
